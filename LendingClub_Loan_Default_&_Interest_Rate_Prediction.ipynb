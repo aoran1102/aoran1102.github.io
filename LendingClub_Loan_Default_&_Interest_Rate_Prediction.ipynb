{
  "nbformat": 4,
  "nbformat_minor": 0,
  "metadata": {
    "colab": {
      "provenance": [],
      "toc_visible": true,
      "include_colab_link": true
    },
    "kernelspec": {
      "name": "python3",
      "display_name": "Python 3"
    }
  },
  "cells": [
    {
      "cell_type": "markdown",
      "metadata": {
        "id": "view-in-github",
        "colab_type": "text"
      },
      "source": [
        "<a href=\"https://colab.research.google.com/github/aoran1102/aoran1102.github.io/blob/master/LendingClub_Loan_Default_%26_Interest_Rate_Prediction.ipynb\" target=\"_parent\"><img src=\"https://colab.research.google.com/assets/colab-badge.svg\" alt=\"Open In Colab\"/></a>"
      ]
    },
    {
      "cell_type": "markdown",
      "metadata": {
        "id": "8_ulXs4rvZMa"
      },
      "source": [
        "# LendingClub Loan Default & Interest Rate Prediction"
      ]
    },
    {
      "cell_type": "markdown",
      "metadata": {
        "id": "0KVC48UVhss2"
      },
      "source": [
        "#Background\n",
        "![image.png](data:image/png;base64,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)\n",
        "\n",
        "LendingClub,is a trailblazer in the U.S. peer-to-peer lending industry, notable for being the first such company to register its offerings with the SEC and to facilitate loan trading on a secondary market. In this project, we leverages this rich context by supervised learning models to predict potential loan defaults and determine appropriate interest rates for loans issued through LendingClub's online platform. By predicting default probabilities and interest rates, the project aims to enhance risk management and pricing strategies, thus supporting LendingClub's mission to provide a secure and efficient lending environment for borrowers and investors alike."
      ]
    },
    {
      "cell_type": "markdown",
      "metadata": {
        "id": "TYsteaRmSMsx"
      },
      "source": [
        "# Part 0: Setup Google Drive Environment & Load Data\n",
        "\n"
      ]
    },
    {
      "cell_type": "code",
      "metadata": {
        "id": "zlhTqS1oSJnr",
        "colab": {
          "base_uri": "https://localhost:8080/"
        },
        "outputId": "7ef00aea-59b8-428f-e717-0e835522f259"
      },
      "source": [
        "import pandas as pd\n",
        "import numpy as np\n",
        "\n",
        "from tabulate import tabulate\n",
        "\n",
        "\n",
        "from sklearn.ensemble import RandomForestRegressor\n",
        "from sklearn.model_selection import train_test_split\n",
        "\n",
        "\n",
        "from pydrive.auth import GoogleAuth\n",
        "from pydrive.drive import GoogleDrive\n",
        "from google.colab import auth\n",
        "from oauth2client.client import GoogleCredentials\n",
        "# correlation heat map of numerical features\n",
        "import seaborn as sns\n",
        "import matplotlib.pyplot as plt\n",
        "\n",
        "auth.authenticate_user()\n",
        "gauth = GoogleAuth()\n",
        "gauth.credentials = GoogleCredentials.get_application_default()\n",
        "drive = GoogleDrive(gauth)\n",
        "\n",
        "link = 'https://drive.google.com/open?id=1VOAhrB5eIhFc8C5qeFx5QYa2OLD7s1eV'\n",
        "fluff, id = link.split('=')\n",
        "file = drive.CreateFile({'id':id})\n",
        "file.GetContentFile('loan-clean-version.csv')\n",
        "df  = pd.read_csv('loan-clean-version.csv')\n"
      ],
      "execution_count": 1,
      "outputs": [
        {
          "output_type": "stream",
          "name": "stderr",
          "text": [
            "WARNING:root:pydrive is deprecated and no longer maintained. We recommend that you migrate your projects to pydrive2, the maintained fork of pydrive\n"
          ]
        }
      ]
    },
    {
      "cell_type": "markdown",
      "metadata": {
        "id": "f5atgrbs3Xy2"
      },
      "source": [
        "# Part 1: Data Exploration"
      ]
    },
    {
      "cell_type": "markdown",
      "metadata": {
        "id": "xOlY6DdI8VUN"
      },
      "source": [
        "#1.1 Understand the Raw Dataset"
      ]
    },
    {
      "cell_type": "markdown",
      "source": [
        "We have a dataset consisting of 9,004 records and 29 features. Out of these 29 features, 21 are numeric. Only two features, *emp_length* and *revol_util*, have missing values."
      ],
      "metadata": {
        "id": "OZbpC_CSyJIc"
      }
    },
    {
      "cell_type": "code",
      "metadata": {
        "id": "UI67dNVV83cC",
        "colab": {
          "base_uri": "https://localhost:8080/"
        },
        "outputId": "2e98ad02-86c7-4942-85a4-617b1684993d"
      },
      "source": [
        "# check data info\n",
        "df.info()"
      ],
      "execution_count": 2,
      "outputs": [
        {
          "output_type": "stream",
          "name": "stdout",
          "text": [
            "<class 'pandas.core.frame.DataFrame'>\n",
            "RangeIndex: 9004 entries, 0 to 9003\n",
            "Data columns (total 29 columns):\n",
            " #   Column               Non-Null Count  Dtype  \n",
            "---  ------               --------------  -----  \n",
            " 0   id                   9004 non-null   int64  \n",
            " 1   loan_amnt            9004 non-null   int64  \n",
            " 2   funded_amnt          9004 non-null   int64  \n",
            " 3   funded_amnt_inv      9004 non-null   float64\n",
            " 4   term                 9004 non-null   object \n",
            " 5   int_rate             9004 non-null   float64\n",
            " 6   installment          9004 non-null   float64\n",
            " 7   grade                9004 non-null   object \n",
            " 8   emp_length           8688 non-null   object \n",
            " 9   home_ownership       9004 non-null   object \n",
            " 10  annual_inc           9004 non-null   float64\n",
            " 11  verification_status  9004 non-null   object \n",
            " 12  purpose              9004 non-null   object \n",
            " 13  addr_state           9004 non-null   object \n",
            " 14  dti                  9004 non-null   float64\n",
            " 15  earliest_cr_line     9004 non-null   int64  \n",
            " 16  inq_last_6mths       9004 non-null   int64  \n",
            " 17  open_acc             9004 non-null   int64  \n",
            " 18  pub_rec              9004 non-null   int64  \n",
            " 19  revol_bal            9004 non-null   int64  \n",
            " 20  revol_util           9001 non-null   float64\n",
            " 21  total_acc            9004 non-null   int64  \n",
            " 22  out_prncp            9004 non-null   int64  \n",
            " 23  out_prncp_inv        9004 non-null   int64  \n",
            " 24  total_pymnt          9004 non-null   float64\n",
            " 25  total_pymnt_inv      9004 non-null   float64\n",
            " 26  total_rec_prncp      9004 non-null   float64\n",
            " 27  total_rec_int        9004 non-null   float64\n",
            " 28  loan_status          9004 non-null   object \n",
            "dtypes: float64(10), int64(11), object(8)\n",
            "memory usage: 2.0+ MB\n"
          ]
        }
      ]
    },
    {
      "cell_type": "code",
      "metadata": {
        "id": "0nEE88WM_dZ9",
        "colab": {
          "base_uri": "https://localhost:8080/"
        },
        "outputId": "f6b5b57b-57c1-40f4-8481-969f22116a4d"
      },
      "source": [
        "# check missing values\n",
        "df.isnull().sum()"
      ],
      "execution_count": 3,
      "outputs": [
        {
          "output_type": "execute_result",
          "data": {
            "text/plain": [
              "id                       0\n",
              "loan_amnt                0\n",
              "funded_amnt              0\n",
              "funded_amnt_inv          0\n",
              "term                     0\n",
              "int_rate                 0\n",
              "installment              0\n",
              "grade                    0\n",
              "emp_length             316\n",
              "home_ownership           0\n",
              "annual_inc               0\n",
              "verification_status      0\n",
              "purpose                  0\n",
              "addr_state               0\n",
              "dti                      0\n",
              "earliest_cr_line         0\n",
              "inq_last_6mths           0\n",
              "open_acc                 0\n",
              "pub_rec                  0\n",
              "revol_bal                0\n",
              "revol_util               3\n",
              "total_acc                0\n",
              "out_prncp                0\n",
              "out_prncp_inv            0\n",
              "total_pymnt              0\n",
              "total_pymnt_inv          0\n",
              "total_rec_prncp          0\n",
              "total_rec_int            0\n",
              "loan_status              0\n",
              "dtype: int64"
            ]
          },
          "metadata": {},
          "execution_count": 3
        }
      ]
    },
    {
      "cell_type": "markdown",
      "source": [
        "We will focus on default and interest rate predictions for small loans up to $35k. Currently, the interest rate is right-skewed with capped by 25% .\n",
        "\n",
        "The default rate and losses of these small loans were relatively high, with 17% of the loans having defaulted and 43% of losses on these defaulted loans. Thus, it is essential for the company to enhance small loan's default management and pricing strategies to boost its profitability."
      ],
      "metadata": {
        "id": "W0vYgQMe4_Yl"
      }
    },
    {
      "cell_type": "code",
      "source": [
        "fig,axss = plt.subplots(1,2, figsize=[16,4])\n",
        "df[\"loan_amnt\"].plot(kind='hist', bins=5, color = 'blue', edgecolor='black', alpha=0.7,title = 'Loan Records by Loan Amount', ax = axss[0])\n",
        "df[\"int_rate\"].plot(kind='hist', bins=5, color = 'blue', edgecolor='black', alpha=0.7,title = 'Distribution of Interest Rates', ax = axss[1])"
      ],
      "metadata": {
        "colab": {
          "base_uri": "https://localhost:8080/",
          "height": 408
        },
        "id": "D0nKfl4ZUWio",
        "outputId": "e85ff99c-65a6-4b98-a0c8-514e9efdc1a2"
      },
      "execution_count": 4,
      "outputs": [
        {
          "output_type": "execute_result",
          "data": {
            "text/plain": [
              "<Axes: title={'center': 'Distribution of Interest Rates'}, ylabel='Frequency'>"
            ]
          },
          "metadata": {},
          "execution_count": 4
        },
        {
          "output_type": "display_data",
          "data": {
            "text/plain": [
              "<Figure size 1600x400 with 2 Axes>"
            ],
            "image/png": "[encoded data removed]"
          },
          "metadata": {}
        }
      ]
    },
    {
      "cell_type": "code",
      "metadata": {
        "id": "03oucQw4aESz",
        "colab": {
          "base_uri": "https://localhost:8080/"
        },
        "outputId": "afa20769-4817-45c2-bc64-1abcce5c7cdb"
      },
      "source": [
        "# check the distribution of target variable1 loan_status\n",
        "round(df['loan_status'].value_counts(normalize=True),2)"
      ],
      "execution_count": 5,
      "outputs": [
        {
          "output_type": "execute_result",
          "data": {
            "text/plain": [
              "loan_status\n",
              "Fully Paid     0.83\n",
              "Charged Off    0.17\n",
              "Name: proportion, dtype: float64"
            ]
          },
          "metadata": {},
          "execution_count": 5
        }
      ]
    },
    {
      "cell_type": "code",
      "source": [
        "# get the % of loss by default\n",
        "round(1 - sum(df['total_pymnt'][df['loan_status']=='Charged Off'])/sum(df['funded_amnt'][df['loan_status']=='Charged Off']),2)"
      ],
      "metadata": {
        "colab": {
          "base_uri": "https://localhost:8080/"
        },
        "id": "CplJZWf-1m5O",
        "outputId": "9a5163fd-b810-46db-9cf9-485de27c8e94"
      },
      "execution_count": 6,
      "outputs": [
        {
          "output_type": "execute_result",
          "data": {
            "text/plain": [
              "0.43"
            ]
          },
          "metadata": {},
          "execution_count": 6
        }
      ]
    },
    {
      "cell_type": "markdown",
      "metadata": {
        "id": "Xwq5gnxcOnoQ"
      },
      "source": [
        "#1.2 EDA\n",
        "\n"
      ]
    },
    {
      "cell_type": "markdown",
      "source": [
        "###1.2.1 Basic Descriptive Analysis"
      ],
      "metadata": {
        "id": "JPosgMsFUgXl"
      }
    },
    {
      "cell_type": "markdown",
      "source": [
        "Most of loans were used for debt consolidation and credit card."
      ],
      "metadata": {
        "id": "jLru1Mo2BJNo"
      }
    },
    {
      "cell_type": "code",
      "metadata": {
        "id": "vwcr_UncQBfK",
        "colab": {
          "base_uri": "https://localhost:8080/",
          "height": 469
        },
        "outputId": "7be395e7-8e81-4731-9276-2cecb849c0e7"
      },
      "source": [
        "# explore purpose category\n",
        "df['purpose'].value_counts(normalize=True).plot(kind='barh',title = '% of Loan Records by Loan Purpose')\n"
      ],
      "execution_count": 7,
      "outputs": [
        {
          "output_type": "execute_result",
          "data": {
            "text/plain": [
              "<Axes: title={'center': '% of Loan Records by Loan Purpose'}, ylabel='purpose'>"
            ]
          },
          "metadata": {},
          "execution_count": 7
        },
        {
          "output_type": "display_data",
          "data": {
            "text/plain": [
              "<Figure size 640x480 with 1 Axes>"
            ],
            "image/png": "[encoded data removed]"
          },
          "metadata": {}
        }
      ]
    },
    {
      "cell_type": "markdown",
      "source": [
        "Most borrowers had less than 10 years of employment, justifying why few of them owned their homes."
      ],
      "metadata": {
        "id": "7G8ymTiIGmpZ"
      }
    },
    {
      "cell_type": "code",
      "source": [
        "# explore home ownership & emp_length category\n",
        "fig,axss = plt.subplots(1,2, figsize=[16,4])\n",
        "df[\"emp_length\"].value_counts(normalize=True).plot(kind='bar',title = '% of Loan Records by Employment Length', ax=axss[0])\n",
        "df[\"home_ownership\"].value_counts(normalize=True).plot(kind='bar', title = '% of Loan Records by Home Ownership', ax=axss[1])"
      ],
      "metadata": {
        "colab": {
          "base_uri": "https://localhost:8080/",
          "height": 528
        },
        "id": "yhv9QsBeBA5v",
        "outputId": "59114797-ff7c-40e7-fc2f-2cc1e45d5b3b"
      },
      "execution_count": 8,
      "outputs": [
        {
          "output_type": "execute_result",
          "data": {
            "text/plain": [
              "<Axes: title={'center': '% of Loan Records by Home Ownership'}, xlabel='home_ownership'>"
            ]
          },
          "metadata": {},
          "execution_count": 8
        },
        {
          "output_type": "display_data",
          "data": {
            "text/plain": [
              "<Figure size 1600x400 with 2 Axes>"
            ],
            "image/png": "[encoded data removed]"
          },
          "metadata": {}
        }
      ]
    },
    {
      "cell_type": "markdown",
      "source": [
        "More loans were insured in CA, TX, FL and NY, which was reasonable since these states were with higher populations or more developed with extensive financial activities."
      ],
      "metadata": {
        "id": "E7v4uK33JQYR"
      }
    },
    {
      "cell_type": "code",
      "source": [
        "# total loan counts issued by State\n",
        "df_location = df.groupby(\"addr_state\",).count().reset_index()\n",
        "df_location = df_location.filter([\"addr_state\", \"loan_amnt\"], axis = 1)\n",
        "\n",
        "import plotly.graph_objects as go\n",
        "\n",
        "fig = go.Figure(data=go.Choropleth(\n",
        "    locations=df_location['addr_state'], # Spatial coordinates\n",
        "    z = df_location['loan_amnt'].astype(float), # Data to be color-coded\n",
        "    locationmode = 'USA-states', # set of locations match entries in `locations`\n",
        "    colorscale = 'Reds',\n",
        "    colorbar_title = \"Counts\",\n",
        "))\n",
        "\n",
        "fig.update_layout(\n",
        "    title_text = 'Total Loans Issued by State',\n",
        "    geo_scope='usa', # limited map scope to USA\n",
        "    width=800,  # width of the figure in pixels\n",
        "    height=600  # height of the figure in pixels\n",
        ")\n",
        "\n",
        "fig.show()"
      ],
      "metadata": {
        "colab": {
          "base_uri": "https://localhost:8080/",
          "height": 617
        },
        "id": "kLam3_QkH1My",
        "outputId": "0662fe14-86bb-44e5-e318-b5126f9598b6"
      },
      "execution_count": 9,
      "outputs": [
        {
          "output_type": "display_data",
          "data": {
            "text/html": [
              "<html>\n",
              "<head><meta charset=\"utf-8\" /></head>\n",
              "<body>\n",
              "    <div>            <script src=\"https://cdnjs.cloudflare.com/ajax/libs/mathjax/2.7.5/MathJax.js?config=TeX-AMS-MML_SVG\"></script><script type=\"text/javascript\">if (window.MathJax && window.MathJax.Hub && window.MathJax.Hub.Config) {window.MathJax.Hub.Config({SVG: {font: \"STIX-Web\"}});}</script>                <script type=\"text/javascript\">window.PlotlyConfig = {MathJaxConfig: 'local'};</script>\n",
              "        <script charset=\"utf-8\" src=\"https://cdn.plot.ly/plotly-2.24.1.min.js\"></script>                <div id=\"900c2a19-5398-4747-a62b-cac649100f90\" class=\"plotly-graph-div\" style=\"height:600px; width:800px;\"></div>            <script type=\"text/javascript\">                                    window.PLOTLYENV=window.PLOTLYENV || {};                                    if (document.getElementById(\"900c2a19-5398-4747-a62b-cac649100f90\")) {                    Plotly.newPlot(                        \"900c2a19-5398-4747-a62b-cac649100f90\",                        [{\"colorbar\":{\"title\":{\"text\":\"Counts\"}},\"colorscale\":[[0.0,\"rgb(255,245,240)\"],[0.125,\"rgb(254,224,210)\"],[0.25,\"rgb(252,187,161)\"],[0.375,\"rgb(252,146,114)\"],[0.5,\"rgb(251,106,74)\"],[0.625,\"rgb(239,59,44)\"],[0.75,\"rgb(203,24,29)\"],[0.875,\"rgb(165,15,21)\"],[1.0,\"rgb(103,0,13)\"]],\"locationmode\":\"USA-states\",\"locations\":[\"AK\",\"AL\",\"AR\",\"AZ\",\"CA\",\"CO\",\"CT\",\"DC\",\"DE\",\"FL\",\"GA\",\"HI\",\"IL\",\"KS\",\"KY\",\"LA\",\"MA\",\"MD\",\"MI\",\"MN\",\"MO\",\"MS\",\"MT\",\"NC\",\"NH\",\"NJ\",\"NM\",\"NV\",\"NY\",\"OH\",\"OK\",\"OR\",\"PA\",\"RI\",\"SC\",\"SD\",\"TN\",\"TX\",\"UT\",\"VA\",\"VT\",\"WA\",\"WI\",\"WV\",\"WY\"],\"z\":[24.0,96.0,67.0,201.0,1663.0,163.0,175.0,47.0,26.0,668.0,291.0,53.0,369.0,75.0,74.0,98.0,218.0,215.0,138.0,144.0,172.0,1.0,18.0,256.0,35.0,410.0,35.0,113.0,850.0,277.0,73.0,104.0,301.0,45.0,103.0,21.0,1.0,646.0,70.0,283.0,17.0,208.0,114.0,33.0,13.0],\"type\":\"choropleth\"}],                        {\"template\":{\"data\":{\"histogram2dcontour\":[{\"type\":\"histogram2dcontour\",\"colorbar\":{\"outlinewidth\":0,\"ticks\":\"\"},\"colorscale\":[[0.0,\"#0d0887\"],[0.1111111111111111,\"#46039f\"],[0.2222222222222222,\"#7201a8\"],[0.3333333333333333,\"#9c179e\"],[0.4444444444444444,\"#bd3786\"],[0.5555555555555556,\"#d8576b\"],[0.6666666666666666,\"#ed7953\"],[0.7777777777777778,\"#fb9f3a\"],[0.8888888888888888,\"#fdca26\"],[1.0,\"#f0f921\"]]}],\"choropleth\":[{\"type\":\"choropleth\",\"colorbar\":{\"outlinewidth\":0,\"ticks\":\"\"}}],\"histogram2d\":[{\"type\":\"histogram2d\",\"colorbar\":{\"outlinewidth\":0,\"ticks\":\"\"},\"colorscale\":[[0.0,\"#0d0887\"],[0.1111111111111111,\"#46039f\"],[0.2222222222222222,\"#7201a8\"],[0.3333333333333333,\"#9c179e\"],[0.4444444444444444,\"#bd3786\"],[0.5555555555555556,\"#d8576b\"],[0.6666666666666666,\"#ed7953\"],[0.7777777777777778,\"#fb9f3a\"],[0.8888888888888888,\"#fdca26\"],[1.0,\"#f0f921\"]]}],\"heatmap\":[{\"type\":\"heatmap\",\"colorbar\":{\"outlinewidth\":0,\"ticks\":\"\"},\"colorscale\":[[0.0,\"#0d0887\"],[0.1111111111111111,\"#46039f\"],[0.2222222222222222,\"#7201a8\"],[0.3333333333333333,\"#9c179e\"],[0.4444444444444444,\"#bd3786\"],[0.5555555555555556,\"#d8576b\"],[0.6666666666666666,\"#ed7953\"],[0.7777777777777778,\"#fb9f3a\"],[0.8888888888888888,\"#fdca26\"],[1.0,\"#f0f921\"]]}],\"heatmapgl\":[{\"type\":\"heatmapgl\",\"colorbar\":{\"outlinewidth\":0,\"ticks\":\"\"},\"colorscale\":[[0.0,\"#0d0887\"],[0.1111111111111111,\"#46039f\"],[0.2222222222222222,\"#7201a8\"],[0.3333333333333333,\"#9c179e\"],[0.4444444444444444,\"#bd3786\"],[0.5555555555555556,\"#d8576b\"],[0.6666666666666666,\"#ed7953\"],[0.7777777777777778,\"#fb9f3a\"],[0.8888888888888888,\"#fdca26\"],[1.0,\"#f0f921\"]]}],\"contourcarpet\":[{\"type\":\"contourcarpet\",\"colorbar\":{\"outlinewidth\":0,\"ticks\":\"\"}}],\"contour\":[{\"type\":\"contour\",\"colorbar\":{\"outlinewidth\":0,\"ticks\":\"\"},\"colorscale\":[[0.0,\"#0d0887\"],[0.1111111111111111,\"#46039f\"],[0.2222222222222222,\"#7201a8\"],[0.3333333333333333,\"#9c179e\"],[0.4444444444444444,\"#bd3786\"],[0.5555555555555556,\"#d8576b\"],[0.6666666666666666,\"#ed7953\"],[0.7777777777777778,\"#fb9f3a\"],[0.8888888888888888,\"#fdca26\"],[1.0,\"#f0f921\"]]}],\"surface\":[{\"type\":\"surface\",\"colorbar\":{\"outlinewidth\":0,\"ticks\":\"\"},\"colorscale\":[[0.0,\"#0d0887\"],[0.1111111111111111,\"#46039f\"],[0.2222222222222222,\"#7201a8\"],[0.3333333333333333,\"#9c179e\"],[0.4444444444444444,\"#bd3786\"],[0.5555555555555556,\"#d8576b\"],[0.6666666666666666,\"#ed7953\"],[0.7777777777777778,\"#fb9f3a\"],[0.8888888888888888,\"#fdca26\"],[1.0,\"#f0f921\"]]}],\"mesh3d\":[{\"type\":\"mesh3d\",\"colorbar\":{\"outlinewidth\":0,\"ticks\":\"\"}}],\"scatter\":[{\"fillpattern\":{\"fillmode\":\"overlay\",\"size\":10,\"solidity\":0.2},\"type\":\"scatter\"}],\"parcoords\":[{\"type\":\"parcoords\",\"line\":{\"colorbar\":{\"outlinewidth\":0,\"ticks\":\"\"}}}],\"scatterpolargl\":[{\"type\":\"scatterpolargl\",\"marker\":{\"colorbar\":{\"outlinewidth\":0,\"ticks\":\"\"}}}],\"bar\":[{\"error_x\":{\"color\":\"#2a3f5f\"},\"error_y\":{\"color\":\"#2a3f5f\"},\"marker\":{\"line\":{\"color\":\"#E5ECF6\",\"width\":0.5},\"pattern\":{\"fillmode\":\"overlay\",\"size\":10,\"solidity\":0.2}},\"type\":\"bar\"}],\"scattergeo\":[{\"type\":\"scattergeo\",\"marker\":{\"colorbar\":{\"outlinewidth\":0,\"ticks\":\"\"}}}],\"scatterpolar\":[{\"type\":\"scatterpolar\",\"marker\":{\"colorbar\":{\"outlinewidth\":0,\"ticks\":\"\"}}}],\"histogram\":[{\"marker\":{\"pattern\":{\"fillmode\":\"overlay\",\"size\":10,\"solidity\":0.2}},\"type\":\"histogram\"}],\"scattergl\":[{\"type\":\"scattergl\",\"marker\":{\"colorbar\":{\"outlinewidth\":0,\"ticks\":\"\"}}}],\"scatter3d\":[{\"type\":\"scatter3d\",\"line\":{\"colorbar\":{\"outlinewidth\":0,\"ticks\":\"\"}},\"marker\":{\"colorbar\":{\"outlinewidth\":0,\"ticks\":\"\"}}}],\"scattermapbox\":[{\"type\":\"scattermapbox\",\"marker\":{\"colorbar\":{\"outlinewidth\":0,\"ticks\":\"\"}}}],\"scatterternary\":[{\"type\":\"scatterternary\",\"marker\":{\"colorbar\":{\"outlinewidth\":0,\"ticks\":\"\"}}}],\"scattercarpet\":[{\"type\":\"scattercarpet\",\"marker\":{\"colorbar\":{\"outlinewidth\":0,\"ticks\":\"\"}}}],\"carpet\":[{\"aaxis\":{\"endlinecolor\":\"#2a3f5f\",\"gridcolor\":\"white\",\"linecolor\":\"white\",\"minorgridcolor\":\"white\",\"startlinecolor\":\"#2a3f5f\"},\"baxis\":{\"endlinecolor\":\"#2a3f5f\",\"gridcolor\":\"white\",\"linecolor\":\"white\",\"minorgridcolor\":\"white\",\"startlinecolor\":\"#2a3f5f\"},\"type\":\"carpet\"}],\"table\":[{\"cells\":{\"fill\":{\"color\":\"#EBF0F8\"},\"line\":{\"color\":\"white\"}},\"header\":{\"fill\":{\"color\":\"#C8D4E3\"},\"line\":{\"color\":\"white\"}},\"type\":\"table\"}],\"barpolar\":[{\"marker\":{\"line\":{\"color\":\"#E5ECF6\",\"width\":0.5},\"pattern\":{\"fillmode\":\"overlay\",\"size\":10,\"solidity\":0.2}},\"type\":\"barpolar\"}],\"pie\":[{\"automargin\":true,\"type\":\"pie\"}]},\"layout\":{\"autotypenumbers\":\"strict\",\"colorway\":[\"#636efa\",\"#EF553B\",\"#00cc96\",\"#ab63fa\",\"#FFA15A\",\"#19d3f3\",\"#FF6692\",\"#B6E880\",\"#FF97FF\",\"#FECB52\"],\"font\":{\"color\":\"#2a3f5f\"},\"hovermode\":\"closest\",\"hoverlabel\":{\"align\":\"left\"},\"paper_bgcolor\":\"white\",\"plot_bgcolor\":\"#E5ECF6\",\"polar\":{\"bgcolor\":\"#E5ECF6\",\"angularaxis\":{\"gridcolor\":\"white\",\"linecolor\":\"white\",\"ticks\":\"\"},\"radialaxis\":{\"gridcolor\":\"white\",\"linecolor\":\"white\",\"ticks\":\"\"}},\"ternary\":{\"bgcolor\":\"#E5ECF6\",\"aaxis\":{\"gridcolor\":\"white\",\"linecolor\":\"white\",\"ticks\":\"\"},\"baxis\":{\"gridcolor\":\"white\",\"linecolor\":\"white\",\"ticks\":\"\"},\"caxis\":{\"gridcolor\":\"white\",\"linecolor\":\"white\",\"ticks\":\"\"}},\"coloraxis\":{\"colorbar\":{\"outlinewidth\":0,\"ticks\":\"\"}},\"colorscale\":{\"sequential\":[[0.0,\"#0d0887\"],[0.1111111111111111,\"#46039f\"],[0.2222222222222222,\"#7201a8\"],[0.3333333333333333,\"#9c179e\"],[0.4444444444444444,\"#bd3786\"],[0.5555555555555556,\"#d8576b\"],[0.6666666666666666,\"#ed7953\"],[0.7777777777777778,\"#fb9f3a\"],[0.8888888888888888,\"#fdca26\"],[1.0,\"#f0f921\"]],\"sequentialminus\":[[0.0,\"#0d0887\"],[0.1111111111111111,\"#46039f\"],[0.2222222222222222,\"#7201a8\"],[0.3333333333333333,\"#9c179e\"],[0.4444444444444444,\"#bd3786\"],[0.5555555555555556,\"#d8576b\"],[0.6666666666666666,\"#ed7953\"],[0.7777777777777778,\"#fb9f3a\"],[0.8888888888888888,\"#fdca26\"],[1.0,\"#f0f921\"]],\"diverging\":[[0,\"#8e0152\"],[0.1,\"#c51b7d\"],[0.2,\"#de77ae\"],[0.3,\"#f1b6da\"],[0.4,\"#fde0ef\"],[0.5,\"#f7f7f7\"],[0.6,\"#e6f5d0\"],[0.7,\"#b8e186\"],[0.8,\"#7fbc41\"],[0.9,\"#4d9221\"],[1,\"#276419\"]]},\"xaxis\":{\"gridcolor\":\"white\",\"linecolor\":\"white\",\"ticks\":\"\",\"title\":{\"standoff\":15},\"zerolinecolor\":\"white\",\"automargin\":true,\"zerolinewidth\":2},\"yaxis\":{\"gridcolor\":\"white\",\"linecolor\":\"white\",\"ticks\":\"\",\"title\":{\"standoff\":15},\"zerolinecolor\":\"white\",\"automargin\":true,\"zerolinewidth\":2},\"scene\":{\"xaxis\":{\"backgroundcolor\":\"#E5ECF6\",\"gridcolor\":\"white\",\"linecolor\":\"white\",\"showbackground\":true,\"ticks\":\"\",\"zerolinecolor\":\"white\",\"gridwidth\":2},\"yaxis\":{\"backgroundcolor\":\"#E5ECF6\",\"gridcolor\":\"white\",\"linecolor\":\"white\",\"showbackground\":true,\"ticks\":\"\",\"zerolinecolor\":\"white\",\"gridwidth\":2},\"zaxis\":{\"backgroundcolor\":\"#E5ECF6\",\"gridcolor\":\"white\",\"linecolor\":\"white\",\"showbackground\":true,\"ticks\":\"\",\"zerolinecolor\":\"white\",\"gridwidth\":2}},\"shapedefaults\":{\"line\":{\"color\":\"#2a3f5f\"}},\"annotationdefaults\":{\"arrowcolor\":\"#2a3f5f\",\"arrowhead\":0,\"arrowwidth\":1},\"geo\":{\"bgcolor\":\"white\",\"landcolor\":\"#E5ECF6\",\"subunitcolor\":\"white\",\"showland\":true,\"showlakes\":true,\"lakecolor\":\"white\"},\"title\":{\"x\":0.05},\"mapbox\":{\"style\":\"light\"}}},\"title\":{\"text\":\"Total Loans Issued by State\"},\"geo\":{\"scope\":\"usa\"},\"width\":800,\"height\":600},                        {\"responsive\": true}                    ).then(function(){\n",
              "                            \n",
              "var gd = document.getElementById('900c2a19-5398-4747-a62b-cac649100f90');\n",
              "var x = new MutationObserver(function (mutations, observer) {{\n",
              "        var display = window.getComputedStyle(gd).display;\n",
              "        if (!display || display === 'none') {{\n",
              "            console.log([gd, 'removed!']);\n",
              "            Plotly.purge(gd);\n",
              "            observer.disconnect();\n",
              "        }}\n",
              "}});\n",
              "\n",
              "// Listen for the removal of the full notebook cells\n",
              "var notebookContainer = gd.closest('#notebook-container');\n",
              "if (notebookContainer) {{\n",
              "    x.observe(notebookContainer, {childList: true});\n",
              "}}\n",
              "\n",
              "// Listen for the clearing of the current output cell\n",
              "var outputEl = gd.closest('.output');\n",
              "if (outputEl) {{\n",
              "    x.observe(outputEl, {childList: true});\n",
              "}}\n",
              "\n",
              "                        })                };                            </script>        </div>\n",
              "</body>\n",
              "</html>"
            ]
          },
          "metadata": {}
        }
      ]
    },
    {
      "cell_type": "markdown",
      "source": [
        "The company was aggressive in issuing the loans,with the 40% of the loans granted to borrowers rated <= Grade C and the company issued nearly 100% of the loans the borrowers applied even to borrowers rated <= Grade C."
      ],
      "metadata": {
        "id": "KlN7y1YHMYPW"
      }
    },
    {
      "cell_type": "code",
      "source": [
        "# grade distribution plot & loan approval by grade\n",
        "fig,axss = plt.subplots(1,2, figsize=[16,4])\n",
        "df[\"grade\"].value_counts(normalize=True).sort_index().plot(kind='bar', ax = axss[0])\n",
        "\n",
        "# Calculate the ratio of sums\n",
        "grouped = df.groupby('grade').sum()\n",
        "grouped['ratio'] = grouped['funded_amnt'] / grouped['loan_amnt']\n",
        "\n",
        "# Plotting the ratios\n",
        "grouped['ratio'].plot(kind='bar')\n",
        "axss[0].set_title('% of Loan Records by Borrower Grade')\n",
        "axss[1].set_title('Funded Amount to Loan Amount Ratio by Borrower Grade')\n",
        "\n",
        "plt.tight_layout()\n",
        "plt.show()"
      ],
      "metadata": {
        "colab": {
          "base_uri": "https://localhost:8080/",
          "height": 384
        },
        "id": "KpZYmVTMKhDS",
        "outputId": "ffec9838-2db3-44c4-a68d-8d6c3ae8ef7e"
      },
      "execution_count": 10,
      "outputs": [
        {
          "output_type": "display_data",
          "data": {
            "text/plain": [
              "<Figure size 1600x400 with 2 Axes>"
            ],
            "image/png": "[encoded data removed]"
          },
          "metadata": {}
        }
      ]
    },
    {
      "cell_type": "markdown",
      "source": [
        "The DTI limit of 30% implied borrowers should have sufficient income to cover LC installment. However, with over 50% of borrowers using 50% or more of their credit, this high Revolving Line Utilization Rate mirrored the borrowers' overspending, which might contribute to the LC's high default rate."
      ],
      "metadata": {
        "id": "ioO8UGfeGnEm"
      }
    },
    {
      "cell_type": "code",
      "source": [
        "fig,axss = plt.subplots(1,2, figsize=[16,4])\n",
        "df[\"dti\"].plot(kind='hist', bins=5, edgecolor='black', alpha=0.7,title = 'Loan Records by Debt-to-Income Ratio', ax = axss[0])\n",
        "df[\"revol_util\"].plot(kind='hist', bins=4, edgecolor='black', alpha=0.7,title = 'Loan Records by Revolving Line Utilization Rate', ax = axss[1])"
      ],
      "metadata": {
        "colab": {
          "base_uri": "https://localhost:8080/",
          "height": 408
        },
        "id": "jF3eFci5uv3T",
        "outputId": "3d841b86-a854-4c5c-c558-1710091c5f58"
      },
      "execution_count": 11,
      "outputs": [
        {
          "output_type": "execute_result",
          "data": {
            "text/plain": [
              "<Axes: title={'center': 'Loan Records by Revolving Line Utilization Rate'}, ylabel='Frequency'>"
            ]
          },
          "metadata": {},
          "execution_count": 11
        },
        {
          "output_type": "display_data",
          "data": {
            "text/plain": [
              "<Figure size 1600x400 with 2 Axes>"
            ],
            "image/png": "[encoded data removed]"
          },
          "metadata": {}
        }
      ]
    },
    {
      "cell_type": "markdown",
      "source": [
        "*earliest_cr_line* was intended to represent the month when a borrower's earliest reported credit line was opened, but it appeared as large integers instead.  This discrepancy suggested this variable might have undergone a transformation using formulas such as datediff('day', initial_date, earliest_cr_line) during the data saving process."
      ],
      "metadata": {
        "id": "bzCq4oK_OD40"
      }
    },
    {
      "cell_type": "code",
      "source": [
        "pd.set_option('display.precision', 0)\n",
        "df[\"earliest_cr_line\"].describe()"
      ],
      "metadata": {
        "colab": {
          "base_uri": "https://localhost:8080/"
        },
        "id": "ngWcmPN0-s0K",
        "outputId": "fc3dc1f2-71df-4f46-88f0-7cb4ceb9669f"
      },
      "execution_count": 12,
      "outputs": [
        {
          "output_type": "execute_result",
          "data": {
            "text/plain": [
              "count     9004\n",
              "mean     37300\n",
              "std       4380\n",
              "min      19998\n",
              "25%      34455\n",
              "50%      36161\n",
              "75%      42827\n",
              "max      43076\n",
              "Name: earliest_cr_line, dtype: float64"
            ]
          },
          "metadata": {},
          "execution_count": 12
        }
      ]
    },
    {
      "cell_type": "markdown",
      "source": [
        "### 1.2.2 Correlation Analysis"
      ],
      "metadata": {
        "id": "krDk3eSCN0-P"
      }
    },
    {
      "cell_type": "markdown",
      "source": [
        "To better vidualize the relationship between categorical variables vs loan_status and interest rate. We recode some of the variables."
      ],
      "metadata": {
        "id": "b25aCFsdoLvG"
      }
    },
    {
      "cell_type": "code",
      "source": [
        "#code loan_status as 0 or 1\n",
        "df['loan_status'] = [1 if i == 'Charged Off' else 0  for i in df['loan_status'] ]"
      ],
      "metadata": {
        "id": "ivzwQm_bcJsF"
      },
      "execution_count": 13,
      "outputs": []
    },
    {
      "cell_type": "code",
      "source": [
        "# recode emp_length\n",
        "def recode_emp_length(el):\n",
        "    if el == 'Less than 1 year':\n",
        "        return '0 - 1 years'\n",
        "    elif el == '10+ years':\n",
        "        return '>= 10 years'\n",
        "    else:\n",
        "        return el\n",
        "\n",
        "df['emp_length'] = df['emp_length'].apply(recode_emp_length)"
      ],
      "metadata": {
        "id": "xd0gylTWk1qy"
      },
      "execution_count": 14,
      "outputs": []
    },
    {
      "cell_type": "code",
      "source": [
        "# recode emp_length\n",
        "def recode_purpose(p):\n",
        "    if p == 'renewable_energy' or p == 'vacation' or p == 'wedding':\n",
        "        return 'other'\n",
        "    elif p == 'house' or p == 'moving' or p == 'home_improvement':\n",
        "        return 'house'\n",
        "    else:\n",
        "        return p\n",
        "\n",
        "df['purpose'] = df['purpose'].apply(recode_purpose)"
      ],
      "metadata": {
        "id": "aPfHk3TMlL-J"
      },
      "execution_count": 15,
      "outputs": []
    },
    {
      "cell_type": "markdown",
      "source": [
        "#### Categorical Variables vs loan_status"
      ],
      "metadata": {
        "id": "qJ0swNJ5rN1i"
      }
    },
    {
      "cell_type": "markdown",
      "source": [
        "Variables *term*, *grade* and *purpose* might have strong correlation with loan status. The default rate were drastically different by these variables."
      ],
      "metadata": {
        "id": "n5q56d6soq9Q"
      }
    },
    {
      "cell_type": "code",
      "metadata": {
        "id": "zW0s8DWR5Qrs",
        "colab": {
          "base_uri": "https://localhost:8080/",
          "height": 1000
        },
        "outputId": "975c5a33-0f6d-4ccc-9f20-c1150c98dcca"
      },
      "source": [
        "# Define the categories to group by\n",
        "categories = ['term', 'grade', 'emp_length', 'home_ownership', 'verification_status', 'purpose']\n",
        "\n",
        "# Set up a 3x2 grid of subplots\n",
        "fig, axss = plt.subplots(3, 2, figsize=(20, 14))\n",
        "axes_flat = axss.flatten()\n",
        "\n",
        "# Loop over each category to calculate means and create plots\n",
        "for i, category in enumerate(categories):\n",
        "\n",
        "    # Group by category and calculate the default rate\n",
        "    avg_loan_status = df.groupby(category)['loan_status'].mean().reset_index()\n",
        "\n",
        "    # Create the barplot on the appropriate subplot\n",
        "    sns.barplot(x=category, y='loan_status', data=avg_loan_status, ax=axes_flat[i])\n",
        "\n",
        "    # Set the title for each subplot\n",
        "    axes_flat[i].set_title(f'% of Borrowers Defaulted by {category}')\n",
        "    axes_flat[i].set_ylabel('% of Borrowers Defaulted')\n",
        "    axes_flat[i].set_xlabel(category)\n",
        "\n",
        "# Adjust the layout and display the plots\n",
        "plt.tight_layout()\n",
        "plt.show()\n"
      ],
      "execution_count": 16,
      "outputs": [
        {
          "output_type": "display_data",
          "data": {
            "text/plain": [
              "<Figure size 2000x1400 with 6 Axes>"
            ],
            "image/png": "[encoded data removed]"
          },
          "metadata": {}
        }
      ]
    },
    {
      "cell_type": "code",
      "source": [
        "# default rate issued by State\n",
        "df_location = df.filter([\"addr_state\", \"loan_status\"], axis = 1).groupby(\"addr_state\",).mean().reset_index()\n",
        "\n",
        "import plotly.graph_objects as go\n",
        "\n",
        "fig = go.Figure(data=go.Choropleth(\n",
        "    locations=df_location['addr_state'], # Spatial coordinates\n",
        "    z = df_location['loan_status'].astype(float), # Data to be color-coded\n",
        "    locationmode = 'USA-states', # set of locations match entries in `locations`\n",
        "    colorscale = 'Reds',\n",
        "    colorbar_title = \"Counts\",\n",
        "))\n",
        "\n",
        "fig.update_layout(\n",
        "    title_text = '% of Default by State',\n",
        "    geo_scope='usa', # limited map scope to USA\n",
        "    width=800,  # width of the figure in pixels\n",
        "    height=600  # height of the figure in pixels\n",
        ")\n",
        "\n",
        "fig.show()"
      ],
      "metadata": {
        "colab": {
          "base_uri": "https://localhost:8080/",
          "height": 617
        },
        "id": "oDAizouXlK3l",
        "outputId": "0d6827bc-f7a3-4451-fea0-7f02fab5935d"
      },
      "execution_count": 17,
      "outputs": [
        {
          "output_type": "display_data",
          "data": {
            "text/html": [
              "<html>\n",
              "<head><meta charset=\"utf-8\" /></head>\n",
              "<body>\n",
              "    <div>            <script src=\"https://cdnjs.cloudflare.com/ajax/libs/mathjax/2.7.5/MathJax.js?config=TeX-AMS-MML_SVG\"></script><script type=\"text/javascript\">if (window.MathJax && window.MathJax.Hub && window.MathJax.Hub.Config) {window.MathJax.Hub.Config({SVG: {font: \"STIX-Web\"}});}</script>                <script type=\"text/javascript\">window.PlotlyConfig = {MathJaxConfig: 'local'};</script>\n",
              "        <script charset=\"utf-8\" src=\"https://cdn.plot.ly/plotly-2.24.1.min.js\"></script>                <div id=\"42e2c263-17da-42ef-8784-de6cda830143\" class=\"plotly-graph-div\" style=\"height:600px; width:800px;\"></div>            <script type=\"text/javascript\">                                    window.PLOTLYENV=window.PLOTLYENV || {};                                    if (document.getElementById(\"42e2c263-17da-42ef-8784-de6cda830143\")) {                    Plotly.newPlot(                        \"42e2c263-17da-42ef-8784-de6cda830143\",                        [{\"colorbar\":{\"title\":{\"text\":\"Counts\"}},\"colorscale\":[[0.0,\"rgb(255,245,240)\"],[0.125,\"rgb(254,224,210)\"],[0.25,\"rgb(252,187,161)\"],[0.375,\"rgb(252,146,114)\"],[0.5,\"rgb(251,106,74)\"],[0.625,\"rgb(239,59,44)\"],[0.75,\"rgb(203,24,29)\"],[0.875,\"rgb(165,15,21)\"],[1.0,\"rgb(103,0,13)\"]],\"locationmode\":\"USA-states\",\"locations\":[\"AK\",\"AL\",\"AR\",\"AZ\",\"CA\",\"CO\",\"CT\",\"DC\",\"DE\",\"FL\",\"GA\",\"HI\",\"IL\",\"KS\",\"KY\",\"LA\",\"MA\",\"MD\",\"MI\",\"MN\",\"MO\",\"MS\",\"MT\",\"NC\",\"NH\",\"NJ\",\"NM\",\"NV\",\"NY\",\"OH\",\"OK\",\"OR\",\"PA\",\"RI\",\"SC\",\"SD\",\"TN\",\"TX\",\"UT\",\"VA\",\"VT\",\"WA\",\"WI\",\"WV\",\"WY\"],\"z\":[0.3333333333333333,0.19791666666666666,0.11940298507462686,0.1890547263681592,0.17919422730006013,0.12883435582822086,0.14285714285714285,0.14893617021276595,0.15384615384615385,0.18413173652694612,0.17525773195876287,0.16981132075471697,0.17886178861788618,0.09333333333333334,0.17567567567567569,0.12244897959183673,0.13302752293577982,0.2186046511627907,0.1956521739130435,0.1597222222222222,0.12790697674418605,0.0,0.1111111111111111,0.1484375,0.17142857142857143,0.16341463414634147,0.22857142857142856,0.2743362831858407,0.15529411764705883,0.19494584837545126,0.1232876712328767,0.21153846153846154,0.15614617940199335,0.24444444444444444,0.1553398058252427,0.2857142857142857,0.0,0.12848297213622292,0.08571428571428572,0.20141342756183744,0.11764705882352941,0.1778846153846154,0.17543859649122806,0.12121212121212122,0.15384615384615385],\"type\":\"choropleth\"}],                        {\"template\":{\"data\":{\"histogram2dcontour\":[{\"type\":\"histogram2dcontour\",\"colorbar\":{\"outlinewidth\":0,\"ticks\":\"\"},\"colorscale\":[[0.0,\"#0d0887\"],[0.1111111111111111,\"#46039f\"],[0.2222222222222222,\"#7201a8\"],[0.3333333333333333,\"#9c179e\"],[0.4444444444444444,\"#bd3786\"],[0.5555555555555556,\"#d8576b\"],[0.6666666666666666,\"#ed7953\"],[0.7777777777777778,\"#fb9f3a\"],[0.8888888888888888,\"#fdca26\"],[1.0,\"#f0f921\"]]}],\"choropleth\":[{\"type\":\"choropleth\",\"colorbar\":{\"outlinewidth\":0,\"ticks\":\"\"}}],\"histogram2d\":[{\"type\":\"histogram2d\",\"colorbar\":{\"outlinewidth\":0,\"ticks\":\"\"},\"colorscale\":[[0.0,\"#0d0887\"],[0.1111111111111111,\"#46039f\"],[0.2222222222222222,\"#7201a8\"],[0.3333333333333333,\"#9c179e\"],[0.4444444444444444,\"#bd3786\"],[0.5555555555555556,\"#d8576b\"],[0.6666666666666666,\"#ed7953\"],[0.7777777777777778,\"#fb9f3a\"],[0.8888888888888888,\"#fdca26\"],[1.0,\"#f0f921\"]]}],\"heatmap\":[{\"type\":\"heatmap\",\"colorbar\":{\"outlinewidth\":0,\"ticks\":\"\"},\"colorscale\":[[0.0,\"#0d0887\"],[0.1111111111111111,\"#46039f\"],[0.2222222222222222,\"#7201a8\"],[0.3333333333333333,\"#9c179e\"],[0.4444444444444444,\"#bd3786\"],[0.5555555555555556,\"#d8576b\"],[0.6666666666666666,\"#ed7953\"],[0.7777777777777778,\"#fb9f3a\"],[0.8888888888888888,\"#fdca26\"],[1.0,\"#f0f921\"]]}],\"heatmapgl\":[{\"type\":\"heatmapgl\",\"colorbar\":{\"outlinewidth\":0,\"ticks\":\"\"},\"colorscale\":[[0.0,\"#0d0887\"],[0.1111111111111111,\"#46039f\"],[0.2222222222222222,\"#7201a8\"],[0.3333333333333333,\"#9c179e\"],[0.4444444444444444,\"#bd3786\"],[0.5555555555555556,\"#d8576b\"],[0.6666666666666666,\"#ed7953\"],[0.7777777777777778,\"#fb9f3a\"],[0.8888888888888888,\"#fdca26\"],[1.0,\"#f0f921\"]]}],\"contourcarpet\":[{\"type\":\"contourcarpet\",\"colorbar\":{\"outlinewidth\":0,\"ticks\":\"\"}}],\"contour\":[{\"type\":\"contour\",\"colorbar\":{\"outlinewidth\":0,\"ticks\":\"\"},\"colorscale\":[[0.0,\"#0d0887\"],[0.1111111111111111,\"#46039f\"],[0.2222222222222222,\"#7201a8\"],[0.3333333333333333,\"#9c179e\"],[0.4444444444444444,\"#bd3786\"],[0.5555555555555556,\"#d8576b\"],[0.6666666666666666,\"#ed7953\"],[0.7777777777777778,\"#fb9f3a\"],[0.8888888888888888,\"#fdca26\"],[1.0,\"#f0f921\"]]}],\"surface\":[{\"type\":\"surface\",\"colorbar\":{\"outlinewidth\":0,\"ticks\":\"\"},\"colorscale\":[[0.0,\"#0d0887\"],[0.1111111111111111,\"#46039f\"],[0.2222222222222222,\"#7201a8\"],[0.3333333333333333,\"#9c179e\"],[0.4444444444444444,\"#bd3786\"],[0.5555555555555556,\"#d8576b\"],[0.6666666666666666,\"#ed7953\"],[0.7777777777777778,\"#fb9f3a\"],[0.8888888888888888,\"#fdca26\"],[1.0,\"#f0f921\"]]}],\"mesh3d\":[{\"type\":\"mesh3d\",\"colorbar\":{\"outlinewidth\":0,\"ticks\":\"\"}}],\"scatter\":[{\"fillpattern\":{\"fillmode\":\"overlay\",\"size\":10,\"solidity\":0.2},\"type\":\"scatter\"}],\"parcoords\":[{\"type\":\"parcoords\",\"line\":{\"colorbar\":{\"outlinewidth\":0,\"ticks\":\"\"}}}],\"scatterpolargl\":[{\"type\":\"scatterpolargl\",\"marker\":{\"colorbar\":{\"outlinewidth\":0,\"ticks\":\"\"}}}],\"bar\":[{\"error_x\":{\"color\":\"#2a3f5f\"},\"error_y\":{\"color\":\"#2a3f5f\"},\"marker\":{\"line\":{\"color\":\"#E5ECF6\",\"width\":0.5},\"pattern\":{\"fillmode\":\"overlay\",\"size\":10,\"solidity\":0.2}},\"type\":\"bar\"}],\"scattergeo\":[{\"type\":\"scattergeo\",\"marker\":{\"colorbar\":{\"outlinewidth\":0,\"ticks\":\"\"}}}],\"scatterpolar\":[{\"type\":\"scatterpolar\",\"marker\":{\"colorbar\":{\"outlinewidth\":0,\"ticks\":\"\"}}}],\"histogram\":[{\"marker\":{\"pattern\":{\"fillmode\":\"overlay\",\"size\":10,\"solidity\":0.2}},\"type\":\"histogram\"}],\"scattergl\":[{\"type\":\"scattergl\",\"marker\":{\"colorbar\":{\"outlinewidth\":0,\"ticks\":\"\"}}}],\"scatter3d\":[{\"type\":\"scatter3d\",\"line\":{\"colorbar\":{\"outlinewidth\":0,\"ticks\":\"\"}},\"marker\":{\"colorbar\":{\"outlinewidth\":0,\"ticks\":\"\"}}}],\"scattermapbox\":[{\"type\":\"scattermapbox\",\"marker\":{\"colorbar\":{\"outlinewidth\":0,\"ticks\":\"\"}}}],\"scatterternary\":[{\"type\":\"scatterternary\",\"marker\":{\"colorbar\":{\"outlinewidth\":0,\"ticks\":\"\"}}}],\"scattercarpet\":[{\"type\":\"scattercarpet\",\"marker\":{\"colorbar\":{\"outlinewidth\":0,\"ticks\":\"\"}}}],\"carpet\":[{\"aaxis\":{\"endlinecolor\":\"#2a3f5f\",\"gridcolor\":\"white\",\"linecolor\":\"white\",\"minorgridcolor\":\"white\",\"startlinecolor\":\"#2a3f5f\"},\"baxis\":{\"endlinecolor\":\"#2a3f5f\",\"gridcolor\":\"white\",\"linecolor\":\"white\",\"minorgridcolor\":\"white\",\"startlinecolor\":\"#2a3f5f\"},\"type\":\"carpet\"}],\"table\":[{\"cells\":{\"fill\":{\"color\":\"#EBF0F8\"},\"line\":{\"color\":\"white\"}},\"header\":{\"fill\":{\"color\":\"#C8D4E3\"},\"line\":{\"color\":\"white\"}},\"type\":\"table\"}],\"barpolar\":[{\"marker\":{\"line\":{\"color\":\"#E5ECF6\",\"width\":0.5},\"pattern\":{\"fillmode\":\"overlay\",\"size\":10,\"solidity\":0.2}},\"type\":\"barpolar\"}],\"pie\":[{\"automargin\":true,\"type\":\"pie\"}]},\"layout\":{\"autotypenumbers\":\"strict\",\"colorway\":[\"#636efa\",\"#EF553B\",\"#00cc96\",\"#ab63fa\",\"#FFA15A\",\"#19d3f3\",\"#FF6692\",\"#B6E880\",\"#FF97FF\",\"#FECB52\"],\"font\":{\"color\":\"#2a3f5f\"},\"hovermode\":\"closest\",\"hoverlabel\":{\"align\":\"left\"},\"paper_bgcolor\":\"white\",\"plot_bgcolor\":\"#E5ECF6\",\"polar\":{\"bgcolor\":\"#E5ECF6\",\"angularaxis\":{\"gridcolor\":\"white\",\"linecolor\":\"white\",\"ticks\":\"\"},\"radialaxis\":{\"gridcolor\":\"white\",\"linecolor\":\"white\",\"ticks\":\"\"}},\"ternary\":{\"bgcolor\":\"#E5ECF6\",\"aaxis\":{\"gridcolor\":\"white\",\"linecolor\":\"white\",\"ticks\":\"\"},\"baxis\":{\"gridcolor\":\"white\",\"linecolor\":\"white\",\"ticks\":\"\"},\"caxis\":{\"gridcolor\":\"white\",\"linecolor\":\"white\",\"ticks\":\"\"}},\"coloraxis\":{\"colorbar\":{\"outlinewidth\":0,\"ticks\":\"\"}},\"colorscale\":{\"sequential\":[[0.0,\"#0d0887\"],[0.1111111111111111,\"#46039f\"],[0.2222222222222222,\"#7201a8\"],[0.3333333333333333,\"#9c179e\"],[0.4444444444444444,\"#bd3786\"],[0.5555555555555556,\"#d8576b\"],[0.6666666666666666,\"#ed7953\"],[0.7777777777777778,\"#fb9f3a\"],[0.8888888888888888,\"#fdca26\"],[1.0,\"#f0f921\"]],\"sequentialminus\":[[0.0,\"#0d0887\"],[0.1111111111111111,\"#46039f\"],[0.2222222222222222,\"#7201a8\"],[0.3333333333333333,\"#9c179e\"],[0.4444444444444444,\"#bd3786\"],[0.5555555555555556,\"#d8576b\"],[0.6666666666666666,\"#ed7953\"],[0.7777777777777778,\"#fb9f3a\"],[0.8888888888888888,\"#fdca26\"],[1.0,\"#f0f921\"]],\"diverging\":[[0,\"#8e0152\"],[0.1,\"#c51b7d\"],[0.2,\"#de77ae\"],[0.3,\"#f1b6da\"],[0.4,\"#fde0ef\"],[0.5,\"#f7f7f7\"],[0.6,\"#e6f5d0\"],[0.7,\"#b8e186\"],[0.8,\"#7fbc41\"],[0.9,\"#4d9221\"],[1,\"#276419\"]]},\"xaxis\":{\"gridcolor\":\"white\",\"linecolor\":\"white\",\"ticks\":\"\",\"title\":{\"standoff\":15},\"zerolinecolor\":\"white\",\"automargin\":true,\"zerolinewidth\":2},\"yaxis\":{\"gridcolor\":\"white\",\"linecolor\":\"white\",\"ticks\":\"\",\"title\":{\"standoff\":15},\"zerolinecolor\":\"white\",\"automargin\":true,\"zerolinewidth\":2},\"scene\":{\"xaxis\":{\"backgroundcolor\":\"#E5ECF6\",\"gridcolor\":\"white\",\"linecolor\":\"white\",\"showbackground\":true,\"ticks\":\"\",\"zerolinecolor\":\"white\",\"gridwidth\":2},\"yaxis\":{\"backgroundcolor\":\"#E5ECF6\",\"gridcolor\":\"white\",\"linecolor\":\"white\",\"showbackground\":true,\"ticks\":\"\",\"zerolinecolor\":\"white\",\"gridwidth\":2},\"zaxis\":{\"backgroundcolor\":\"#E5ECF6\",\"gridcolor\":\"white\",\"linecolor\":\"white\",\"showbackground\":true,\"ticks\":\"\",\"zerolinecolor\":\"white\",\"gridwidth\":2}},\"shapedefaults\":{\"line\":{\"color\":\"#2a3f5f\"}},\"annotationdefaults\":{\"arrowcolor\":\"#2a3f5f\",\"arrowhead\":0,\"arrowwidth\":1},\"geo\":{\"bgcolor\":\"white\",\"landcolor\":\"#E5ECF6\",\"subunitcolor\":\"white\",\"showland\":true,\"showlakes\":true,\"lakecolor\":\"white\"},\"title\":{\"x\":0.05},\"mapbox\":{\"style\":\"light\"}}},\"title\":{\"text\":\"% of Default by State\"},\"geo\":{\"scope\":\"usa\"},\"width\":800,\"height\":600},                        {\"responsive\": true}                    ).then(function(){\n",
              "                            \n",
              "var gd = document.getElementById('42e2c263-17da-42ef-8784-de6cda830143');\n",
              "var x = new MutationObserver(function (mutations, observer) {{\n",
              "        var display = window.getComputedStyle(gd).display;\n",
              "        if (!display || display === 'none') {{\n",
              "            console.log([gd, 'removed!']);\n",
              "            Plotly.purge(gd);\n",
              "            observer.disconnect();\n",
              "        }}\n",
              "}});\n",
              "\n",
              "// Listen for the removal of the full notebook cells\n",
              "var notebookContainer = gd.closest('#notebook-container');\n",
              "if (notebookContainer) {{\n",
              "    x.observe(notebookContainer, {childList: true});\n",
              "}}\n",
              "\n",
              "// Listen for the clearing of the current output cell\n",
              "var outputEl = gd.closest('.output');\n",
              "if (outputEl) {{\n",
              "    x.observe(outputEl, {childList: true});\n",
              "}}\n",
              "\n",
              "                        })                };                            </script>        </div>\n",
              "</body>\n",
              "</html>"
            ]
          },
          "metadata": {}
        }
      ]
    },
    {
      "cell_type": "markdown",
      "source": [
        "Note: AK, SD and NV seemed have high default(>25%). However, AK, SD and NM had <= 35 records so it's inconclusive these states had high default."
      ],
      "metadata": {
        "id": "_pU4wwrSRFDF"
      }
    },
    {
      "cell_type": "markdown",
      "source": [
        "#### Categorical Variables vs int_rate"
      ],
      "metadata": {
        "id": "mOsCgIbrsErN"
      }
    },
    {
      "cell_type": "markdown",
      "source": [
        " The interest rate was drastically influence by term and grade."
      ],
      "metadata": {
        "id": "qRlt1KmwtI8u"
      }
    },
    {
      "cell_type": "code",
      "source": [
        "# Define the categories to group by\n",
        "categories = ['term', 'grade', 'emp_length', 'home_ownership', 'verification_status', 'purpose']\n",
        "\n",
        "# Set up a 3x2 grid of subplots\n",
        "fig, axss = plt.subplots(3, 2, figsize=(20, 20))\n",
        "axes_flat = axss.flatten()\n",
        "\n",
        "# Loop over each category to calculate means and create plots\n",
        "for i, category in enumerate(categories):\n",
        "\n",
        "    # Group by category and calculate the default rate\n",
        "    avg_loan_status = df.groupby(category)['int_rate'].mean().reset_index()\n",
        "\n",
        "    # Create the barplot on the appropriate subplot\n",
        "    sns.barplot(x=category, y='int_rate', data=avg_loan_status, ax=axes_flat[i])\n",
        "\n",
        "    # Set the title for each subplot\n",
        "    axes_flat[i].set_title(f'Average Interest Rate by {category}')\n",
        "    axes_flat[i].set_ylabel('Average Interest Rate')\n",
        "    axes_flat[i].set_xlabel(category)\n",
        "\n",
        "# Adjust the layout and display the plots\n",
        "plt.tight_layout()\n",
        "plt.show()\n"
      ],
      "metadata": {
        "colab": {
          "base_uri": "https://localhost:8080/",
          "height": 1000
        },
        "id": "2KCVs_t9sdaf",
        "outputId": "40ffec18-9ed2-4dfa-aec1-7c90096582a6"
      },
      "execution_count": 18,
      "outputs": [
        {
          "output_type": "display_data",
          "data": {
            "text/plain": [
              "<Figure size 2000x2000 with 6 Axes>"
            ],
            "image/png": "[encoded data removed]"
          },
          "metadata": {}
        }
      ]
    },
    {
      "cell_type": "code",
      "source": [
        "# interest rate by State\n",
        "df_location = df.filter([\"addr_state\", \"int_rate\"], axis = 1).groupby(\"addr_state\",).mean().reset_index()\n",
        "\n",
        "import plotly.graph_objects as go\n",
        "\n",
        "fig = go.Figure(data=go.Choropleth(\n",
        "    locations=df_location['addr_state'], # Spatial coordinates\n",
        "    z = df_location['int_rate'].astype(float), # Data to be color-coded\n",
        "    locationmode = 'USA-states', # set of locations match entries in `locations`\n",
        "    colorscale = 'Reds',\n",
        "    colorbar_title = \"Counts\",\n",
        "))\n",
        "\n",
        "fig.update_layout(\n",
        "    title_text = 'Interest Rate by State',\n",
        "    geo_scope='usa', # limited map scope to USA\n",
        "    width=800,  # width of the figure in pixels\n",
        "    height=600  # height of the figure in pixels\n",
        ")\n",
        "\n",
        "fig.show()"
      ],
      "metadata": {
        "colab": {
          "base_uri": "https://localhost:8080/",
          "height": 617
        },
        "id": "AZMyFlkosyMM",
        "outputId": "71736996-ab05-4dea-c569-adcf6223a131"
      },
      "execution_count": 19,
      "outputs": [
        {
          "output_type": "display_data",
          "data": {
            "text/html": [
              "<html>\n",
              "<head><meta charset=\"utf-8\" /></head>\n",
              "<body>\n",
              "    <div>            <script src=\"https://cdnjs.cloudflare.com/ajax/libs/mathjax/2.7.5/MathJax.js?config=TeX-AMS-MML_SVG\"></script><script type=\"text/javascript\">if (window.MathJax && window.MathJax.Hub && window.MathJax.Hub.Config) {window.MathJax.Hub.Config({SVG: {font: \"STIX-Web\"}});}</script>                <script type=\"text/javascript\">window.PlotlyConfig = {MathJaxConfig: 'local'};</script>\n",
              "        <script charset=\"utf-8\" src=\"https://cdn.plot.ly/plotly-2.24.1.min.js\"></script>                <div id=\"ea637b46-9dcd-4f12-9c98-2528f6eef585\" class=\"plotly-graph-div\" style=\"height:600px; width:800px;\"></div>            <script type=\"text/javascript\">                                    window.PLOTLYENV=window.PLOTLYENV || {};                                    if (document.getElementById(\"ea637b46-9dcd-4f12-9c98-2528f6eef585\")) {                    Plotly.newPlot(                        \"ea637b46-9dcd-4f12-9c98-2528f6eef585\",                        [{\"colorbar\":{\"title\":{\"text\":\"Counts\"}},\"colorscale\":[[0.0,\"rgb(255,245,240)\"],[0.125,\"rgb(254,224,210)\"],[0.25,\"rgb(252,187,161)\"],[0.375,\"rgb(252,146,114)\"],[0.5,\"rgb(251,106,74)\"],[0.625,\"rgb(239,59,44)\"],[0.75,\"rgb(203,24,29)\"],[0.875,\"rgb(165,15,21)\"],[1.0,\"rgb(103,0,13)\"]],\"locationmode\":\"USA-states\",\"locations\":[\"AK\",\"AL\",\"AR\",\"AZ\",\"CA\",\"CO\",\"CT\",\"DC\",\"DE\",\"FL\",\"GA\",\"HI\",\"IL\",\"KS\",\"KY\",\"LA\",\"MA\",\"MD\",\"MI\",\"MN\",\"MO\",\"MS\",\"MT\",\"NC\",\"NH\",\"NJ\",\"NM\",\"NV\",\"NY\",\"OH\",\"OK\",\"OR\",\"PA\",\"RI\",\"SC\",\"SD\",\"TN\",\"TX\",\"UT\",\"VA\",\"VT\",\"WA\",\"WI\",\"WV\",\"WY\"],\"z\":[13.350000000000001,11.702916666666667,12.162089552238806,12.284676616915421,12.121605532170776,11.69515337423313,12.302514285714286,12.980425531914895,11.865,12.08685628742515,12.09233676975945,12.594716981132075,12.394986449864499,11.600666666666667,11.617702702702703,11.876938775510204,11.129128440366973,12.841209302325582,11.576086956521738,11.908125,11.673720930232559,15.27,14.257777777777777,11.811484375000001,11.755428571428572,12.226731707317073,12.548285714285715,12.707876106194691,12.09514117647059,12.460108303249097,12.08027397260274,12.288846153846153,11.685182724252492,12.114666666666666,11.942912621359222,11.781428571428572,7.9,12.121486068111455,11.843142857142857,12.821413427561838,10.643529411764705,12.340913461538461,12.772368421052631,11.891515151515152,13.113076923076923],\"type\":\"choropleth\"}],                        {\"template\":{\"data\":{\"histogram2dcontour\":[{\"type\":\"histogram2dcontour\",\"colorbar\":{\"outlinewidth\":0,\"ticks\":\"\"},\"colorscale\":[[0.0,\"#0d0887\"],[0.1111111111111111,\"#46039f\"],[0.2222222222222222,\"#7201a8\"],[0.3333333333333333,\"#9c179e\"],[0.4444444444444444,\"#bd3786\"],[0.5555555555555556,\"#d8576b\"],[0.6666666666666666,\"#ed7953\"],[0.7777777777777778,\"#fb9f3a\"],[0.8888888888888888,\"#fdca26\"],[1.0,\"#f0f921\"]]}],\"choropleth\":[{\"type\":\"choropleth\",\"colorbar\":{\"outlinewidth\":0,\"ticks\":\"\"}}],\"histogram2d\":[{\"type\":\"histogram2d\",\"colorbar\":{\"outlinewidth\":0,\"ticks\":\"\"},\"colorscale\":[[0.0,\"#0d0887\"],[0.1111111111111111,\"#46039f\"],[0.2222222222222222,\"#7201a8\"],[0.3333333333333333,\"#9c179e\"],[0.4444444444444444,\"#bd3786\"],[0.5555555555555556,\"#d8576b\"],[0.6666666666666666,\"#ed7953\"],[0.7777777777777778,\"#fb9f3a\"],[0.8888888888888888,\"#fdca26\"],[1.0,\"#f0f921\"]]}],\"heatmap\":[{\"type\":\"heatmap\",\"colorbar\":{\"outlinewidth\":0,\"ticks\":\"\"},\"colorscale\":[[0.0,\"#0d0887\"],[0.1111111111111111,\"#46039f\"],[0.2222222222222222,\"#7201a8\"],[0.3333333333333333,\"#9c179e\"],[0.4444444444444444,\"#bd3786\"],[0.5555555555555556,\"#d8576b\"],[0.6666666666666666,\"#ed7953\"],[0.7777777777777778,\"#fb9f3a\"],[0.8888888888888888,\"#fdca26\"],[1.0,\"#f0f921\"]]}],\"heatmapgl\":[{\"type\":\"heatmapgl\",\"colorbar\":{\"outlinewidth\":0,\"ticks\":\"\"},\"colorscale\":[[0.0,\"#0d0887\"],[0.1111111111111111,\"#46039f\"],[0.2222222222222222,\"#7201a8\"],[0.3333333333333333,\"#9c179e\"],[0.4444444444444444,\"#bd3786\"],[0.5555555555555556,\"#d8576b\"],[0.6666666666666666,\"#ed7953\"],[0.7777777777777778,\"#fb9f3a\"],[0.8888888888888888,\"#fdca26\"],[1.0,\"#f0f921\"]]}],\"contourcarpet\":[{\"type\":\"contourcarpet\",\"colorbar\":{\"outlinewidth\":0,\"ticks\":\"\"}}],\"contour\":[{\"type\":\"contour\",\"colorbar\":{\"outlinewidth\":0,\"ticks\":\"\"},\"colorscale\":[[0.0,\"#0d0887\"],[0.1111111111111111,\"#46039f\"],[0.2222222222222222,\"#7201a8\"],[0.3333333333333333,\"#9c179e\"],[0.4444444444444444,\"#bd3786\"],[0.5555555555555556,\"#d8576b\"],[0.6666666666666666,\"#ed7953\"],[0.7777777777777778,\"#fb9f3a\"],[0.8888888888888888,\"#fdca26\"],[1.0,\"#f0f921\"]]}],\"surface\":[{\"type\":\"surface\",\"colorbar\":{\"outlinewidth\":0,\"ticks\":\"\"},\"colorscale\":[[0.0,\"#0d0887\"],[0.1111111111111111,\"#46039f\"],[0.2222222222222222,\"#7201a8\"],[0.3333333333333333,\"#9c179e\"],[0.4444444444444444,\"#bd3786\"],[0.5555555555555556,\"#d8576b\"],[0.6666666666666666,\"#ed7953\"],[0.7777777777777778,\"#fb9f3a\"],[0.8888888888888888,\"#fdca26\"],[1.0,\"#f0f921\"]]}],\"mesh3d\":[{\"type\":\"mesh3d\",\"colorbar\":{\"outlinewidth\":0,\"ticks\":\"\"}}],\"scatter\":[{\"fillpattern\":{\"fillmode\":\"overlay\",\"size\":10,\"solidity\":0.2},\"type\":\"scatter\"}],\"parcoords\":[{\"type\":\"parcoords\",\"line\":{\"colorbar\":{\"outlinewidth\":0,\"ticks\":\"\"}}}],\"scatterpolargl\":[{\"type\":\"scatterpolargl\",\"marker\":{\"colorbar\":{\"outlinewidth\":0,\"ticks\":\"\"}}}],\"bar\":[{\"error_x\":{\"color\":\"#2a3f5f\"},\"error_y\":{\"color\":\"#2a3f5f\"},\"marker\":{\"line\":{\"color\":\"#E5ECF6\",\"width\":0.5},\"pattern\":{\"fillmode\":\"overlay\",\"size\":10,\"solidity\":0.2}},\"type\":\"bar\"}],\"scattergeo\":[{\"type\":\"scattergeo\",\"marker\":{\"colorbar\":{\"outlinewidth\":0,\"ticks\":\"\"}}}],\"scatterpolar\":[{\"type\":\"scatterpolar\",\"marker\":{\"colorbar\":{\"outlinewidth\":0,\"ticks\":\"\"}}}],\"histogram\":[{\"marker\":{\"pattern\":{\"fillmode\":\"overlay\",\"size\":10,\"solidity\":0.2}},\"type\":\"histogram\"}],\"scattergl\":[{\"type\":\"scattergl\",\"marker\":{\"colorbar\":{\"outlinewidth\":0,\"ticks\":\"\"}}}],\"scatter3d\":[{\"type\":\"scatter3d\",\"line\":{\"colorbar\":{\"outlinewidth\":0,\"ticks\":\"\"}},\"marker\":{\"colorbar\":{\"outlinewidth\":0,\"ticks\":\"\"}}}],\"scattermapbox\":[{\"type\":\"scattermapbox\",\"marker\":{\"colorbar\":{\"outlinewidth\":0,\"ticks\":\"\"}}}],\"scatterternary\":[{\"type\":\"scatterternary\",\"marker\":{\"colorbar\":{\"outlinewidth\":0,\"ticks\":\"\"}}}],\"scattercarpet\":[{\"type\":\"scattercarpet\",\"marker\":{\"colorbar\":{\"outlinewidth\":0,\"ticks\":\"\"}}}],\"carpet\":[{\"aaxis\":{\"endlinecolor\":\"#2a3f5f\",\"gridcolor\":\"white\",\"linecolor\":\"white\",\"minorgridcolor\":\"white\",\"startlinecolor\":\"#2a3f5f\"},\"baxis\":{\"endlinecolor\":\"#2a3f5f\",\"gridcolor\":\"white\",\"linecolor\":\"white\",\"minorgridcolor\":\"white\",\"startlinecolor\":\"#2a3f5f\"},\"type\":\"carpet\"}],\"table\":[{\"cells\":{\"fill\":{\"color\":\"#EBF0F8\"},\"line\":{\"color\":\"white\"}},\"header\":{\"fill\":{\"color\":\"#C8D4E3\"},\"line\":{\"color\":\"white\"}},\"type\":\"table\"}],\"barpolar\":[{\"marker\":{\"line\":{\"color\":\"#E5ECF6\",\"width\":0.5},\"pattern\":{\"fillmode\":\"overlay\",\"size\":10,\"solidity\":0.2}},\"type\":\"barpolar\"}],\"pie\":[{\"automargin\":true,\"type\":\"pie\"}]},\"layout\":{\"autotypenumbers\":\"strict\",\"colorway\":[\"#636efa\",\"#EF553B\",\"#00cc96\",\"#ab63fa\",\"#FFA15A\",\"#19d3f3\",\"#FF6692\",\"#B6E880\",\"#FF97FF\",\"#FECB52\"],\"font\":{\"color\":\"#2a3f5f\"},\"hovermode\":\"closest\",\"hoverlabel\":{\"align\":\"left\"},\"paper_bgcolor\":\"white\",\"plot_bgcolor\":\"#E5ECF6\",\"polar\":{\"bgcolor\":\"#E5ECF6\",\"angularaxis\":{\"gridcolor\":\"white\",\"linecolor\":\"white\",\"ticks\":\"\"},\"radialaxis\":{\"gridcolor\":\"white\",\"linecolor\":\"white\",\"ticks\":\"\"}},\"ternary\":{\"bgcolor\":\"#E5ECF6\",\"aaxis\":{\"gridcolor\":\"white\",\"linecolor\":\"white\",\"ticks\":\"\"},\"baxis\":{\"gridcolor\":\"white\",\"linecolor\":\"white\",\"ticks\":\"\"},\"caxis\":{\"gridcolor\":\"white\",\"linecolor\":\"white\",\"ticks\":\"\"}},\"coloraxis\":{\"colorbar\":{\"outlinewidth\":0,\"ticks\":\"\"}},\"colorscale\":{\"sequential\":[[0.0,\"#0d0887\"],[0.1111111111111111,\"#46039f\"],[0.2222222222222222,\"#7201a8\"],[0.3333333333333333,\"#9c179e\"],[0.4444444444444444,\"#bd3786\"],[0.5555555555555556,\"#d8576b\"],[0.6666666666666666,\"#ed7953\"],[0.7777777777777778,\"#fb9f3a\"],[0.8888888888888888,\"#fdca26\"],[1.0,\"#f0f921\"]],\"sequentialminus\":[[0.0,\"#0d0887\"],[0.1111111111111111,\"#46039f\"],[0.2222222222222222,\"#7201a8\"],[0.3333333333333333,\"#9c179e\"],[0.4444444444444444,\"#bd3786\"],[0.5555555555555556,\"#d8576b\"],[0.6666666666666666,\"#ed7953\"],[0.7777777777777778,\"#fb9f3a\"],[0.8888888888888888,\"#fdca26\"],[1.0,\"#f0f921\"]],\"diverging\":[[0,\"#8e0152\"],[0.1,\"#c51b7d\"],[0.2,\"#de77ae\"],[0.3,\"#f1b6da\"],[0.4,\"#fde0ef\"],[0.5,\"#f7f7f7\"],[0.6,\"#e6f5d0\"],[0.7,\"#b8e186\"],[0.8,\"#7fbc41\"],[0.9,\"#4d9221\"],[1,\"#276419\"]]},\"xaxis\":{\"gridcolor\":\"white\",\"linecolor\":\"white\",\"ticks\":\"\",\"title\":{\"standoff\":15},\"zerolinecolor\":\"white\",\"automargin\":true,\"zerolinewidth\":2},\"yaxis\":{\"gridcolor\":\"white\",\"linecolor\":\"white\",\"ticks\":\"\",\"title\":{\"standoff\":15},\"zerolinecolor\":\"white\",\"automargin\":true,\"zerolinewidth\":2},\"scene\":{\"xaxis\":{\"backgroundcolor\":\"#E5ECF6\",\"gridcolor\":\"white\",\"linecolor\":\"white\",\"showbackground\":true,\"ticks\":\"\",\"zerolinecolor\":\"white\",\"gridwidth\":2},\"yaxis\":{\"backgroundcolor\":\"#E5ECF6\",\"gridcolor\":\"white\",\"linecolor\":\"white\",\"showbackground\":true,\"ticks\":\"\",\"zerolinecolor\":\"white\",\"gridwidth\":2},\"zaxis\":{\"backgroundcolor\":\"#E5ECF6\",\"gridcolor\":\"white\",\"linecolor\":\"white\",\"showbackground\":true,\"ticks\":\"\",\"zerolinecolor\":\"white\",\"gridwidth\":2}},\"shapedefaults\":{\"line\":{\"color\":\"#2a3f5f\"}},\"annotationdefaults\":{\"arrowcolor\":\"#2a3f5f\",\"arrowhead\":0,\"arrowwidth\":1},\"geo\":{\"bgcolor\":\"white\",\"landcolor\":\"#E5ECF6\",\"subunitcolor\":\"white\",\"showland\":true,\"showlakes\":true,\"lakecolor\":\"white\"},\"title\":{\"x\":0.05},\"mapbox\":{\"style\":\"light\"}}},\"title\":{\"text\":\"Interest Rate by State\"},\"geo\":{\"scope\":\"usa\"},\"width\":800,\"height\":600},                        {\"responsive\": true}                    ).then(function(){\n",
              "                            \n",
              "var gd = document.getElementById('ea637b46-9dcd-4f12-9c98-2528f6eef585');\n",
              "var x = new MutationObserver(function (mutations, observer) {{\n",
              "        var display = window.getComputedStyle(gd).display;\n",
              "        if (!display || display === 'none') {{\n",
              "            console.log([gd, 'removed!']);\n",
              "            Plotly.purge(gd);\n",
              "            observer.disconnect();\n",
              "        }}\n",
              "}});\n",
              "\n",
              "// Listen for the removal of the full notebook cells\n",
              "var notebookContainer = gd.closest('#notebook-container');\n",
              "if (notebookContainer) {{\n",
              "    x.observe(notebookContainer, {childList: true});\n",
              "}}\n",
              "\n",
              "// Listen for the clearing of the current output cell\n",
              "var outputEl = gd.closest('.output');\n",
              "if (outputEl) {{\n",
              "    x.observe(outputEl, {childList: true});\n",
              "}}\n",
              "\n",
              "                        })                };                            </script>        </div>\n",
              "</body>\n",
              "</html>"
            ]
          },
          "metadata": {}
        }
      ]
    },
    {
      "cell_type": "markdown",
      "source": [
        "Note: MT and MS seemed had higher interest rates(14% - 16%). However, MT and MS only had 18 and 1 loan records so it was inconlcusive to state these states had higher interest rate."
      ],
      "metadata": {
        "id": "x6ql26nIU8gO"
      }
    },
    {
      "cell_type": "markdown",
      "source": [
        "#### Correlation Analysis Between Numeric Variables"
      ],
      "metadata": {
        "id": "YlKp1mAptZ69"
      }
    },
    {
      "cell_type": "markdown",
      "source": [
        "For this analysis, we excluded variables *total_pymnt* , *total_pymnt_inv*, *total_rec_prncp*, *total_rec_int* since this information would be unavailable at the time of predicting whether a borrower would default and when calculating the interest rate. Besides, we did not consider variable *out_prncp* & *out_prncp_inv* since they were all 0s. *id* was also excluded since it would not contribute to default and interest rate prediction."
      ],
      "metadata": {
        "id": "K-8b5ZJszOPv"
      }
    },
    {
      "cell_type": "markdown",
      "source": [
        "None of these numeric variables appeared to have a strong linear correlation with loan_status individually. The correlation coefficients between loan_status and other numeric variables, as well as between int_rate and other numeric variables (excluding loan_status), were all less than 0.5."
      ],
      "metadata": {
        "id": "LUzK9EbMyDcd"
      }
    },
    {
      "cell_type": "markdown",
      "source": [
        "Variables *loan_amnt*, *funded_amnt*, *funded_amnt_inv*, *installment* were super highly correlated with each other since *funded_amnt*, *funded_amnt_inv*, *installment* were largely determined by *loan_amnt*."
      ],
      "metadata": {
        "id": "_3VKXuJZzNeS"
      }
    },
    {
      "cell_type": "code",
      "source": [
        "df.drop(['out_prncp','out_prncp_inv','total_pymnt','total_pymnt_inv','total_rec_prncp','total_rec_int','id'], axis = 1 ,inplace = True)"
      ],
      "metadata": {
        "id": "o7kli96cbssU"
      },
      "execution_count": 20,
      "outputs": []
    },
    {
      "cell_type": "code",
      "source": [
        "# get correlationship between numeric variables\n",
        "\n",
        "pd.set_option('display.precision', 4)\n",
        "#get numeric variables\n",
        "numCol = []\n",
        "for col in df:\n",
        "  # out_prncp & out_prncp_inv were removed because they were all 0s\n",
        "  if df[col].dtype == float or df[col].dtype == int:\n",
        "    numCol.append(col)\n",
        "\n",
        "corr = df[numCol].corr()\n",
        "\n",
        "corr_score = df[numCol].corr()\n",
        "corr_score"
      ],
      "metadata": {
        "colab": {
          "base_uri": "https://localhost:8080/",
          "height": 540
        },
        "id": "wlpd1qgstgkf",
        "outputId": "9f18bd14-e324-42f6-d89d-f050c39c1201"
      },
      "execution_count": 21,
      "outputs": [
        {
          "output_type": "execute_result",
          "data": {
            "text/plain": [
              "                  loan_amnt  funded_amnt  funded_amnt_inv  int_rate  \\\n",
              "loan_amnt            1.0000       0.9911           0.9886    0.3084   \n",
              "funded_amnt          0.9911       1.0000           0.9977    0.3034   \n",
              "funded_amnt_inv      0.9886       0.9977           1.0000    0.3029   \n",
              "int_rate             0.3084       0.3034           0.3029    1.0000   \n",
              "installment          0.9452       0.9598           0.9592    0.2679   \n",
              "annual_inc           0.3748       0.3735           0.3716    0.0761   \n",
              "dti                  0.0268       0.0256           0.0252    0.0916   \n",
              "earliest_cr_line    -0.2085      -0.2047          -0.2040    0.1062   \n",
              "inq_last_6mths       0.0311       0.0344           0.0362    0.1995   \n",
              "open_acc             0.1659       0.1661           0.1655    0.0385   \n",
              "pub_rec             -0.0570      -0.0582          -0.0580    0.0984   \n",
              "revol_bal            0.3292       0.3275           0.3254    0.1022   \n",
              "revol_util           0.0202       0.0211           0.0224    0.4709   \n",
              "total_acc            0.2662       0.2636           0.2617   -0.0149   \n",
              "loan_status          0.0871       0.0839           0.0844    0.2645   \n",
              "\n",
              "                  installment  annual_inc     dti  earliest_cr_line  \\\n",
              "loan_amnt              0.9452      0.3748  0.0268           -0.2085   \n",
              "funded_amnt            0.9598      0.3735  0.0256           -0.2047   \n",
              "funded_amnt_inv        0.9592      0.3716  0.0252           -0.2040   \n",
              "int_rate               0.2679      0.0761  0.0916            0.1062   \n",
              "installment            1.0000      0.3852  0.0175           -0.1818   \n",
              "annual_inc             0.3852      1.0000 -0.1769           -0.2457   \n",
              "dti                    0.0175     -0.1769  1.0000           -0.0468   \n",
              "earliest_cr_line      -0.1818     -0.2457 -0.0468            1.0000   \n",
              "inq_last_6mths         0.0307      0.0482  0.0252           -0.0104   \n",
              "open_acc               0.1638      0.2026  0.2859           -0.2004   \n",
              "pub_rec               -0.0527     -0.0259 -0.0165           -0.0468   \n",
              "revol_bal              0.3257      0.3693  0.2133           -0.2789   \n",
              "revol_util             0.0565     -0.0053  0.2435            0.0538   \n",
              "total_acc              0.2432      0.3191  0.2242           -0.4002   \n",
              "loan_status            0.0435     -0.0697  0.0553            0.0211   \n",
              "\n",
              "                  inq_last_6mths  open_acc  pub_rec  revol_bal  revol_util  \\\n",
              "loan_amnt                 0.0311    0.1659  -0.0570     0.3292      0.0202   \n",
              "funded_amnt               0.0344    0.1661  -0.0582     0.3275      0.0211   \n",
              "funded_amnt_inv           0.0362    0.1655  -0.0580     0.3254      0.0224   \n",
              "int_rate                  0.1995    0.0385   0.0984     0.1022      0.4709   \n",
              "installment               0.0307    0.1638  -0.0527     0.3257      0.0565   \n",
              "annual_inc                0.0482    0.2026  -0.0259     0.3693     -0.0053   \n",
              "dti                       0.0252    0.2859  -0.0165     0.2133      0.2435   \n",
              "earliest_cr_line         -0.0104   -0.2004  -0.0468    -0.2789      0.0538   \n",
              "inq_last_6mths            1.0000    0.1075   0.0335    -0.0273     -0.0585   \n",
              "open_acc                  0.1075    1.0000   0.0010     0.2766     -0.1034   \n",
              "pub_rec                   0.0335    0.0010   1.0000    -0.0769      0.0289   \n",
              "revol_bal                -0.0273    0.2766  -0.0769     1.0000      0.2657   \n",
              "revol_util               -0.0585   -0.1034   0.0289     0.2657      1.0000   \n",
              "total_acc                 0.1259    0.6741  -0.0294     0.3059     -0.0987   \n",
              "loan_status               0.0695   -0.0058   0.0455    -0.0036      0.1151   \n",
              "\n",
              "                  total_acc  loan_status  \n",
              "loan_amnt            0.2662       0.0871  \n",
              "funded_amnt          0.2636       0.0839  \n",
              "funded_amnt_inv      0.2617       0.0844  \n",
              "int_rate            -0.0149       0.2645  \n",
              "installment          0.2432       0.0435  \n",
              "annual_inc           0.3191      -0.0697  \n",
              "dti                  0.2242       0.0553  \n",
              "earliest_cr_line    -0.4002       0.0211  \n",
              "inq_last_6mths       0.1259       0.0695  \n",
              "open_acc             0.6741      -0.0058  \n",
              "pub_rec             -0.0294       0.0455  \n",
              "revol_bal            0.3059      -0.0036  \n",
              "revol_util          -0.0987       0.1151  \n",
              "total_acc            1.0000      -0.0254  \n",
              "loan_status         -0.0254       1.0000  "
            ],
            "text/html": [
              "\n",
              "  <div id=\"df-9d1eeb23-6520-4258-905e-00cb6ed0f13e\" class=\"colab-df-container\">\n",
              "    <div>\n",
              "<style scoped>\n",
              "    .dataframe tbody tr th:only-of-type {\n",
              "        vertical-align: middle;\n",
              "    }\n",
              "\n",
              "    .dataframe tbody tr th {\n",
              "        vertical-align: top;\n",
              "    }\n",
              "\n",
              "    .dataframe thead th {\n",
              "        text-align: right;\n",
              "    }\n",
              "</style>\n",
              "<table border=\"1\" class=\"dataframe\">\n",
              "  <thead>\n",
              "    <tr style=\"text-align: right;\">\n",
              "      <th></th>\n",
              "      <th>loan_amnt</th>\n",
              "      <th>funded_amnt</th>\n",
              "      <th>funded_amnt_inv</th>\n",
              "      <th>int_rate</th>\n",
              "      <th>installment</th>\n",
              "      <th>annual_inc</th>\n",
              "      <th>dti</th>\n",
              "      <th>earliest_cr_line</th>\n",
              "      <th>inq_last_6mths</th>\n",
              "      <th>open_acc</th>\n",
              "      <th>pub_rec</th>\n",
              "      <th>revol_bal</th>\n",
              "      <th>revol_util</th>\n",
              "      <th>total_acc</th>\n",
              "      <th>loan_status</th>\n",
              "    </tr>\n",
              "  </thead>\n",
              "  <tbody>\n",
              "    <tr>\n",
              "      <th>loan_amnt</th>\n",
              "      <td>1.0000</td>\n",
              "      <td>0.9911</td>\n",
              "      <td>0.9886</td>\n",
              "      <td>0.3084</td>\n",
              "      <td>0.9452</td>\n",
              "      <td>0.3748</td>\n",
              "      <td>0.0268</td>\n",
              "      <td>-0.2085</td>\n",
              "      <td>0.0311</td>\n",
              "      <td>0.1659</td>\n",
              "      <td>-0.0570</td>\n",
              "      <td>0.3292</td>\n",
              "      <td>0.0202</td>\n",
              "      <td>0.2662</td>\n",
              "      <td>0.0871</td>\n",
              "    </tr>\n",
              "    <tr>\n",
              "      <th>funded_amnt</th>\n",
              "      <td>0.9911</td>\n",
              "      <td>1.0000</td>\n",
              "      <td>0.9977</td>\n",
              "      <td>0.3034</td>\n",
              "      <td>0.9598</td>\n",
              "      <td>0.3735</td>\n",
              "      <td>0.0256</td>\n",
              "      <td>-0.2047</td>\n",
              "      <td>0.0344</td>\n",
              "      <td>0.1661</td>\n",
              "      <td>-0.0582</td>\n",
              "      <td>0.3275</td>\n",
              "      <td>0.0211</td>\n",
              "      <td>0.2636</td>\n",
              "      <td>0.0839</td>\n",
              "    </tr>\n",
              "    <tr>\n",
              "      <th>funded_amnt_inv</th>\n",
              "      <td>0.9886</td>\n",
              "      <td>0.9977</td>\n",
              "      <td>1.0000</td>\n",
              "      <td>0.3029</td>\n",
              "      <td>0.9592</td>\n",
              "      <td>0.3716</td>\n",
              "      <td>0.0252</td>\n",
              "      <td>-0.2040</td>\n",
              "      <td>0.0362</td>\n",
              "      <td>0.1655</td>\n",
              "      <td>-0.0580</td>\n",
              "      <td>0.3254</td>\n",
              "      <td>0.0224</td>\n",
              "      <td>0.2617</td>\n",
              "      <td>0.0844</td>\n",
              "    </tr>\n",
              "    <tr>\n",
              "      <th>int_rate</th>\n",
              "      <td>0.3084</td>\n",
              "      <td>0.3034</td>\n",
              "      <td>0.3029</td>\n",
              "      <td>1.0000</td>\n",
              "      <td>0.2679</td>\n",
              "      <td>0.0761</td>\n",
              "      <td>0.0916</td>\n",
              "      <td>0.1062</td>\n",
              "      <td>0.1995</td>\n",
              "      <td>0.0385</td>\n",
              "      <td>0.0984</td>\n",
              "      <td>0.1022</td>\n",
              "      <td>0.4709</td>\n",
              "      <td>-0.0149</td>\n",
              "      <td>0.2645</td>\n",
              "    </tr>\n",
              "    <tr>\n",
              "      <th>installment</th>\n",
              "      <td>0.9452</td>\n",
              "      <td>0.9598</td>\n",
              "      <td>0.9592</td>\n",
              "      <td>0.2679</td>\n",
              "      <td>1.0000</td>\n",
              "      <td>0.3852</td>\n",
              "      <td>0.0175</td>\n",
              "      <td>-0.1818</td>\n",
              "      <td>0.0307</td>\n",
              "      <td>0.1638</td>\n",
              "      <td>-0.0527</td>\n",
              "      <td>0.3257</td>\n",
              "      <td>0.0565</td>\n",
              "      <td>0.2432</td>\n",
              "      <td>0.0435</td>\n",
              "    </tr>\n",
              "    <tr>\n",
              "      <th>annual_inc</th>\n",
              "      <td>0.3748</td>\n",
              "      <td>0.3735</td>\n",
              "      <td>0.3716</td>\n",
              "      <td>0.0761</td>\n",
              "      <td>0.3852</td>\n",
              "      <td>1.0000</td>\n",
              "      <td>-0.1769</td>\n",
              "      <td>-0.2457</td>\n",
              "      <td>0.0482</td>\n",
              "      <td>0.2026</td>\n",
              "      <td>-0.0259</td>\n",
              "      <td>0.3693</td>\n",
              "      <td>-0.0053</td>\n",
              "      <td>0.3191</td>\n",
              "      <td>-0.0697</td>\n",
              "    </tr>\n",
              "    <tr>\n",
              "      <th>dti</th>\n",
              "      <td>0.0268</td>\n",
              "      <td>0.0256</td>\n",
              "      <td>0.0252</td>\n",
              "      <td>0.0916</td>\n",
              "      <td>0.0175</td>\n",
              "      <td>-0.1769</td>\n",
              "      <td>1.0000</td>\n",
              "      <td>-0.0468</td>\n",
              "      <td>0.0252</td>\n",
              "      <td>0.2859</td>\n",
              "      <td>-0.0165</td>\n",
              "      <td>0.2133</td>\n",
              "      <td>0.2435</td>\n",
              "      <td>0.2242</td>\n",
              "      <td>0.0553</td>\n",
              "    </tr>\n",
              "    <tr>\n",
              "      <th>earliest_cr_line</th>\n",
              "      <td>-0.2085</td>\n",
              "      <td>-0.2047</td>\n",
              "      <td>-0.2040</td>\n",
              "      <td>0.1062</td>\n",
              "      <td>-0.1818</td>\n",
              "      <td>-0.2457</td>\n",
              "      <td>-0.0468</td>\n",
              "      <td>1.0000</td>\n",
              "      <td>-0.0104</td>\n",
              "      <td>-0.2004</td>\n",
              "      <td>-0.0468</td>\n",
              "      <td>-0.2789</td>\n",
              "      <td>0.0538</td>\n",
              "      <td>-0.4002</td>\n",
              "      <td>0.0211</td>\n",
              "    </tr>\n",
              "    <tr>\n",
              "      <th>inq_last_6mths</th>\n",
              "      <td>0.0311</td>\n",
              "      <td>0.0344</td>\n",
              "      <td>0.0362</td>\n",
              "      <td>0.1995</td>\n",
              "      <td>0.0307</td>\n",
              "      <td>0.0482</td>\n",
              "      <td>0.0252</td>\n",
              "      <td>-0.0104</td>\n",
              "      <td>1.0000</td>\n",
              "      <td>0.1075</td>\n",
              "      <td>0.0335</td>\n",
              "      <td>-0.0273</td>\n",
              "      <td>-0.0585</td>\n",
              "      <td>0.1259</td>\n",
              "      <td>0.0695</td>\n",
              "    </tr>\n",
              "    <tr>\n",
              "      <th>open_acc</th>\n",
              "      <td>0.1659</td>\n",
              "      <td>0.1661</td>\n",
              "      <td>0.1655</td>\n",
              "      <td>0.0385</td>\n",
              "      <td>0.1638</td>\n",
              "      <td>0.2026</td>\n",
              "      <td>0.2859</td>\n",
              "      <td>-0.2004</td>\n",
              "      <td>0.1075</td>\n",
              "      <td>1.0000</td>\n",
              "      <td>0.0010</td>\n",
              "      <td>0.2766</td>\n",
              "      <td>-0.1034</td>\n",
              "      <td>0.6741</td>\n",
              "      <td>-0.0058</td>\n",
              "    </tr>\n",
              "    <tr>\n",
              "      <th>pub_rec</th>\n",
              "      <td>-0.0570</td>\n",
              "      <td>-0.0582</td>\n",
              "      <td>-0.0580</td>\n",
              "      <td>0.0984</td>\n",
              "      <td>-0.0527</td>\n",
              "      <td>-0.0259</td>\n",
              "      <td>-0.0165</td>\n",
              "      <td>-0.0468</td>\n",
              "      <td>0.0335</td>\n",
              "      <td>0.0010</td>\n",
              "      <td>1.0000</td>\n",
              "      <td>-0.0769</td>\n",
              "      <td>0.0289</td>\n",
              "      <td>-0.0294</td>\n",
              "      <td>0.0455</td>\n",
              "    </tr>\n",
              "    <tr>\n",
              "      <th>revol_bal</th>\n",
              "      <td>0.3292</td>\n",
              "      <td>0.3275</td>\n",
              "      <td>0.3254</td>\n",
              "      <td>0.1022</td>\n",
              "      <td>0.3257</td>\n",
              "      <td>0.3693</td>\n",
              "      <td>0.2133</td>\n",
              "      <td>-0.2789</td>\n",
              "      <td>-0.0273</td>\n",
              "      <td>0.2766</td>\n",
              "      <td>-0.0769</td>\n",
              "      <td>1.0000</td>\n",
              "      <td>0.2657</td>\n",
              "      <td>0.3059</td>\n",
              "      <td>-0.0036</td>\n",
              "    </tr>\n",
              "    <tr>\n",
              "      <th>revol_util</th>\n",
              "      <td>0.0202</td>\n",
              "      <td>0.0211</td>\n",
              "      <td>0.0224</td>\n",
              "      <td>0.4709</td>\n",
              "      <td>0.0565</td>\n",
              "      <td>-0.0053</td>\n",
              "      <td>0.2435</td>\n",
              "      <td>0.0538</td>\n",
              "      <td>-0.0585</td>\n",
              "      <td>-0.1034</td>\n",
              "      <td>0.0289</td>\n",
              "      <td>0.2657</td>\n",
              "      <td>1.0000</td>\n",
              "      <td>-0.0987</td>\n",
              "      <td>0.1151</td>\n",
              "    </tr>\n",
              "    <tr>\n",
              "      <th>total_acc</th>\n",
              "      <td>0.2662</td>\n",
              "      <td>0.2636</td>\n",
              "      <td>0.2617</td>\n",
              "      <td>-0.0149</td>\n",
              "      <td>0.2432</td>\n",
              "      <td>0.3191</td>\n",
              "      <td>0.2242</td>\n",
              "      <td>-0.4002</td>\n",
              "      <td>0.1259</td>\n",
              "      <td>0.6741</td>\n",
              "      <td>-0.0294</td>\n",
              "      <td>0.3059</td>\n",
              "      <td>-0.0987</td>\n",
              "      <td>1.0000</td>\n",
              "      <td>-0.0254</td>\n",
              "    </tr>\n",
              "    <tr>\n",
              "      <th>loan_status</th>\n",
              "      <td>0.0871</td>\n",
              "      <td>0.0839</td>\n",
              "      <td>0.0844</td>\n",
              "      <td>0.2645</td>\n",
              "      <td>0.0435</td>\n",
              "      <td>-0.0697</td>\n",
              "      <td>0.0553</td>\n",
              "      <td>0.0211</td>\n",
              "      <td>0.0695</td>\n",
              "      <td>-0.0058</td>\n",
              "      <td>0.0455</td>\n",
              "      <td>-0.0036</td>\n",
              "      <td>0.1151</td>\n",
              "      <td>-0.0254</td>\n",
              "      <td>1.0000</td>\n",
              "    </tr>\n",
              "  </tbody>\n",
              "</table>\n",
              "</div>\n",
              "    <div class=\"colab-df-buttons\">\n",
              "\n",
              "  <div class=\"colab-df-container\">\n",
              "    <button class=\"colab-df-convert\" onclick=\"convertToInteractive('df-9d1eeb23-6520-4258-905e-00cb6ed0f13e')\"\n",
              "            title=\"Convert this dataframe to an interactive table.\"\n",
              "            style=\"display:none;\">\n",
              "\n",
              "  <svg xmlns=\"http://www.w3.org/2000/svg\" height=\"24px\" viewBox=\"0 -960 960 960\">\n",
              "    <path d=\"M120-120v-720h720v720H120Zm60-500h600v-160H180v160Zm220 220h160v-160H400v160Zm0 220h160v-160H400v160ZM180-400h160v-160H180v160Zm440 0h160v-160H620v160ZM180-180h160v-160H180v160Zm440 0h160v-160H620v160Z\"/>\n",
              "  </svg>\n",
              "    </button>\n",
              "\n",
              "  <style>\n",
              "    .colab-df-container {\n",
              "      display:flex;\n",
              "      gap: 12px;\n",
              "    }\n",
              "\n",
              "    .colab-df-convert {\n",
              "      background-color: #E8F0FE;\n",
              "      border: none;\n",
              "      border-radius: 50%;\n",
              "      cursor: pointer;\n",
              "      display: none;\n",
              "      fill: #1967D2;\n",
              "      height: 32px;\n",
              "      padding: 0 0 0 0;\n",
              "      width: 32px;\n",
              "    }\n",
              "\n",
              "    .colab-df-convert:hover {\n",
              "      background-color: #E2EBFA;\n",
              "      box-shadow: 0px 1px 2px rgba(60, 64, 67, 0.3), 0px 1px 3px 1px rgba(60, 64, 67, 0.15);\n",
              "      fill: #174EA6;\n",
              "    }\n",
              "\n",
              "    .colab-df-buttons div {\n",
              "      margin-bottom: 4px;\n",
              "    }\n",
              "\n",
              "    [theme=dark] .colab-df-convert {\n",
              "      background-color: #3B4455;\n",
              "      fill: #D2E3FC;\n",
              "    }\n",
              "\n",
              "    [theme=dark] .colab-df-convert:hover {\n",
              "      background-color: #434B5C;\n",
              "      box-shadow: 0px 1px 3px 1px rgba(0, 0, 0, 0.15);\n",
              "      filter: drop-shadow(0px 1px 2px rgba(0, 0, 0, 0.3));\n",
              "      fill: #FFFFFF;\n",
              "    }\n",
              "  </style>\n",
              "\n",
              "    <script>\n",
              "      const buttonEl =\n",
              "        document.querySelector('#df-9d1eeb23-6520-4258-905e-00cb6ed0f13e button.colab-df-convert');\n",
              "      buttonEl.style.display =\n",
              "        google.colab.kernel.accessAllowed ? 'block' : 'none';\n",
              "\n",
              "      async function convertToInteractive(key) {\n",
              "        const element = document.querySelector('#df-9d1eeb23-6520-4258-905e-00cb6ed0f13e');\n",
              "        const dataTable =\n",
              "          await google.colab.kernel.invokeFunction('convertToInteractive',\n",
              "                                                    [key], {});\n",
              "        if (!dataTable) return;\n",
              "\n",
              "        const docLinkHtml = 'Like what you see? Visit the ' +\n",
              "          '<a target=\"_blank\" href=https://colab.research.google.com/notebooks/data_table.ipynb>data table notebook</a>'\n",
              "          + ' to learn more about interactive tables.';\n",
              "        element.innerHTML = '';\n",
              "        dataTable['output_type'] = 'display_data';\n",
              "        await google.colab.output.renderOutput(dataTable, element);\n",
              "        const docLink = document.createElement('div');\n",
              "        docLink.innerHTML = docLinkHtml;\n",
              "        element.appendChild(docLink);\n",
              "      }\n",
              "    </script>\n",
              "  </div>\n",
              "\n",
              "\n",
              "<div id=\"df-1ec1911e-1ba8-40d8-83d0-33e2bb8337c7\">\n",
              "  <button class=\"colab-df-quickchart\" onclick=\"quickchart('df-1ec1911e-1ba8-40d8-83d0-33e2bb8337c7')\"\n",
              "            title=\"Suggest charts\"\n",
              "            style=\"display:none;\">\n",
              "\n",
              "<svg xmlns=\"http://www.w3.org/2000/svg\" height=\"24px\"viewBox=\"0 0 24 24\"\n",
              "     width=\"24px\">\n",
              "    <g>\n",
              "        <path d=\"M19 3H5c-1.1 0-2 .9-2 2v14c0 1.1.9 2 2 2h14c1.1 0 2-.9 2-2V5c0-1.1-.9-2-2-2zM9 17H7v-7h2v7zm4 0h-2V7h2v10zm4 0h-2v-4h2v4z\"/>\n",
              "    </g>\n",
              "</svg>\n",
              "  </button>\n",
              "\n",
              "<style>\n",
              "  .colab-df-quickchart {\n",
              "      --bg-color: #E8F0FE;\n",
              "      --fill-color: #1967D2;\n",
              "      --hover-bg-color: #E2EBFA;\n",
              "      --hover-fill-color: #174EA6;\n",
              "      --disabled-fill-color: #AAA;\n",
              "      --disabled-bg-color: #DDD;\n",
              "  }\n",
              "\n",
              "  [theme=dark] .colab-df-quickchart {\n",
              "      --bg-color: #3B4455;\n",
              "      --fill-color: #D2E3FC;\n",
              "      --hover-bg-color: #434B5C;\n",
              "      --hover-fill-color: #FFFFFF;\n",
              "      --disabled-bg-color: #3B4455;\n",
              "      --disabled-fill-color: #666;\n",
              "  }\n",
              "\n",
              "  .colab-df-quickchart {\n",
              "    background-color: var(--bg-color);\n",
              "    border: none;\n",
              "    border-radius: 50%;\n",
              "    cursor: pointer;\n",
              "    display: none;\n",
              "    fill: var(--fill-color);\n",
              "    height: 32px;\n",
              "    padding: 0;\n",
              "    width: 32px;\n",
              "  }\n",
              "\n",
              "  .colab-df-quickchart:hover {\n",
              "    background-color: var(--hover-bg-color);\n",
              "    box-shadow: 0 1px 2px rgba(60, 64, 67, 0.3), 0 1px 3px 1px rgba(60, 64, 67, 0.15);\n",
              "    fill: var(--button-hover-fill-color);\n",
              "  }\n",
              "\n",
              "  .colab-df-quickchart-complete:disabled,\n",
              "  .colab-df-quickchart-complete:disabled:hover {\n",
              "    background-color: var(--disabled-bg-color);\n",
              "    fill: var(--disabled-fill-color);\n",
              "    box-shadow: none;\n",
              "  }\n",
              "\n",
              "  .colab-df-spinner {\n",
              "    border: 2px solid var(--fill-color);\n",
              "    border-color: transparent;\n",
              "    border-bottom-color: var(--fill-color);\n",
              "    animation:\n",
              "      spin 1s steps(1) infinite;\n",
              "  }\n",
              "\n",
              "  @keyframes spin {\n",
              "    0% {\n",
              "      border-color: transparent;\n",
              "      border-bottom-color: var(--fill-color);\n",
              "      border-left-color: var(--fill-color);\n",
              "    }\n",
              "    20% {\n",
              "      border-color: transparent;\n",
              "      border-left-color: var(--fill-color);\n",
              "      border-top-color: var(--fill-color);\n",
              "    }\n",
              "    30% {\n",
              "      border-color: transparent;\n",
              "      border-left-color: var(--fill-color);\n",
              "      border-top-color: var(--fill-color);\n",
              "      border-right-color: var(--fill-color);\n",
              "    }\n",
              "    40% {\n",
              "      border-color: transparent;\n",
              "      border-right-color: var(--fill-color);\n",
              "      border-top-color: var(--fill-color);\n",
              "    }\n",
              "    60% {\n",
              "      border-color: transparent;\n",
              "      border-right-color: var(--fill-color);\n",
              "    }\n",
              "    80% {\n",
              "      border-color: transparent;\n",
              "      border-right-color: var(--fill-color);\n",
              "      border-bottom-color: var(--fill-color);\n",
              "    }\n",
              "    90% {\n",
              "      border-color: transparent;\n",
              "      border-bottom-color: var(--fill-color);\n",
              "    }\n",
              "  }\n",
              "</style>\n",
              "\n",
              "  <script>\n",
              "    async function quickchart(key) {\n",
              "      const quickchartButtonEl =\n",
              "        document.querySelector('#' + key + ' button');\n",
              "      quickchartButtonEl.disabled = true;  // To prevent multiple clicks.\n",
              "      quickchartButtonEl.classList.add('colab-df-spinner');\n",
              "      try {\n",
              "        const charts = await google.colab.kernel.invokeFunction(\n",
              "            'suggestCharts', [key], {});\n",
              "      } catch (error) {\n",
              "        console.error('Error during call to suggestCharts:', error);\n",
              "      }\n",
              "      quickchartButtonEl.classList.remove('colab-df-spinner');\n",
              "      quickchartButtonEl.classList.add('colab-df-quickchart-complete');\n",
              "    }\n",
              "    (() => {\n",
              "      let quickchartButtonEl =\n",
              "        document.querySelector('#df-1ec1911e-1ba8-40d8-83d0-33e2bb8337c7 button');\n",
              "      quickchartButtonEl.style.display =\n",
              "        google.colab.kernel.accessAllowed ? 'block' : 'none';\n",
              "    })();\n",
              "  </script>\n",
              "</div>\n",
              "\n",
              "  <div id=\"id_dfad879a-02c7-48c5-9c08-c5728f815840\">\n",
              "    <style>\n",
              "      .colab-df-generate {\n",
              "        background-color: #E8F0FE;\n",
              "        border: none;\n",
              "        border-radius: 50%;\n",
              "        cursor: pointer;\n",
              "        display: none;\n",
              "        fill: #1967D2;\n",
              "        height: 32px;\n",
              "        padding: 0 0 0 0;\n",
              "        width: 32px;\n",
              "      }\n",
              "\n",
              "      .colab-df-generate:hover {\n",
              "        background-color: #E2EBFA;\n",
              "        box-shadow: 0px 1px 2px rgba(60, 64, 67, 0.3), 0px 1px 3px 1px rgba(60, 64, 67, 0.15);\n",
              "        fill: #174EA6;\n",
              "      }\n",
              "\n",
              "      [theme=dark] .colab-df-generate {\n",
              "        background-color: #3B4455;\n",
              "        fill: #D2E3FC;\n",
              "      }\n",
              "\n",
              "      [theme=dark] .colab-df-generate:hover {\n",
              "        background-color: #434B5C;\n",
              "        box-shadow: 0px 1px 3px 1px rgba(0, 0, 0, 0.15);\n",
              "        filter: drop-shadow(0px 1px 2px rgba(0, 0, 0, 0.3));\n",
              "        fill: #FFFFFF;\n",
              "      }\n",
              "    </style>\n",
              "    <button class=\"colab-df-generate\" onclick=\"generateWithVariable('corr_score')\"\n",
              "            title=\"Generate code using this dataframe.\"\n",
              "            style=\"display:none;\">\n",
              "\n",
              "  <svg xmlns=\"http://www.w3.org/2000/svg\" height=\"24px\"viewBox=\"0 0 24 24\"\n",
              "       width=\"24px\">\n",
              "    <path d=\"M7,19H8.4L18.45,9,17,7.55,7,17.6ZM5,21V16.75L18.45,3.32a2,2,0,0,1,2.83,0l1.4,1.43a1.91,1.91,0,0,1,.58,1.4,1.91,1.91,0,0,1-.58,1.4L9.25,21ZM18.45,9,17,7.55Zm-12,3A5.31,5.31,0,0,0,4.9,8.1,5.31,5.31,0,0,0,1,6.5,5.31,5.31,0,0,0,4.9,4.9,5.31,5.31,0,0,0,6.5,1,5.31,5.31,0,0,0,8.1,4.9,5.31,5.31,0,0,0,12,6.5,5.46,5.46,0,0,0,6.5,12Z\"/>\n",
              "  </svg>\n",
              "    </button>\n",
              "    <script>\n",
              "      (() => {\n",
              "      const buttonEl =\n",
              "        document.querySelector('#id_dfad879a-02c7-48c5-9c08-c5728f815840 button.colab-df-generate');\n",
              "      buttonEl.style.display =\n",
              "        google.colab.kernel.accessAllowed ? 'block' : 'none';\n",
              "\n",
              "      buttonEl.onclick = () => {\n",
              "        google.colab.notebook.generateWithVariable('corr_score');\n",
              "      }\n",
              "      })();\n",
              "    </script>\n",
              "  </div>\n",
              "\n",
              "    </div>\n",
              "  </div>\n"
            ],
            "application/vnd.google.colaboratory.intrinsic+json": {
              "type": "dataframe",
              "variable_name": "corr_score",
              "summary": "{\n  \"name\": \"corr_score\",\n  \"rows\": 15,\n  \"fields\": [\n    {\n      \"column\": \"loan_amnt\",\n      \"properties\": {\n        \"dtype\": \"number\",\n        \"std\": 0.4226433347128347,\n        \"min\": -0.2084620258044174,\n        \"max\": 1.0,\n        \"num_unique_values\": 15,\n        \"samples\": [\n          0.16594220729471576,\n          0.3292351336565275,\n          1.0\n        ],\n        \"semantic_type\": \"\",\n        \"description\": \"\"\n      }\n    },\n    {\n      \"column\": \"funded_amnt\",\n      \"properties\": {\n        \"dtype\": \"number\",\n        \"std\": 0.4248898376181784,\n        \"min\": -0.20468926936000223,\n        \"max\": 1.0,\n        \"num_unique_values\": 15,\n        \"samples\": [\n          0.16606291092645864,\n          0.32748008121551464,\n          0.9910768069005302\n        ],\n        \"semantic_type\": \"\",\n        \"description\": \"\"\n      }\n    },\n    {\n      \"column\": \"funded_amnt_inv\",\n      \"properties\": {\n        \"dtype\": \"number\",\n        \"std\": 0.4243592784480568,\n        \"min\": -0.2040242231738871,\n        \"max\": 1.0,\n        \"num_unique_values\": 15,\n        \"samples\": [\n          0.16552465065235256,\n          0.32538752540163246,\n          0.9885624862380328\n        ],\n        \"semantic_type\": \"\",\n        \"description\": \"\"\n      }\n    },\n    {\n      \"column\": \"int_rate\",\n      \"properties\": {\n        \"dtype\": \"number\",\n        \"std\": 0.24755330949465226,\n        \"min\": -0.014897000119895091,\n        \"max\": 1.0,\n        \"num_unique_values\": 15,\n        \"samples\": [\n          0.038537112529928884,\n          0.1022116529143263,\n          0.3084426245317125\n        ],\n        \"semantic_type\": \"\",\n        \"description\": \"\"\n      }\n    },\n    {\n      \"column\": \"installment\",\n      \"properties\": {\n        \"dtype\": \"number\",\n        \"std\": 0.41502290231967714,\n        \"min\": -0.18178758812871262,\n        \"max\": 1.0,\n        \"num_unique_values\": 15,\n        \"samples\": [\n          0.16381989854768406,\n          0.325748638723711,\n          0.9452274022387325\n        ],\n        \"semantic_type\": \"\",\n        \"description\": \"\"\n      }\n    },\n    {\n      \"column\": \"annual_inc\",\n      \"properties\": {\n        \"dtype\": \"number\",\n        \"std\": 0.31078820492783077,\n        \"min\": -0.24565047804210607,\n        \"max\": 1.0,\n        \"num_unique_values\": 15,\n        \"samples\": [\n          0.20259634186280812,\n          0.3692855052246869,\n          0.3748327806496655\n        ],\n        \"semantic_type\": \"\",\n        \"description\": \"\"\n      }\n    },\n    {\n      \"column\": \"dti\",\n      \"properties\": {\n        \"dtype\": \"number\",\n        \"std\": 0.26991509863021906,\n        \"min\": -0.1769204120046554,\n        \"max\": 1.0,\n        \"num_unique_values\": 15,\n        \"samples\": [\n          0.2859456833394858,\n          0.2132716897772916,\n          0.026780062087583444\n        ],\n        \"semantic_type\": \"\",\n        \"description\": \"\"\n      }\n    },\n    {\n      \"column\": \"earliest_cr_line\",\n      \"properties\": {\n        \"dtype\": \"number\",\n        \"std\": 0.3240134745842515,\n        \"min\": -0.40021143225866174,\n        \"max\": 1.0,\n        \"num_unique_values\": 15,\n        \"samples\": [\n          -0.20041442924208977,\n          -0.27894232389678314,\n          -0.2084620258044174\n        ],\n        \"semantic_type\": \"\",\n        \"description\": \"\"\n      }\n    },\n    {\n      \"column\": \"inq_last_6mths\",\n      \"properties\": {\n        \"dtype\": \"number\",\n        \"std\": 0.254147838270848,\n        \"min\": -0.058507392593879916,\n        \"max\": 1.0,\n        \"num_unique_values\": 15,\n        \"samples\": [\n          0.10746607595250002,\n          -0.02726102589556211,\n          0.03109898179984368\n        ],\n        \"semantic_type\": \"\",\n        \"description\": \"\"\n      }\n    },\n    {\n      \"column\": \"open_acc\",\n      \"properties\": {\n        \"dtype\": \"number\",\n        \"std\": 0.29899801714737406,\n        \"min\": -0.20041442924208977,\n        \"max\": 1.0,\n        \"num_unique_values\": 15,\n        \"samples\": [\n          1.0,\n          0.27663580071808963,\n          0.16594220729471576\n        ],\n        \"semantic_type\": \"\",\n        \"description\": \"\"\n      }\n    },\n    {\n      \"column\": \"pub_rec\",\n      \"properties\": {\n        \"dtype\": \"number\",\n        \"std\": 0.266623453716309,\n        \"min\": -0.0769464118943097,\n        \"max\": 1.0,\n        \"num_unique_values\": 15,\n        \"samples\": [\n          0.0010232826005111648,\n          -0.0769464118943097,\n          -0.057049671215305964\n        ],\n        \"semantic_type\": \"\",\n        \"description\": \"\"\n      }\n    },\n    {\n      \"column\": \"revol_bal\",\n      \"properties\": {\n        \"dtype\": \"number\",\n        \"std\": 0.2865709970562811,\n        \"min\": -0.27894232389678314,\n        \"max\": 1.0,\n        \"num_unique_values\": 15,\n        \"samples\": [\n          0.27663580071808963,\n          1.0,\n          0.3292351336565275\n        ],\n        \"semantic_type\": \"\",\n        \"description\": \"\"\n      }\n    },\n    {\n      \"column\": \"revol_util\",\n      \"properties\": {\n        \"dtype\": \"number\",\n        \"std\": 0.2830594541073012,\n        \"min\": -0.10337142928841339,\n        \"max\": 1.0,\n        \"num_unique_values\": 15,\n        \"samples\": [\n          -0.10337142928841339,\n          0.26570786743885827,\n          0.02023348101149477\n        ],\n        \"semantic_type\": \"\",\n        \"description\": \"\"\n      }\n    },\n    {\n      \"column\": \"total_acc\",\n      \"properties\": {\n        \"dtype\": \"number\",\n        \"std\": 0.3282592980363536,\n        \"min\": -0.40021143225866174,\n        \"max\": 1.0,\n        \"num_unique_values\": 15,\n        \"samples\": [\n          0.6741453790167811,\n          0.3059185134497116,\n          0.2662246575951889\n        ],\n        \"semantic_type\": \"\",\n        \"description\": \"\"\n      }\n    },\n    {\n      \"column\": \"loan_status\",\n      \"properties\": {\n        \"dtype\": \"number\",\n        \"std\": 0.25565317745458727,\n        \"min\": -0.06969560189075745,\n        \"max\": 1.0,\n        \"num_unique_values\": 15,\n        \"samples\": [\n          -0.005847417718828781,\n          -0.0035815773219938654,\n          0.08710022355805572\n        ],\n        \"semantic_type\": \"\",\n        \"description\": \"\"\n      }\n    }\n  ]\n}"
            }
          },
          "metadata": {},
          "execution_count": 21
        }
      ]
    },
    {
      "cell_type": "code",
      "source": [
        "sns.set()\n",
        "\n",
        "plt.figure(figsize=(10, 8))\n",
        "ax = sns.heatmap(\n",
        "    corr,\n",
        "    vmin=-1, vmax=1, center=0,\n",
        "    cmap=sns.diverging_palette(20, 220, n=200),\n",
        "    square=True\n",
        ")\n",
        "ax.set_xticklabels(\n",
        "    ax.get_xticklabels(),\n",
        "    rotation=45,\n",
        "    horizontalalignment='right')"
      ],
      "metadata": {
        "colab": {
          "base_uri": "https://localhost:8080/",
          "height": 1000
        },
        "id": "72g-hYHpiYDX",
        "outputId": "4bb6d8ff-ce85-4e4e-a2c6-3f0c41d0a4dc"
      },
      "execution_count": 22,
      "outputs": [
        {
          "output_type": "execute_result",
          "data": {
            "text/plain": [
              "[Text(0.5, 0, 'loan_amnt'),\n",
              " Text(1.5, 0, 'funded_amnt'),\n",
              " Text(2.5, 0, 'funded_amnt_inv'),\n",
              " Text(3.5, 0, 'int_rate'),\n",
              " Text(4.5, 0, 'installment'),\n",
              " Text(5.5, 0, 'annual_inc'),\n",
              " Text(6.5, 0, 'dti'),\n",
              " Text(7.5, 0, 'earliest_cr_line'),\n",
              " Text(8.5, 0, 'inq_last_6mths'),\n",
              " Text(9.5, 0, 'open_acc'),\n",
              " Text(10.5, 0, 'pub_rec'),\n",
              " Text(11.5, 0, 'revol_bal'),\n",
              " Text(12.5, 0, 'revol_util'),\n",
              " Text(13.5, 0, 'total_acc'),\n",
              " Text(14.5, 0, 'loan_status')]"
            ]
          },
          "metadata": {},
          "execution_count": 22
        },
        {
          "output_type": "display_data",
          "data": {
            "text/plain": [
              "<Figure size 1000x800 with 2 Axes>"
            ],
            "image/png": "[encoded data removed]"
          },
          "metadata": {}
        }
      ]
    },
    {
      "cell_type": "markdown",
      "source": [
        "### 1.2.3 Outlier Detection"
      ],
      "metadata": {
        "id": "aZsAlxM8W-rd"
      }
    },
    {
      "cell_type": "markdown",
      "source": [
        "\n",
        "In this session, we excluded *funded_amnt*, *funded_amnt_inv* and *installment* since they were highly correlated with *loan_amnt*."
      ],
      "metadata": {
        "id": "IqRPQwsE3DUw"
      }
    },
    {
      "cell_type": "code",
      "source": [
        "df = df.drop(['funded_amnt', 'funded_amnt_inv','installment'], axis = 1)"
      ],
      "metadata": {
        "id": "DlvXLD6t2v38"
      },
      "execution_count": 23,
      "outputs": []
    },
    {
      "cell_type": "markdown",
      "source": [
        "\n",
        "For  *int_rate* ,*dti*, *inq_last_6mths* , and *pub_rec* the difference between min vs 5th percentile and max vs 95th percentile was small so there variables had no outlier."
      ],
      "metadata": {
        "id": "XnYq2ufO3fTq"
      }
    },
    {
      "cell_type": "code",
      "source": [
        "df.drop('loan_status',axis = 1).describe(percentiles=[0.05,0.5,0.95])"
      ],
      "metadata": {
        "colab": {
          "base_uri": "https://localhost:8080/",
          "height": 300
        },
        "id": "ZXpC1dVs3TUf",
        "outputId": "cc6c58e0-b680-44f3-cd70-bbc8e4e00ee8"
      },
      "execution_count": 24,
      "outputs": [
        {
          "output_type": "execute_result",
          "data": {
            "text/plain": [
              "        loan_amnt   int_rate  annual_inc      dti  earliest_cr_line  \\\n",
              "count   9004.0000  9004.0000  9.0040e+03  9004.00         9004.0000   \n",
              "mean   12291.8842    12.1267  6.9577e+04    13.89        37300.4628   \n",
              "std     8285.6822     4.1957  4.8858e+04     6.61         4379.6522   \n",
              "min     1000.0000     5.4200  6.0000e+03     0.00        19998.0000   \n",
              "5%      2500.0000     6.0300  2.5000e+04     2.97        30742.0000   \n",
              "50%    10000.0000    11.7100  6.0000e+04    13.94        36161.0000   \n",
              "95%    30000.0000    19.4200  1.4700e+05    24.20        43040.0000   \n",
              "max    35000.0000    24.1100  1.7820e+06    29.92        43076.0000   \n",
              "\n",
              "       inq_last_6mths   open_acc    pub_rec    revol_bal  revol_util  \\\n",
              "count       9004.0000  9004.0000  9004.0000    9004.0000   9001.0000   \n",
              "mean           0.8572     9.4298     0.0474   13658.4161     52.3688   \n",
              "std            1.0440     4.2638     0.2157   15038.8254     27.6448   \n",
              "min            0.0000     2.0000     0.0000       0.0000      0.0000   \n",
              "5%             0.0000     4.0000     0.0000     613.2000      4.3000   \n",
              "50%            1.0000     9.0000     0.0000    9889.0000     54.7000   \n",
              "95%            3.0000    17.0000     0.0000   38496.6500     93.8000   \n",
              "max            8.0000    34.0000     2.0000  148804.0000     99.9000   \n",
              "\n",
              "       total_acc  \n",
              "count  9004.0000  \n",
              "mean     22.4386  \n",
              "std      11.1465  \n",
              "min       3.0000  \n",
              "5%        7.0000  \n",
              "50%      21.0000  \n",
              "95%      43.0000  \n",
              "max      79.0000  "
            ],
            "text/html": [
              "\n",
              "  <div id=\"df-95b7cc7a-8617-42b6-95ed-9aba9beae3be\" class=\"colab-df-container\">\n",
              "    <div>\n",
              "<style scoped>\n",
              "    .dataframe tbody tr th:only-of-type {\n",
              "        vertical-align: middle;\n",
              "    }\n",
              "\n",
              "    .dataframe tbody tr th {\n",
              "        vertical-align: top;\n",
              "    }\n",
              "\n",
              "    .dataframe thead th {\n",
              "        text-align: right;\n",
              "    }\n",
              "</style>\n",
              "<table border=\"1\" class=\"dataframe\">\n",
              "  <thead>\n",
              "    <tr style=\"text-align: right;\">\n",
              "      <th></th>\n",
              "      <th>loan_amnt</th>\n",
              "      <th>int_rate</th>\n",
              "      <th>annual_inc</th>\n",
              "      <th>dti</th>\n",
              "      <th>earliest_cr_line</th>\n",
              "      <th>inq_last_6mths</th>\n",
              "      <th>open_acc</th>\n",
              "      <th>pub_rec</th>\n",
              "      <th>revol_bal</th>\n",
              "      <th>revol_util</th>\n",
              "      <th>total_acc</th>\n",
              "    </tr>\n",
              "  </thead>\n",
              "  <tbody>\n",
              "    <tr>\n",
              "      <th>count</th>\n",
              "      <td>9004.0000</td>\n",
              "      <td>9004.0000</td>\n",
              "      <td>9.0040e+03</td>\n",
              "      <td>9004.00</td>\n",
              "      <td>9004.0000</td>\n",
              "      <td>9004.0000</td>\n",
              "      <td>9004.0000</td>\n",
              "      <td>9004.0000</td>\n",
              "      <td>9004.0000</td>\n",
              "      <td>9001.0000</td>\n",
              "      <td>9004.0000</td>\n",
              "    </tr>\n",
              "    <tr>\n",
              "      <th>mean</th>\n",
              "      <td>12291.8842</td>\n",
              "      <td>12.1267</td>\n",
              "      <td>6.9577e+04</td>\n",
              "      <td>13.89</td>\n",
              "      <td>37300.4628</td>\n",
              "      <td>0.8572</td>\n",
              "      <td>9.4298</td>\n",
              "      <td>0.0474</td>\n",
              "      <td>13658.4161</td>\n",
              "      <td>52.3688</td>\n",
              "      <td>22.4386</td>\n",
              "    </tr>\n",
              "    <tr>\n",
              "      <th>std</th>\n",
              "      <td>8285.6822</td>\n",
              "      <td>4.1957</td>\n",
              "      <td>4.8858e+04</td>\n",
              "      <td>6.61</td>\n",
              "      <td>4379.6522</td>\n",
              "      <td>1.0440</td>\n",
              "      <td>4.2638</td>\n",
              "      <td>0.2157</td>\n",
              "      <td>15038.8254</td>\n",
              "      <td>27.6448</td>\n",
              "      <td>11.1465</td>\n",
              "    </tr>\n",
              "    <tr>\n",
              "      <th>min</th>\n",
              "      <td>1000.0000</td>\n",
              "      <td>5.4200</td>\n",
              "      <td>6.0000e+03</td>\n",
              "      <td>0.00</td>\n",
              "      <td>19998.0000</td>\n",
              "      <td>0.0000</td>\n",
              "      <td>2.0000</td>\n",
              "      <td>0.0000</td>\n",
              "      <td>0.0000</td>\n",
              "      <td>0.0000</td>\n",
              "      <td>3.0000</td>\n",
              "    </tr>\n",
              "    <tr>\n",
              "      <th>5%</th>\n",
              "      <td>2500.0000</td>\n",
              "      <td>6.0300</td>\n",
              "      <td>2.5000e+04</td>\n",
              "      <td>2.97</td>\n",
              "      <td>30742.0000</td>\n",
              "      <td>0.0000</td>\n",
              "      <td>4.0000</td>\n",
              "      <td>0.0000</td>\n",
              "      <td>613.2000</td>\n",
              "      <td>4.3000</td>\n",
              "      <td>7.0000</td>\n",
              "    </tr>\n",
              "    <tr>\n",
              "      <th>50%</th>\n",
              "      <td>10000.0000</td>\n",
              "      <td>11.7100</td>\n",
              "      <td>6.0000e+04</td>\n",
              "      <td>13.94</td>\n",
              "      <td>36161.0000</td>\n",
              "      <td>1.0000</td>\n",
              "      <td>9.0000</td>\n",
              "      <td>0.0000</td>\n",
              "      <td>9889.0000</td>\n",
              "      <td>54.7000</td>\n",
              "      <td>21.0000</td>\n",
              "    </tr>\n",
              "    <tr>\n",
              "      <th>95%</th>\n",
              "      <td>30000.0000</td>\n",
              "      <td>19.4200</td>\n",
              "      <td>1.4700e+05</td>\n",
              "      <td>24.20</td>\n",
              "      <td>43040.0000</td>\n",
              "      <td>3.0000</td>\n",
              "      <td>17.0000</td>\n",
              "      <td>0.0000</td>\n",
              "      <td>38496.6500</td>\n",
              "      <td>93.8000</td>\n",
              "      <td>43.0000</td>\n",
              "    </tr>\n",
              "    <tr>\n",
              "      <th>max</th>\n",
              "      <td>35000.0000</td>\n",
              "      <td>24.1100</td>\n",
              "      <td>1.7820e+06</td>\n",
              "      <td>29.92</td>\n",
              "      <td>43076.0000</td>\n",
              "      <td>8.0000</td>\n",
              "      <td>34.0000</td>\n",
              "      <td>2.0000</td>\n",
              "      <td>148804.0000</td>\n",
              "      <td>99.9000</td>\n",
              "      <td>79.0000</td>\n",
              "    </tr>\n",
              "  </tbody>\n",
              "</table>\n",
              "</div>\n",
              "    <div class=\"colab-df-buttons\">\n",
              "\n",
              "  <div class=\"colab-df-container\">\n",
              "    <button class=\"colab-df-convert\" onclick=\"convertToInteractive('df-95b7cc7a-8617-42b6-95ed-9aba9beae3be')\"\n",
              "            title=\"Convert this dataframe to an interactive table.\"\n",
              "            style=\"display:none;\">\n",
              "\n",
              "  <svg xmlns=\"http://www.w3.org/2000/svg\" height=\"24px\" viewBox=\"0 -960 960 960\">\n",
              "    <path d=\"M120-120v-720h720v720H120Zm60-500h600v-160H180v160Zm220 220h160v-160H400v160Zm0 220h160v-160H400v160ZM180-400h160v-160H180v160Zm440 0h160v-160H620v160ZM180-180h160v-160H180v160Zm440 0h160v-160H620v160Z\"/>\n",
              "  </svg>\n",
              "    </button>\n",
              "\n",
              "  <style>\n",
              "    .colab-df-container {\n",
              "      display:flex;\n",
              "      gap: 12px;\n",
              "    }\n",
              "\n",
              "    .colab-df-convert {\n",
              "      background-color: #E8F0FE;\n",
              "      border: none;\n",
              "      border-radius: 50%;\n",
              "      cursor: pointer;\n",
              "      display: none;\n",
              "      fill: #1967D2;\n",
              "      height: 32px;\n",
              "      padding: 0 0 0 0;\n",
              "      width: 32px;\n",
              "    }\n",
              "\n",
              "    .colab-df-convert:hover {\n",
              "      background-color: #E2EBFA;\n",
              "      box-shadow: 0px 1px 2px rgba(60, 64, 67, 0.3), 0px 1px 3px 1px rgba(60, 64, 67, 0.15);\n",
              "      fill: #174EA6;\n",
              "    }\n",
              "\n",
              "    .colab-df-buttons div {\n",
              "      margin-bottom: 4px;\n",
              "    }\n",
              "\n",
              "    [theme=dark] .colab-df-convert {\n",
              "      background-color: #3B4455;\n",
              "      fill: #D2E3FC;\n",
              "    }\n",
              "\n",
              "    [theme=dark] .colab-df-convert:hover {\n",
              "      background-color: #434B5C;\n",
              "      box-shadow: 0px 1px 3px 1px rgba(0, 0, 0, 0.15);\n",
              "      filter: drop-shadow(0px 1px 2px rgba(0, 0, 0, 0.3));\n",
              "      fill: #FFFFFF;\n",
              "    }\n",
              "  </style>\n",
              "\n",
              "    <script>\n",
              "      const buttonEl =\n",
              "        document.querySelector('#df-95b7cc7a-8617-42b6-95ed-9aba9beae3be button.colab-df-convert');\n",
              "      buttonEl.style.display =\n",
              "        google.colab.kernel.accessAllowed ? 'block' : 'none';\n",
              "\n",
              "      async function convertToInteractive(key) {\n",
              "        const element = document.querySelector('#df-95b7cc7a-8617-42b6-95ed-9aba9beae3be');\n",
              "        const dataTable =\n",
              "          await google.colab.kernel.invokeFunction('convertToInteractive',\n",
              "                                                    [key], {});\n",
              "        if (!dataTable) return;\n",
              "\n",
              "        const docLinkHtml = 'Like what you see? Visit the ' +\n",
              "          '<a target=\"_blank\" href=https://colab.research.google.com/notebooks/data_table.ipynb>data table notebook</a>'\n",
              "          + ' to learn more about interactive tables.';\n",
              "        element.innerHTML = '';\n",
              "        dataTable['output_type'] = 'display_data';\n",
              "        await google.colab.output.renderOutput(dataTable, element);\n",
              "        const docLink = document.createElement('div');\n",
              "        docLink.innerHTML = docLinkHtml;\n",
              "        element.appendChild(docLink);\n",
              "      }\n",
              "    </script>\n",
              "  </div>\n",
              "\n",
              "\n",
              "<div id=\"df-7b6bebbc-beed-4408-bcbb-3946c1e0f2cd\">\n",
              "  <button class=\"colab-df-quickchart\" onclick=\"quickchart('df-7b6bebbc-beed-4408-bcbb-3946c1e0f2cd')\"\n",
              "            title=\"Suggest charts\"\n",
              "            style=\"display:none;\">\n",
              "\n",
              "<svg xmlns=\"http://www.w3.org/2000/svg\" height=\"24px\"viewBox=\"0 0 24 24\"\n",
              "     width=\"24px\">\n",
              "    <g>\n",
              "        <path d=\"M19 3H5c-1.1 0-2 .9-2 2v14c0 1.1.9 2 2 2h14c1.1 0 2-.9 2-2V5c0-1.1-.9-2-2-2zM9 17H7v-7h2v7zm4 0h-2V7h2v10zm4 0h-2v-4h2v4z\"/>\n",
              "    </g>\n",
              "</svg>\n",
              "  </button>\n",
              "\n",
              "<style>\n",
              "  .colab-df-quickchart {\n",
              "      --bg-color: #E8F0FE;\n",
              "      --fill-color: #1967D2;\n",
              "      --hover-bg-color: #E2EBFA;\n",
              "      --hover-fill-color: #174EA6;\n",
              "      --disabled-fill-color: #AAA;\n",
              "      --disabled-bg-color: #DDD;\n",
              "  }\n",
              "\n",
              "  [theme=dark] .colab-df-quickchart {\n",
              "      --bg-color: #3B4455;\n",
              "      --fill-color: #D2E3FC;\n",
              "      --hover-bg-color: #434B5C;\n",
              "      --hover-fill-color: #FFFFFF;\n",
              "      --disabled-bg-color: #3B4455;\n",
              "      --disabled-fill-color: #666;\n",
              "  }\n",
              "\n",
              "  .colab-df-quickchart {\n",
              "    background-color: var(--bg-color);\n",
              "    border: none;\n",
              "    border-radius: 50%;\n",
              "    cursor: pointer;\n",
              "    display: none;\n",
              "    fill: var(--fill-color);\n",
              "    height: 32px;\n",
              "    padding: 0;\n",
              "    width: 32px;\n",
              "  }\n",
              "\n",
              "  .colab-df-quickchart:hover {\n",
              "    background-color: var(--hover-bg-color);\n",
              "    box-shadow: 0 1px 2px rgba(60, 64, 67, 0.3), 0 1px 3px 1px rgba(60, 64, 67, 0.15);\n",
              "    fill: var(--button-hover-fill-color);\n",
              "  }\n",
              "\n",
              "  .colab-df-quickchart-complete:disabled,\n",
              "  .colab-df-quickchart-complete:disabled:hover {\n",
              "    background-color: var(--disabled-bg-color);\n",
              "    fill: var(--disabled-fill-color);\n",
              "    box-shadow: none;\n",
              "  }\n",
              "\n",
              "  .colab-df-spinner {\n",
              "    border: 2px solid var(--fill-color);\n",
              "    border-color: transparent;\n",
              "    border-bottom-color: var(--fill-color);\n",
              "    animation:\n",
              "      spin 1s steps(1) infinite;\n",
              "  }\n",
              "\n",
              "  @keyframes spin {\n",
              "    0% {\n",
              "      border-color: transparent;\n",
              "      border-bottom-color: var(--fill-color);\n",
              "      border-left-color: var(--fill-color);\n",
              "    }\n",
              "    20% {\n",
              "      border-color: transparent;\n",
              "      border-left-color: var(--fill-color);\n",
              "      border-top-color: var(--fill-color);\n",
              "    }\n",
              "    30% {\n",
              "      border-color: transparent;\n",
              "      border-left-color: var(--fill-color);\n",
              "      border-top-color: var(--fill-color);\n",
              "      border-right-color: var(--fill-color);\n",
              "    }\n",
              "    40% {\n",
              "      border-color: transparent;\n",
              "      border-right-color: var(--fill-color);\n",
              "      border-top-color: var(--fill-color);\n",
              "    }\n",
              "    60% {\n",
              "      border-color: transparent;\n",
              "      border-right-color: var(--fill-color);\n",
              "    }\n",
              "    80% {\n",
              "      border-color: transparent;\n",
              "      border-right-color: var(--fill-color);\n",
              "      border-bottom-color: var(--fill-color);\n",
              "    }\n",
              "    90% {\n",
              "      border-color: transparent;\n",
              "      border-bottom-color: var(--fill-color);\n",
              "    }\n",
              "  }\n",
              "</style>\n",
              "\n",
              "  <script>\n",
              "    async function quickchart(key) {\n",
              "      const quickchartButtonEl =\n",
              "        document.querySelector('#' + key + ' button');\n",
              "      quickchartButtonEl.disabled = true;  // To prevent multiple clicks.\n",
              "      quickchartButtonEl.classList.add('colab-df-spinner');\n",
              "      try {\n",
              "        const charts = await google.colab.kernel.invokeFunction(\n",
              "            'suggestCharts', [key], {});\n",
              "      } catch (error) {\n",
              "        console.error('Error during call to suggestCharts:', error);\n",
              "      }\n",
              "      quickchartButtonEl.classList.remove('colab-df-spinner');\n",
              "      quickchartButtonEl.classList.add('colab-df-quickchart-complete');\n",
              "    }\n",
              "    (() => {\n",
              "      let quickchartButtonEl =\n",
              "        document.querySelector('#df-7b6bebbc-beed-4408-bcbb-3946c1e0f2cd button');\n",
              "      quickchartButtonEl.style.display =\n",
              "        google.colab.kernel.accessAllowed ? 'block' : 'none';\n",
              "    })();\n",
              "  </script>\n",
              "</div>\n",
              "\n",
              "    </div>\n",
              "  </div>\n"
            ],
            "application/vnd.google.colaboratory.intrinsic+json": {
              "type": "dataframe",
              "summary": "{\n  \"name\": \"df\",\n  \"rows\": 8,\n  \"fields\": [\n    {\n      \"column\": \"loan_amnt\",\n      \"properties\": {\n        \"dtype\": \"number\",\n        \"std\": 12380.063689392613,\n        \"min\": 1000.0,\n        \"max\": 35000.0,\n        \"num_unique_values\": 8,\n        \"samples\": [\n          12291.884162594402,\n          10000.0,\n          9004.0\n        ],\n        \"semantic_type\": \"\",\n        \"description\": \"\"\n      }\n    },\n    {\n      \"column\": \"int_rate\",\n      \"properties\": {\n        \"dtype\": \"number\",\n        \"std\": 3179.2096390072884,\n        \"min\": 4.19574039682585,\n        \"max\": 9004.0,\n        \"num_unique_values\": 8,\n        \"samples\": [\n          12.126728120835185,\n          11.71,\n          9004.0\n        ],\n        \"semantic_type\": \"\",\n        \"description\": \"\"\n      }\n    },\n    {\n      \"column\": \"annual_inc\",\n      \"properties\": {\n        \"dtype\": \"number\",\n        \"std\": 613219.3970060945,\n        \"min\": 6000.0,\n        \"max\": 1782000.0,\n        \"num_unique_values\": 8,\n        \"samples\": [\n          69576.92825410928,\n          60000.0,\n          9004.0\n        ],\n        \"semantic_type\": \"\",\n        \"description\": \"\"\n      }\n    },\n    {\n      \"column\": \"dti\",\n      \"properties\": {\n        \"dtype\": \"number\",\n        \"std\": 3178.7880335078944,\n        \"min\": 0.0,\n        \"max\": 9004.0,\n        \"num_unique_values\": 8,\n        \"samples\": [\n          13.889957796534873,\n          13.94,\n          9004.0\n        ],\n        \"semantic_type\": \"\",\n        \"description\": \"\"\n      }\n    },\n    {\n      \"column\": \"earliest_cr_line\",\n      \"properties\": {\n        \"dtype\": \"number\",\n        \"std\": 15103.907498374318,\n        \"min\": 4379.652217266971,\n        \"max\": 43076.0,\n        \"num_unique_values\": 8,\n        \"samples\": [\n          37300.46279431364,\n          36161.0,\n          9004.0\n        ],\n        \"semantic_type\": \"\",\n        \"description\": \"\"\n      }\n    },\n    {\n      \"column\": \"inq_last_6mths\",\n      \"properties\": {\n        \"dtype\": \"number\",\n        \"std\": 3182.693696705909,\n        \"min\": 0.0,\n        \"max\": 9004.0,\n        \"num_unique_values\": 7,\n        \"samples\": [\n          9004.0,\n          0.8571745890715238,\n          3.0\n        ],\n        \"semantic_type\": \"\",\n        \"description\": \"\"\n      }\n    },\n    {\n      \"column\": \"open_acc\",\n      \"properties\": {\n        \"dtype\": \"number\",\n        \"std\": 3179.386349104677,\n        \"min\": 2.0,\n        \"max\": 9004.0,\n        \"num_unique_values\": 8,\n        \"samples\": [\n          9.429808973789427,\n          9.0,\n          9004.0\n        ],\n        \"semantic_type\": \"\",\n        \"description\": \"\"\n      }\n    },\n    {\n      \"column\": \"pub_rec\",\n      \"properties\": {\n        \"dtype\": \"number\",\n        \"std\": 3183.2805000035532,\n        \"min\": 0.0,\n        \"max\": 9004.0,\n        \"num_unique_values\": 5,\n        \"samples\": [\n          0.0474233673922701,\n          2.0,\n          0.2156671007796827\n        ],\n        \"semantic_type\": \"\",\n        \"description\": \"\"\n      }\n    },\n    {\n      \"column\": \"revol_bal\",\n      \"properties\": {\n        \"dtype\": \"number\",\n        \"std\": 49690.196341128365,\n        \"min\": 0.0,\n        \"max\": 148804.0,\n        \"num_unique_values\": 8,\n        \"samples\": [\n          13658.4161483785,\n          9889.0,\n          9004.0\n        ],\n        \"semantic_type\": \"\",\n        \"description\": \"\"\n      }\n    },\n    {\n      \"column\": \"revol_util\",\n      \"properties\": {\n        \"dtype\": \"number\",\n        \"std\": 3165.7434371304466,\n        \"min\": 0.0,\n        \"max\": 9001.0,\n        \"num_unique_values\": 8,\n        \"samples\": [\n          52.368789023441835,\n          54.7,\n          9001.0\n        ],\n        \"semantic_type\": \"\",\n        \"description\": \"\"\n      }\n    },\n    {\n      \"column\": \"total_acc\",\n      \"properties\": {\n        \"dtype\": \"number\",\n        \"std\": 3174.066249515216,\n        \"min\": 3.0,\n        \"max\": 9004.0,\n        \"num_unique_values\": 8,\n        \"samples\": [\n          22.43858285206575,\n          21.0,\n          9004.0\n        ],\n        \"semantic_type\": \"\",\n        \"description\": \"\"\n      }\n    }\n  ]\n}"
            }
          },
          "metadata": {},
          "execution_count": 24
        }
      ]
    },
    {
      "cell_type": "markdown",
      "source": [
        "For the rest numeric variable, we considered values that fall more than 3 standard deviations away from the mean, either above or below, to be outliers.\n",
        "\n",
        "Variables *annual_inc*,*open_acc*, *revol_bal* and *total_acch* had outliers. *revol_bal* had more outliers, with 2% of values were outliers."
      ],
      "metadata": {
        "id": "D6hTRXOr5An8"
      }
    },
    {
      "cell_type": "code",
      "source": [
        "def get_outlier_record(column):\n",
        "  '''\n",
        "  This function aimed to get the records with outlier for input column\n",
        "  The outlier was away from +3/-3 of sd\n",
        "  '''\n",
        "  mean = df[column].mean()\n",
        "  std_dev = df[column].std()\n",
        "\n",
        "  # Calculate the cutoff for outliers\n",
        "  cutoff = 3 * std_dev\n",
        "  lower, upper = mean - cutoff, mean + cutoff\n",
        "\n",
        "  # Identify outliers\n",
        "  return  df[(df[column] < lower) | (df[column] > upper)]\n",
        "\n",
        "\n"
      ],
      "metadata": {
        "id": "rOfKAz2xbIhv"
      },
      "execution_count": 25,
      "outputs": []
    },
    {
      "cell_type": "code",
      "source": [
        "#get columns with outliers\n",
        "numCol = ['loan_amnt','annual_inc','earliest_cr_line','open_acc', 'revol_bal','revol_util','total_acc']\n",
        "for column in numCol:\n",
        "  outliers_df = get_outlier_record(column)\n",
        "  # Identify outliers\n",
        "  outliers = round(outliers_df.shape[0]/df.shape[0] * 100,0)\n",
        "\n",
        "  # Print outliers\n",
        "  if  outliers:\n",
        "    print(f\"% of Outliers in {column}: {outliers}%\")\n"
      ],
      "metadata": {
        "colab": {
          "base_uri": "https://localhost:8080/"
        },
        "id": "jt96p1WvhkXh",
        "outputId": "8e060815-c6f9-4443-cafc-262ceff4a1e1"
      },
      "execution_count": 26,
      "outputs": [
        {
          "output_type": "stream",
          "name": "stdout",
          "text": [
            "% of Outliers in annual_inc: 1.0%\n",
            "% of Outliers in open_acc: 1.0%\n",
            "% of Outliers in revol_bal: 2.0%\n",
            "% of Outliers in total_acc: 1.0%\n"
          ]
        }
      ]
    },
    {
      "cell_type": "markdown",
      "source": [
        "\n",
        "*   The outliers in *revol_bal*, *open_acc*, and *total_acc* were higher values, likely genuine because borrowers with high revolving balances usually had more accounts, and vice versa. Generally, the more accounts a borrower has, the higher the balances they might accumulate, and vice versa.\n",
        "*    The outliers in annual income were higher values, which were likely genuine given that average income typically increases with years of employment.\n",
        "\n",
        "\n"
      ],
      "metadata": {
        "id": "ZZZSQps0_AO3"
      }
    },
    {
      "cell_type": "code",
      "source": [
        "#revol_bal outlier exploration\n",
        "revol_bal = get_outlier_record('revol_bal')\n",
        "df_revol = pd.concat([revol_bal['revol_bal'].describe(percentiles=[0.25,0.5,0.75,0.95]),df['revol_bal'].describe([0.25,0.5,0.75,0.95]) ], axis = 1)\n",
        "df_revol.columns = ['revol_bal_outliers','revol_bal_all_data']\n",
        "df_revol.loc"
      ],
      "metadata": {
        "colab": {
          "base_uri": "https://localhost:8080/"
        },
        "id": "2ysfvK52wdYA",
        "outputId": "71a5a570-5d0a-43a5-d423-a915f42a2008"
      },
      "execution_count": 27,
      "outputs": [
        {
          "output_type": "execute_result",
          "data": {
            "text/plain": [
              "<pandas.core.indexing._LocIndexer at 0x7f2ac57b7290>"
            ]
          },
          "metadata": {},
          "execution_count": 27
        }
      ]
    },
    {
      "cell_type": "code",
      "source": [
        "#open_acc by revol_bal outlier vs grand total\n",
        "df_revol = pd.concat([revol_bal['open_acc'].describe(percentiles=[0.25,0.5,0.75,0.95]),df['open_acc'].describe([0.25,0.5,0.75,0.95]) ], axis = 1)\n",
        "df_revol.columns = ['open_acc_revol_bal_outliers','open_acc_all_data']\n",
        "df_revol.iloc[:-1]"
      ],
      "metadata": {
        "colab": {
          "base_uri": "https://localhost:8080/",
          "height": 300
        },
        "id": "0TiNUyJ7w-sN",
        "outputId": "53092dae-bb4f-48e0-d1bb-74353c4734b8"
      },
      "execution_count": 28,
      "outputs": [
        {
          "output_type": "execute_result",
          "data": {
            "text/plain": [
              "       open_acc_revol_bal_outliers  open_acc_all_data\n",
              "count                     186.0000          9004.0000\n",
              "mean                       12.4677             9.4298\n",
              "std                         4.3199             4.2638\n",
              "min                         5.0000             2.0000\n",
              "25%                         9.0000             6.0000\n",
              "50%                        12.0000             9.0000\n",
              "75%                        16.0000            12.0000\n",
              "95%                        20.0000            17.0000"
            ],
            "text/html": [
              "\n",
              "  <div id=\"df-d5bccd13-3842-4ef2-bdb7-ef47d9b11604\" class=\"colab-df-container\">\n",
              "    <div>\n",
              "<style scoped>\n",
              "    .dataframe tbody tr th:only-of-type {\n",
              "        vertical-align: middle;\n",
              "    }\n",
              "\n",
              "    .dataframe tbody tr th {\n",
              "        vertical-align: top;\n",
              "    }\n",
              "\n",
              "    .dataframe thead th {\n",
              "        text-align: right;\n",
              "    }\n",
              "</style>\n",
              "<table border=\"1\" class=\"dataframe\">\n",
              "  <thead>\n",
              "    <tr style=\"text-align: right;\">\n",
              "      <th></th>\n",
              "      <th>open_acc_revol_bal_outliers</th>\n",
              "      <th>open_acc_all_data</th>\n",
              "    </tr>\n",
              "  </thead>\n",
              "  <tbody>\n",
              "    <tr>\n",
              "      <th>count</th>\n",
              "      <td>186.0000</td>\n",
              "      <td>9004.0000</td>\n",
              "    </tr>\n",
              "    <tr>\n",
              "      <th>mean</th>\n",
              "      <td>12.4677</td>\n",
              "      <td>9.4298</td>\n",
              "    </tr>\n",
              "    <tr>\n",
              "      <th>std</th>\n",
              "      <td>4.3199</td>\n",
              "      <td>4.2638</td>\n",
              "    </tr>\n",
              "    <tr>\n",
              "      <th>min</th>\n",
              "      <td>5.0000</td>\n",
              "      <td>2.0000</td>\n",
              "    </tr>\n",
              "    <tr>\n",
              "      <th>25%</th>\n",
              "      <td>9.0000</td>\n",
              "      <td>6.0000</td>\n",
              "    </tr>\n",
              "    <tr>\n",
              "      <th>50%</th>\n",
              "      <td>12.0000</td>\n",
              "      <td>9.0000</td>\n",
              "    </tr>\n",
              "    <tr>\n",
              "      <th>75%</th>\n",
              "      <td>16.0000</td>\n",
              "      <td>12.0000</td>\n",
              "    </tr>\n",
              "    <tr>\n",
              "      <th>95%</th>\n",
              "      <td>20.0000</td>\n",
              "      <td>17.0000</td>\n",
              "    </tr>\n",
              "  </tbody>\n",
              "</table>\n",
              "</div>\n",
              "    <div class=\"colab-df-buttons\">\n",
              "\n",
              "  <div class=\"colab-df-container\">\n",
              "    <button class=\"colab-df-convert\" onclick=\"convertToInteractive('df-d5bccd13-3842-4ef2-bdb7-ef47d9b11604')\"\n",
              "            title=\"Convert this dataframe to an interactive table.\"\n",
              "            style=\"display:none;\">\n",
              "\n",
              "  <svg xmlns=\"http://www.w3.org/2000/svg\" height=\"24px\" viewBox=\"0 -960 960 960\">\n",
              "    <path d=\"M120-120v-720h720v720H120Zm60-500h600v-160H180v160Zm220 220h160v-160H400v160Zm0 220h160v-160H400v160ZM180-400h160v-160H180v160Zm440 0h160v-160H620v160ZM180-180h160v-160H180v160Zm440 0h160v-160H620v160Z\"/>\n",
              "  </svg>\n",
              "    </button>\n",
              "\n",
              "  <style>\n",
              "    .colab-df-container {\n",
              "      display:flex;\n",
              "      gap: 12px;\n",
              "    }\n",
              "\n",
              "    .colab-df-convert {\n",
              "      background-color: #E8F0FE;\n",
              "      border: none;\n",
              "      border-radius: 50%;\n",
              "      cursor: pointer;\n",
              "      display: none;\n",
              "      fill: #1967D2;\n",
              "      height: 32px;\n",
              "      padding: 0 0 0 0;\n",
              "      width: 32px;\n",
              "    }\n",
              "\n",
              "    .colab-df-convert:hover {\n",
              "      background-color: #E2EBFA;\n",
              "      box-shadow: 0px 1px 2px rgba(60, 64, 67, 0.3), 0px 1px 3px 1px rgba(60, 64, 67, 0.15);\n",
              "      fill: #174EA6;\n",
              "    }\n",
              "\n",
              "    .colab-df-buttons div {\n",
              "      margin-bottom: 4px;\n",
              "    }\n",
              "\n",
              "    [theme=dark] .colab-df-convert {\n",
              "      background-color: #3B4455;\n",
              "      fill: #D2E3FC;\n",
              "    }\n",
              "\n",
              "    [theme=dark] .colab-df-convert:hover {\n",
              "      background-color: #434B5C;\n",
              "      box-shadow: 0px 1px 3px 1px rgba(0, 0, 0, 0.15);\n",
              "      filter: drop-shadow(0px 1px 2px rgba(0, 0, 0, 0.3));\n",
              "      fill: #FFFFFF;\n",
              "    }\n",
              "  </style>\n",
              "\n",
              "    <script>\n",
              "      const buttonEl =\n",
              "        document.querySelector('#df-d5bccd13-3842-4ef2-bdb7-ef47d9b11604 button.colab-df-convert');\n",
              "      buttonEl.style.display =\n",
              "        google.colab.kernel.accessAllowed ? 'block' : 'none';\n",
              "\n",
              "      async function convertToInteractive(key) {\n",
              "        const element = document.querySelector('#df-d5bccd13-3842-4ef2-bdb7-ef47d9b11604');\n",
              "        const dataTable =\n",
              "          await google.colab.kernel.invokeFunction('convertToInteractive',\n",
              "                                                    [key], {});\n",
              "        if (!dataTable) return;\n",
              "\n",
              "        const docLinkHtml = 'Like what you see? Visit the ' +\n",
              "          '<a target=\"_blank\" href=https://colab.research.google.com/notebooks/data_table.ipynb>data table notebook</a>'\n",
              "          + ' to learn more about interactive tables.';\n",
              "        element.innerHTML = '';\n",
              "        dataTable['output_type'] = 'display_data';\n",
              "        await google.colab.output.renderOutput(dataTable, element);\n",
              "        const docLink = document.createElement('div');\n",
              "        docLink.innerHTML = docLinkHtml;\n",
              "        element.appendChild(docLink);\n",
              "      }\n",
              "    </script>\n",
              "  </div>\n",
              "\n",
              "\n",
              "<div id=\"df-ef36eb8f-8437-4266-a451-94d427340834\">\n",
              "  <button class=\"colab-df-quickchart\" onclick=\"quickchart('df-ef36eb8f-8437-4266-a451-94d427340834')\"\n",
              "            title=\"Suggest charts\"\n",
              "            style=\"display:none;\">\n",
              "\n",
              "<svg xmlns=\"http://www.w3.org/2000/svg\" height=\"24px\"viewBox=\"0 0 24 24\"\n",
              "     width=\"24px\">\n",
              "    <g>\n",
              "        <path d=\"M19 3H5c-1.1 0-2 .9-2 2v14c0 1.1.9 2 2 2h14c1.1 0 2-.9 2-2V5c0-1.1-.9-2-2-2zM9 17H7v-7h2v7zm4 0h-2V7h2v10zm4 0h-2v-4h2v4z\"/>\n",
              "    </g>\n",
              "</svg>\n",
              "  </button>\n",
              "\n",
              "<style>\n",
              "  .colab-df-quickchart {\n",
              "      --bg-color: #E8F0FE;\n",
              "      --fill-color: #1967D2;\n",
              "      --hover-bg-color: #E2EBFA;\n",
              "      --hover-fill-color: #174EA6;\n",
              "      --disabled-fill-color: #AAA;\n",
              "      --disabled-bg-color: #DDD;\n",
              "  }\n",
              "\n",
              "  [theme=dark] .colab-df-quickchart {\n",
              "      --bg-color: #3B4455;\n",
              "      --fill-color: #D2E3FC;\n",
              "      --hover-bg-color: #434B5C;\n",
              "      --hover-fill-color: #FFFFFF;\n",
              "      --disabled-bg-color: #3B4455;\n",
              "      --disabled-fill-color: #666;\n",
              "  }\n",
              "\n",
              "  .colab-df-quickchart {\n",
              "    background-color: var(--bg-color);\n",
              "    border: none;\n",
              "    border-radius: 50%;\n",
              "    cursor: pointer;\n",
              "    display: none;\n",
              "    fill: var(--fill-color);\n",
              "    height: 32px;\n",
              "    padding: 0;\n",
              "    width: 32px;\n",
              "  }\n",
              "\n",
              "  .colab-df-quickchart:hover {\n",
              "    background-color: var(--hover-bg-color);\n",
              "    box-shadow: 0 1px 2px rgba(60, 64, 67, 0.3), 0 1px 3px 1px rgba(60, 64, 67, 0.15);\n",
              "    fill: var(--button-hover-fill-color);\n",
              "  }\n",
              "\n",
              "  .colab-df-quickchart-complete:disabled,\n",
              "  .colab-df-quickchart-complete:disabled:hover {\n",
              "    background-color: var(--disabled-bg-color);\n",
              "    fill: var(--disabled-fill-color);\n",
              "    box-shadow: none;\n",
              "  }\n",
              "\n",
              "  .colab-df-spinner {\n",
              "    border: 2px solid var(--fill-color);\n",
              "    border-color: transparent;\n",
              "    border-bottom-color: var(--fill-color);\n",
              "    animation:\n",
              "      spin 1s steps(1) infinite;\n",
              "  }\n",
              "\n",
              "  @keyframes spin {\n",
              "    0% {\n",
              "      border-color: transparent;\n",
              "      border-bottom-color: var(--fill-color);\n",
              "      border-left-color: var(--fill-color);\n",
              "    }\n",
              "    20% {\n",
              "      border-color: transparent;\n",
              "      border-left-color: var(--fill-color);\n",
              "      border-top-color: var(--fill-color);\n",
              "    }\n",
              "    30% {\n",
              "      border-color: transparent;\n",
              "      border-left-color: var(--fill-color);\n",
              "      border-top-color: var(--fill-color);\n",
              "      border-right-color: var(--fill-color);\n",
              "    }\n",
              "    40% {\n",
              "      border-color: transparent;\n",
              "      border-right-color: var(--fill-color);\n",
              "      border-top-color: var(--fill-color);\n",
              "    }\n",
              "    60% {\n",
              "      border-color: transparent;\n",
              "      border-right-color: var(--fill-color);\n",
              "    }\n",
              "    80% {\n",
              "      border-color: transparent;\n",
              "      border-right-color: var(--fill-color);\n",
              "      border-bottom-color: var(--fill-color);\n",
              "    }\n",
              "    90% {\n",
              "      border-color: transparent;\n",
              "      border-bottom-color: var(--fill-color);\n",
              "    }\n",
              "  }\n",
              "</style>\n",
              "\n",
              "  <script>\n",
              "    async function quickchart(key) {\n",
              "      const quickchartButtonEl =\n",
              "        document.querySelector('#' + key + ' button');\n",
              "      quickchartButtonEl.disabled = true;  // To prevent multiple clicks.\n",
              "      quickchartButtonEl.classList.add('colab-df-spinner');\n",
              "      try {\n",
              "        const charts = await google.colab.kernel.invokeFunction(\n",
              "            'suggestCharts', [key], {});\n",
              "      } catch (error) {\n",
              "        console.error('Error during call to suggestCharts:', error);\n",
              "      }\n",
              "      quickchartButtonEl.classList.remove('colab-df-spinner');\n",
              "      quickchartButtonEl.classList.add('colab-df-quickchart-complete');\n",
              "    }\n",
              "    (() => {\n",
              "      let quickchartButtonEl =\n",
              "        document.querySelector('#df-ef36eb8f-8437-4266-a451-94d427340834 button');\n",
              "      quickchartButtonEl.style.display =\n",
              "        google.colab.kernel.accessAllowed ? 'block' : 'none';\n",
              "    })();\n",
              "  </script>\n",
              "</div>\n",
              "\n",
              "    </div>\n",
              "  </div>\n"
            ],
            "application/vnd.google.colaboratory.intrinsic+json": {
              "type": "dataframe",
              "summary": "{\n  \"name\": \"df_revol\",\n  \"rows\": 8,\n  \"fields\": [\n    {\n      \"column\": \"open_acc_revol_bal_outliers\",\n      \"properties\": {\n        \"dtype\": \"number\",\n        \"std\": 62.004662276462135,\n        \"min\": 4.319851381085273,\n        \"max\": 186.0,\n        \"num_unique_values\": 8,\n        \"samples\": [\n          12.46774193548387,\n          12.0,\n          186.0\n        ],\n        \"semantic_type\": \"\",\n        \"description\": \"\"\n      }\n    },\n    {\n      \"column\": \"open_acc_all_data\",\n      \"properties\": {\n        \"dtype\": \"number\",\n        \"std\": 3180.3831612417193,\n        \"min\": 2.0,\n        \"max\": 9004.0,\n        \"num_unique_values\": 8,\n        \"samples\": [\n          9.429808973789427,\n          9.0,\n          9004.0\n        ],\n        \"semantic_type\": \"\",\n        \"description\": \"\"\n      }\n    }\n  ]\n}"
            }
          },
          "metadata": {},
          "execution_count": 28
        }
      ]
    },
    {
      "cell_type": "code",
      "source": [
        "#income outlier exploration\n",
        "annual_inc = get_outlier_record('annual_inc')\n",
        "df_inc = pd.concat([annual_inc['annual_inc'].describe(percentiles=[0.25,0.5,0.75,0.95]),df['annual_inc'].describe([0.25,0.5,0.75,0.95]) ], axis = 1)\n",
        "df_inc.columns = ['annual_inc_outliers','annual_inc_all_data']\n",
        "df_inc"
      ],
      "metadata": {
        "colab": {
          "base_uri": "https://localhost:8080/",
          "height": 332
        },
        "id": "ARpDNtMKBqNN",
        "outputId": "f9e3ec5a-25e3-4aa2-a989-b6f181905261"
      },
      "execution_count": 29,
      "outputs": [
        {
          "output_type": "execute_result",
          "data": {
            "text/plain": [
              "       annual_inc_outliers  annual_inc_all_data\n",
              "count           1.1700e+02           9.0040e+03\n",
              "mean            3.1998e+05           6.9577e+04\n",
              "std             1.7381e+05           4.8858e+04\n",
              "min             2.1800e+05           6.0000e+03\n",
              "25%             2.4360e+05           4.2000e+04\n",
              "50%             2.7700e+05           6.0000e+04\n",
              "75%             3.2000e+05           8.3000e+04\n",
              "95%             5.2860e+05           1.4700e+05\n",
              "max             1.7820e+06           1.7820e+06"
            ],
            "text/html": [
              "\n",
              "  <div id=\"df-5510f985-e952-4ebc-b0ad-47f619f4aefc\" class=\"colab-df-container\">\n",
              "    <div>\n",
              "<style scoped>\n",
              "    .dataframe tbody tr th:only-of-type {\n",
              "        vertical-align: middle;\n",
              "    }\n",
              "\n",
              "    .dataframe tbody tr th {\n",
              "        vertical-align: top;\n",
              "    }\n",
              "\n",
              "    .dataframe thead th {\n",
              "        text-align: right;\n",
              "    }\n",
              "</style>\n",
              "<table border=\"1\" class=\"dataframe\">\n",
              "  <thead>\n",
              "    <tr style=\"text-align: right;\">\n",
              "      <th></th>\n",
              "      <th>annual_inc_outliers</th>\n",
              "      <th>annual_inc_all_data</th>\n",
              "    </tr>\n",
              "  </thead>\n",
              "  <tbody>\n",
              "    <tr>\n",
              "      <th>count</th>\n",
              "      <td>1.1700e+02</td>\n",
              "      <td>9.0040e+03</td>\n",
              "    </tr>\n",
              "    <tr>\n",
              "      <th>mean</th>\n",
              "      <td>3.1998e+05</td>\n",
              "      <td>6.9577e+04</td>\n",
              "    </tr>\n",
              "    <tr>\n",
              "      <th>std</th>\n",
              "      <td>1.7381e+05</td>\n",
              "      <td>4.8858e+04</td>\n",
              "    </tr>\n",
              "    <tr>\n",
              "      <th>min</th>\n",
              "      <td>2.1800e+05</td>\n",
              "      <td>6.0000e+03</td>\n",
              "    </tr>\n",
              "    <tr>\n",
              "      <th>25%</th>\n",
              "      <td>2.4360e+05</td>\n",
              "      <td>4.2000e+04</td>\n",
              "    </tr>\n",
              "    <tr>\n",
              "      <th>50%</th>\n",
              "      <td>2.7700e+05</td>\n",
              "      <td>6.0000e+04</td>\n",
              "    </tr>\n",
              "    <tr>\n",
              "      <th>75%</th>\n",
              "      <td>3.2000e+05</td>\n",
              "      <td>8.3000e+04</td>\n",
              "    </tr>\n",
              "    <tr>\n",
              "      <th>95%</th>\n",
              "      <td>5.2860e+05</td>\n",
              "      <td>1.4700e+05</td>\n",
              "    </tr>\n",
              "    <tr>\n",
              "      <th>max</th>\n",
              "      <td>1.7820e+06</td>\n",
              "      <td>1.7820e+06</td>\n",
              "    </tr>\n",
              "  </tbody>\n",
              "</table>\n",
              "</div>\n",
              "    <div class=\"colab-df-buttons\">\n",
              "\n",
              "  <div class=\"colab-df-container\">\n",
              "    <button class=\"colab-df-convert\" onclick=\"convertToInteractive('df-5510f985-e952-4ebc-b0ad-47f619f4aefc')\"\n",
              "            title=\"Convert this dataframe to an interactive table.\"\n",
              "            style=\"display:none;\">\n",
              "\n",
              "  <svg xmlns=\"http://www.w3.org/2000/svg\" height=\"24px\" viewBox=\"0 -960 960 960\">\n",
              "    <path d=\"M120-120v-720h720v720H120Zm60-500h600v-160H180v160Zm220 220h160v-160H400v160Zm0 220h160v-160H400v160ZM180-400h160v-160H180v160Zm440 0h160v-160H620v160ZM180-180h160v-160H180v160Zm440 0h160v-160H620v160Z\"/>\n",
              "  </svg>\n",
              "    </button>\n",
              "\n",
              "  <style>\n",
              "    .colab-df-container {\n",
              "      display:flex;\n",
              "      gap: 12px;\n",
              "    }\n",
              "\n",
              "    .colab-df-convert {\n",
              "      background-color: #E8F0FE;\n",
              "      border: none;\n",
              "      border-radius: 50%;\n",
              "      cursor: pointer;\n",
              "      display: none;\n",
              "      fill: #1967D2;\n",
              "      height: 32px;\n",
              "      padding: 0 0 0 0;\n",
              "      width: 32px;\n",
              "    }\n",
              "\n",
              "    .colab-df-convert:hover {\n",
              "      background-color: #E2EBFA;\n",
              "      box-shadow: 0px 1px 2px rgba(60, 64, 67, 0.3), 0px 1px 3px 1px rgba(60, 64, 67, 0.15);\n",
              "      fill: #174EA6;\n",
              "    }\n",
              "\n",
              "    .colab-df-buttons div {\n",
              "      margin-bottom: 4px;\n",
              "    }\n",
              "\n",
              "    [theme=dark] .colab-df-convert {\n",
              "      background-color: #3B4455;\n",
              "      fill: #D2E3FC;\n",
              "    }\n",
              "\n",
              "    [theme=dark] .colab-df-convert:hover {\n",
              "      background-color: #434B5C;\n",
              "      box-shadow: 0px 1px 3px 1px rgba(0, 0, 0, 0.15);\n",
              "      filter: drop-shadow(0px 1px 2px rgba(0, 0, 0, 0.3));\n",
              "      fill: #FFFFFF;\n",
              "    }\n",
              "  </style>\n",
              "\n",
              "    <script>\n",
              "      const buttonEl =\n",
              "        document.querySelector('#df-5510f985-e952-4ebc-b0ad-47f619f4aefc button.colab-df-convert');\n",
              "      buttonEl.style.display =\n",
              "        google.colab.kernel.accessAllowed ? 'block' : 'none';\n",
              "\n",
              "      async function convertToInteractive(key) {\n",
              "        const element = document.querySelector('#df-5510f985-e952-4ebc-b0ad-47f619f4aefc');\n",
              "        const dataTable =\n",
              "          await google.colab.kernel.invokeFunction('convertToInteractive',\n",
              "                                                    [key], {});\n",
              "        if (!dataTable) return;\n",
              "\n",
              "        const docLinkHtml = 'Like what you see? Visit the ' +\n",
              "          '<a target=\"_blank\" href=https://colab.research.google.com/notebooks/data_table.ipynb>data table notebook</a>'\n",
              "          + ' to learn more about interactive tables.';\n",
              "        element.innerHTML = '';\n",
              "        dataTable['output_type'] = 'display_data';\n",
              "        await google.colab.output.renderOutput(dataTable, element);\n",
              "        const docLink = document.createElement('div');\n",
              "        docLink.innerHTML = docLinkHtml;\n",
              "        element.appendChild(docLink);\n",
              "      }\n",
              "    </script>\n",
              "  </div>\n",
              "\n",
              "\n",
              "<div id=\"df-22fcdae0-ccf5-4566-bf3e-566144f51880\">\n",
              "  <button class=\"colab-df-quickchart\" onclick=\"quickchart('df-22fcdae0-ccf5-4566-bf3e-566144f51880')\"\n",
              "            title=\"Suggest charts\"\n",
              "            style=\"display:none;\">\n",
              "\n",
              "<svg xmlns=\"http://www.w3.org/2000/svg\" height=\"24px\"viewBox=\"0 0 24 24\"\n",
              "     width=\"24px\">\n",
              "    <g>\n",
              "        <path d=\"M19 3H5c-1.1 0-2 .9-2 2v14c0 1.1.9 2 2 2h14c1.1 0 2-.9 2-2V5c0-1.1-.9-2-2-2zM9 17H7v-7h2v7zm4 0h-2V7h2v10zm4 0h-2v-4h2v4z\"/>\n",
              "    </g>\n",
              "</svg>\n",
              "  </button>\n",
              "\n",
              "<style>\n",
              "  .colab-df-quickchart {\n",
              "      --bg-color: #E8F0FE;\n",
              "      --fill-color: #1967D2;\n",
              "      --hover-bg-color: #E2EBFA;\n",
              "      --hover-fill-color: #174EA6;\n",
              "      --disabled-fill-color: #AAA;\n",
              "      --disabled-bg-color: #DDD;\n",
              "  }\n",
              "\n",
              "  [theme=dark] .colab-df-quickchart {\n",
              "      --bg-color: #3B4455;\n",
              "      --fill-color: #D2E3FC;\n",
              "      --hover-bg-color: #434B5C;\n",
              "      --hover-fill-color: #FFFFFF;\n",
              "      --disabled-bg-color: #3B4455;\n",
              "      --disabled-fill-color: #666;\n",
              "  }\n",
              "\n",
              "  .colab-df-quickchart {\n",
              "    background-color: var(--bg-color);\n",
              "    border: none;\n",
              "    border-radius: 50%;\n",
              "    cursor: pointer;\n",
              "    display: none;\n",
              "    fill: var(--fill-color);\n",
              "    height: 32px;\n",
              "    padding: 0;\n",
              "    width: 32px;\n",
              "  }\n",
              "\n",
              "  .colab-df-quickchart:hover {\n",
              "    background-color: var(--hover-bg-color);\n",
              "    box-shadow: 0 1px 2px rgba(60, 64, 67, 0.3), 0 1px 3px 1px rgba(60, 64, 67, 0.15);\n",
              "    fill: var(--button-hover-fill-color);\n",
              "  }\n",
              "\n",
              "  .colab-df-quickchart-complete:disabled,\n",
              "  .colab-df-quickchart-complete:disabled:hover {\n",
              "    background-color: var(--disabled-bg-color);\n",
              "    fill: var(--disabled-fill-color);\n",
              "    box-shadow: none;\n",
              "  }\n",
              "\n",
              "  .colab-df-spinner {\n",
              "    border: 2px solid var(--fill-color);\n",
              "    border-color: transparent;\n",
              "    border-bottom-color: var(--fill-color);\n",
              "    animation:\n",
              "      spin 1s steps(1) infinite;\n",
              "  }\n",
              "\n",
              "  @keyframes spin {\n",
              "    0% {\n",
              "      border-color: transparent;\n",
              "      border-bottom-color: var(--fill-color);\n",
              "      border-left-color: var(--fill-color);\n",
              "    }\n",
              "    20% {\n",
              "      border-color: transparent;\n",
              "      border-left-color: var(--fill-color);\n",
              "      border-top-color: var(--fill-color);\n",
              "    }\n",
              "    30% {\n",
              "      border-color: transparent;\n",
              "      border-left-color: var(--fill-color);\n",
              "      border-top-color: var(--fill-color);\n",
              "      border-right-color: var(--fill-color);\n",
              "    }\n",
              "    40% {\n",
              "      border-color: transparent;\n",
              "      border-right-color: var(--fill-color);\n",
              "      border-top-color: var(--fill-color);\n",
              "    }\n",
              "    60% {\n",
              "      border-color: transparent;\n",
              "      border-right-color: var(--fill-color);\n",
              "    }\n",
              "    80% {\n",
              "      border-color: transparent;\n",
              "      border-right-color: var(--fill-color);\n",
              "      border-bottom-color: var(--fill-color);\n",
              "    }\n",
              "    90% {\n",
              "      border-color: transparent;\n",
              "      border-bottom-color: var(--fill-color);\n",
              "    }\n",
              "  }\n",
              "</style>\n",
              "\n",
              "  <script>\n",
              "    async function quickchart(key) {\n",
              "      const quickchartButtonEl =\n",
              "        document.querySelector('#' + key + ' button');\n",
              "      quickchartButtonEl.disabled = true;  // To prevent multiple clicks.\n",
              "      quickchartButtonEl.classList.add('colab-df-spinner');\n",
              "      try {\n",
              "        const charts = await google.colab.kernel.invokeFunction(\n",
              "            'suggestCharts', [key], {});\n",
              "      } catch (error) {\n",
              "        console.error('Error during call to suggestCharts:', error);\n",
              "      }\n",
              "      quickchartButtonEl.classList.remove('colab-df-spinner');\n",
              "      quickchartButtonEl.classList.add('colab-df-quickchart-complete');\n",
              "    }\n",
              "    (() => {\n",
              "      let quickchartButtonEl =\n",
              "        document.querySelector('#df-22fcdae0-ccf5-4566-bf3e-566144f51880 button');\n",
              "      quickchartButtonEl.style.display =\n",
              "        google.colab.kernel.accessAllowed ? 'block' : 'none';\n",
              "    })();\n",
              "  </script>\n",
              "</div>\n",
              "\n",
              "  <div id=\"id_ac2e7a0f-0168-4894-84cd-c8f55dcc5d8a\">\n",
              "    <style>\n",
              "      .colab-df-generate {\n",
              "        background-color: #E8F0FE;\n",
              "        border: none;\n",
              "        border-radius: 50%;\n",
              "        cursor: pointer;\n",
              "        display: none;\n",
              "        fill: #1967D2;\n",
              "        height: 32px;\n",
              "        padding: 0 0 0 0;\n",
              "        width: 32px;\n",
              "      }\n",
              "\n",
              "      .colab-df-generate:hover {\n",
              "        background-color: #E2EBFA;\n",
              "        box-shadow: 0px 1px 2px rgba(60, 64, 67, 0.3), 0px 1px 3px 1px rgba(60, 64, 67, 0.15);\n",
              "        fill: #174EA6;\n",
              "      }\n",
              "\n",
              "      [theme=dark] .colab-df-generate {\n",
              "        background-color: #3B4455;\n",
              "        fill: #D2E3FC;\n",
              "      }\n",
              "\n",
              "      [theme=dark] .colab-df-generate:hover {\n",
              "        background-color: #434B5C;\n",
              "        box-shadow: 0px 1px 3px 1px rgba(0, 0, 0, 0.15);\n",
              "        filter: drop-shadow(0px 1px 2px rgba(0, 0, 0, 0.3));\n",
              "        fill: #FFFFFF;\n",
              "      }\n",
              "    </style>\n",
              "    <button class=\"colab-df-generate\" onclick=\"generateWithVariable('df_inc')\"\n",
              "            title=\"Generate code using this dataframe.\"\n",
              "            style=\"display:none;\">\n",
              "\n",
              "  <svg xmlns=\"http://www.w3.org/2000/svg\" height=\"24px\"viewBox=\"0 0 24 24\"\n",
              "       width=\"24px\">\n",
              "    <path d=\"M7,19H8.4L18.45,9,17,7.55,7,17.6ZM5,21V16.75L18.45,3.32a2,2,0,0,1,2.83,0l1.4,1.43a1.91,1.91,0,0,1,.58,1.4,1.91,1.91,0,0,1-.58,1.4L9.25,21ZM18.45,9,17,7.55Zm-12,3A5.31,5.31,0,0,0,4.9,8.1,5.31,5.31,0,0,0,1,6.5,5.31,5.31,0,0,0,4.9,4.9,5.31,5.31,0,0,0,6.5,1,5.31,5.31,0,0,0,8.1,4.9,5.31,5.31,0,0,0,12,6.5,5.46,5.46,0,0,0,6.5,12Z\"/>\n",
              "  </svg>\n",
              "    </button>\n",
              "    <script>\n",
              "      (() => {\n",
              "      const buttonEl =\n",
              "        document.querySelector('#id_ac2e7a0f-0168-4894-84cd-c8f55dcc5d8a button.colab-df-generate');\n",
              "      buttonEl.style.display =\n",
              "        google.colab.kernel.accessAllowed ? 'block' : 'none';\n",
              "\n",
              "      buttonEl.onclick = () => {\n",
              "        google.colab.notebook.generateWithVariable('df_inc');\n",
              "      }\n",
              "      })();\n",
              "    </script>\n",
              "  </div>\n",
              "\n",
              "    </div>\n",
              "  </div>\n"
            ],
            "application/vnd.google.colaboratory.intrinsic+json": {
              "type": "dataframe",
              "variable_name": "df_inc",
              "summary": "{\n  \"name\": \"df_inc\",\n  \"rows\": 9,\n  \"fields\": [\n    {\n      \"column\": \"annual_inc_outliers\",\n      \"properties\": {\n        \"dtype\": \"number\",\n        \"std\": 526231.2823689885,\n        \"min\": 117.0,\n        \"max\": 1782000.0,\n        \"num_unique_values\": 9,\n        \"samples\": [\n          528599.9999999998,\n          319978.2218803419,\n          277000.0\n        ],\n        \"semantic_type\": \"\",\n        \"description\": \"\"\n      }\n    },\n    {\n      \"column\": \"annual_inc_all_data\",\n      \"properties\": {\n        \"dtype\": \"number\",\n        \"std\": 576141.3420591173,\n        \"min\": 6000.0,\n        \"max\": 1782000.0,\n        \"num_unique_values\": 9,\n        \"samples\": [\n          147000.0,\n          69576.92825410928,\n          60000.0\n        ],\n        \"semantic_type\": \"\",\n        \"description\": \"\"\n      }\n    }\n  ]\n}"
            }
          },
          "metadata": {},
          "execution_count": 29
        }
      ]
    },
    {
      "cell_type": "code",
      "source": [
        "#income outlier by employment length\n",
        "income = get_outlier_record('annual_inc')\n",
        "income['emp_length'].fillna('Unknown' , inplace = True )"
      ],
      "metadata": {
        "colab": {
          "base_uri": "https://localhost:8080/"
        },
        "id": "Dcbzm-clq4-G",
        "outputId": "6df50d30-1acd-41fa-e43d-81a3cda46f57"
      },
      "execution_count": 30,
      "outputs": [
        {
          "output_type": "stream",
          "name": "stderr",
          "text": [
            "<ipython-input-30-0654b1b23f65>:3: SettingWithCopyWarning:\n",
            "\n",
            "\n",
            "A value is trying to be set on a copy of a slice from a DataFrame\n",
            "\n",
            "See the caveats in the documentation: https://pandas.pydata.org/pandas-docs/stable/user_guide/indexing.html#returning-a-view-versus-a-copy\n",
            "\n"
          ]
        }
      ]
    },
    {
      "cell_type": "code",
      "source": [
        "fig,axss = plt.subplots(1,2, figsize=[16,4])\n",
        "income.groupby('emp_length')['annual_inc'].mean().plot(kind = 'bar' , title = 'Average Annual Income by Employment Length', ax = axss[0])\n",
        "income['emp_length'].value_counts().plot(kind = 'bar' , title = 'Annual Income Outliers by Employment Length', ax = axss[1])"
      ],
      "metadata": {
        "colab": {
          "base_uri": "https://localhost:8080/",
          "height": 518
        },
        "id": "uMUFB0xItJWm",
        "outputId": "625614e1-5f93-4396-c09c-d3eecd221ce7"
      },
      "execution_count": 31,
      "outputs": [
        {
          "output_type": "execute_result",
          "data": {
            "text/plain": [
              "<Axes: title={'center': 'Annual Income Outliers by Employment Length'}, xlabel='emp_length'>"
            ]
          },
          "metadata": {},
          "execution_count": 31
        },
        {
          "output_type": "display_data",
          "data": {
            "text/plain": [
              "<Figure size 1600x400 with 2 Axes>"
            ],
            "image/png": "[encoded data removed]"
          },
          "metadata": {}
        }
      ]
    },
    {
      "cell_type": "code",
      "source": [
        "#total account outlier exploration\n",
        "total_acc = get_outlier_record('total_acc')\n",
        "df_total_acc = pd.concat([total_acc['total_acc'].describe(percentiles=[0.25,0.5,0.75,0.95]),df['total_acc'].describe([0.25,0.5,0.75,0.95]) ], axis = 1)\n",
        "df_total_acc.columns = ['total_acc_outliers','total_acc_all_data']\n",
        "df_total_acc"
      ],
      "metadata": {
        "colab": {
          "base_uri": "https://localhost:8080/",
          "height": 332
        },
        "id": "NKRmiXaAtlT7",
        "outputId": "e8606da2-8b87-4ce5-e2df-37813963d617"
      },
      "execution_count": 32,
      "outputs": [
        {
          "output_type": "execute_result",
          "data": {
            "text/plain": [
              "       total_acc_outliers  total_acc_all_data\n",
              "count            100.0000           9004.0000\n",
              "mean              60.0000             22.4386\n",
              "std                3.6625             11.1465\n",
              "min               56.0000              3.0000\n",
              "25%               57.0000             14.0000\n",
              "50%               59.0000             21.0000\n",
              "75%               63.0000             29.0000\n",
              "95%               63.0000             43.0000\n",
              "max               79.0000             79.0000"
            ],
            "text/html": [
              "\n",
              "  <div id=\"df-1ff16f57-0b74-4287-9d13-2c43f2d309c2\" class=\"colab-df-container\">\n",
              "    <div>\n",
              "<style scoped>\n",
              "    .dataframe tbody tr th:only-of-type {\n",
              "        vertical-align: middle;\n",
              "    }\n",
              "\n",
              "    .dataframe tbody tr th {\n",
              "        vertical-align: top;\n",
              "    }\n",
              "\n",
              "    .dataframe thead th {\n",
              "        text-align: right;\n",
              "    }\n",
              "</style>\n",
              "<table border=\"1\" class=\"dataframe\">\n",
              "  <thead>\n",
              "    <tr style=\"text-align: right;\">\n",
              "      <th></th>\n",
              "      <th>total_acc_outliers</th>\n",
              "      <th>total_acc_all_data</th>\n",
              "    </tr>\n",
              "  </thead>\n",
              "  <tbody>\n",
              "    <tr>\n",
              "      <th>count</th>\n",
              "      <td>100.0000</td>\n",
              "      <td>9004.0000</td>\n",
              "    </tr>\n",
              "    <tr>\n",
              "      <th>mean</th>\n",
              "      <td>60.0000</td>\n",
              "      <td>22.4386</td>\n",
              "    </tr>\n",
              "    <tr>\n",
              "      <th>std</th>\n",
              "      <td>3.6625</td>\n",
              "      <td>11.1465</td>\n",
              "    </tr>\n",
              "    <tr>\n",
              "      <th>min</th>\n",
              "      <td>56.0000</td>\n",
              "      <td>3.0000</td>\n",
              "    </tr>\n",
              "    <tr>\n",
              "      <th>25%</th>\n",
              "      <td>57.0000</td>\n",
              "      <td>14.0000</td>\n",
              "    </tr>\n",
              "    <tr>\n",
              "      <th>50%</th>\n",
              "      <td>59.0000</td>\n",
              "      <td>21.0000</td>\n",
              "    </tr>\n",
              "    <tr>\n",
              "      <th>75%</th>\n",
              "      <td>63.0000</td>\n",
              "      <td>29.0000</td>\n",
              "    </tr>\n",
              "    <tr>\n",
              "      <th>95%</th>\n",
              "      <td>63.0000</td>\n",
              "      <td>43.0000</td>\n",
              "    </tr>\n",
              "    <tr>\n",
              "      <th>max</th>\n",
              "      <td>79.0000</td>\n",
              "      <td>79.0000</td>\n",
              "    </tr>\n",
              "  </tbody>\n",
              "</table>\n",
              "</div>\n",
              "    <div class=\"colab-df-buttons\">\n",
              "\n",
              "  <div class=\"colab-df-container\">\n",
              "    <button class=\"colab-df-convert\" onclick=\"convertToInteractive('df-1ff16f57-0b74-4287-9d13-2c43f2d309c2')\"\n",
              "            title=\"Convert this dataframe to an interactive table.\"\n",
              "            style=\"display:none;\">\n",
              "\n",
              "  <svg xmlns=\"http://www.w3.org/2000/svg\" height=\"24px\" viewBox=\"0 -960 960 960\">\n",
              "    <path d=\"M120-120v-720h720v720H120Zm60-500h600v-160H180v160Zm220 220h160v-160H400v160Zm0 220h160v-160H400v160ZM180-400h160v-160H180v160Zm440 0h160v-160H620v160ZM180-180h160v-160H180v160Zm440 0h160v-160H620v160Z\"/>\n",
              "  </svg>\n",
              "    </button>\n",
              "\n",
              "  <style>\n",
              "    .colab-df-container {\n",
              "      display:flex;\n",
              "      gap: 12px;\n",
              "    }\n",
              "\n",
              "    .colab-df-convert {\n",
              "      background-color: #E8F0FE;\n",
              "      border: none;\n",
              "      border-radius: 50%;\n",
              "      cursor: pointer;\n",
              "      display: none;\n",
              "      fill: #1967D2;\n",
              "      height: 32px;\n",
              "      padding: 0 0 0 0;\n",
              "      width: 32px;\n",
              "    }\n",
              "\n",
              "    .colab-df-convert:hover {\n",
              "      background-color: #E2EBFA;\n",
              "      box-shadow: 0px 1px 2px rgba(60, 64, 67, 0.3), 0px 1px 3px 1px rgba(60, 64, 67, 0.15);\n",
              "      fill: #174EA6;\n",
              "    }\n",
              "\n",
              "    .colab-df-buttons div {\n",
              "      margin-bottom: 4px;\n",
              "    }\n",
              "\n",
              "    [theme=dark] .colab-df-convert {\n",
              "      background-color: #3B4455;\n",
              "      fill: #D2E3FC;\n",
              "    }\n",
              "\n",
              "    [theme=dark] .colab-df-convert:hover {\n",
              "      background-color: #434B5C;\n",
              "      box-shadow: 0px 1px 3px 1px rgba(0, 0, 0, 0.15);\n",
              "      filter: drop-shadow(0px 1px 2px rgba(0, 0, 0, 0.3));\n",
              "      fill: #FFFFFF;\n",
              "    }\n",
              "  </style>\n",
              "\n",
              "    <script>\n",
              "      const buttonEl =\n",
              "        document.querySelector('#df-1ff16f57-0b74-4287-9d13-2c43f2d309c2 button.colab-df-convert');\n",
              "      buttonEl.style.display =\n",
              "        google.colab.kernel.accessAllowed ? 'block' : 'none';\n",
              "\n",
              "      async function convertToInteractive(key) {\n",
              "        const element = document.querySelector('#df-1ff16f57-0b74-4287-9d13-2c43f2d309c2');\n",
              "        const dataTable =\n",
              "          await google.colab.kernel.invokeFunction('convertToInteractive',\n",
              "                                                    [key], {});\n",
              "        if (!dataTable) return;\n",
              "\n",
              "        const docLinkHtml = 'Like what you see? Visit the ' +\n",
              "          '<a target=\"_blank\" href=https://colab.research.google.com/notebooks/data_table.ipynb>data table notebook</a>'\n",
              "          + ' to learn more about interactive tables.';\n",
              "        element.innerHTML = '';\n",
              "        dataTable['output_type'] = 'display_data';\n",
              "        await google.colab.output.renderOutput(dataTable, element);\n",
              "        const docLink = document.createElement('div');\n",
              "        docLink.innerHTML = docLinkHtml;\n",
              "        element.appendChild(docLink);\n",
              "      }\n",
              "    </script>\n",
              "  </div>\n",
              "\n",
              "\n",
              "<div id=\"df-842fbd86-bd21-49cc-8155-c19887b004aa\">\n",
              "  <button class=\"colab-df-quickchart\" onclick=\"quickchart('df-842fbd86-bd21-49cc-8155-c19887b004aa')\"\n",
              "            title=\"Suggest charts\"\n",
              "            style=\"display:none;\">\n",
              "\n",
              "<svg xmlns=\"http://www.w3.org/2000/svg\" height=\"24px\"viewBox=\"0 0 24 24\"\n",
              "     width=\"24px\">\n",
              "    <g>\n",
              "        <path d=\"M19 3H5c-1.1 0-2 .9-2 2v14c0 1.1.9 2 2 2h14c1.1 0 2-.9 2-2V5c0-1.1-.9-2-2-2zM9 17H7v-7h2v7zm4 0h-2V7h2v10zm4 0h-2v-4h2v4z\"/>\n",
              "    </g>\n",
              "</svg>\n",
              "  </button>\n",
              "\n",
              "<style>\n",
              "  .colab-df-quickchart {\n",
              "      --bg-color: #E8F0FE;\n",
              "      --fill-color: #1967D2;\n",
              "      --hover-bg-color: #E2EBFA;\n",
              "      --hover-fill-color: #174EA6;\n",
              "      --disabled-fill-color: #AAA;\n",
              "      --disabled-bg-color: #DDD;\n",
              "  }\n",
              "\n",
              "  [theme=dark] .colab-df-quickchart {\n",
              "      --bg-color: #3B4455;\n",
              "      --fill-color: #D2E3FC;\n",
              "      --hover-bg-color: #434B5C;\n",
              "      --hover-fill-color: #FFFFFF;\n",
              "      --disabled-bg-color: #3B4455;\n",
              "      --disabled-fill-color: #666;\n",
              "  }\n",
              "\n",
              "  .colab-df-quickchart {\n",
              "    background-color: var(--bg-color);\n",
              "    border: none;\n",
              "    border-radius: 50%;\n",
              "    cursor: pointer;\n",
              "    display: none;\n",
              "    fill: var(--fill-color);\n",
              "    height: 32px;\n",
              "    padding: 0;\n",
              "    width: 32px;\n",
              "  }\n",
              "\n",
              "  .colab-df-quickchart:hover {\n",
              "    background-color: var(--hover-bg-color);\n",
              "    box-shadow: 0 1px 2px rgba(60, 64, 67, 0.3), 0 1px 3px 1px rgba(60, 64, 67, 0.15);\n",
              "    fill: var(--button-hover-fill-color);\n",
              "  }\n",
              "\n",
              "  .colab-df-quickchart-complete:disabled,\n",
              "  .colab-df-quickchart-complete:disabled:hover {\n",
              "    background-color: var(--disabled-bg-color);\n",
              "    fill: var(--disabled-fill-color);\n",
              "    box-shadow: none;\n",
              "  }\n",
              "\n",
              "  .colab-df-spinner {\n",
              "    border: 2px solid var(--fill-color);\n",
              "    border-color: transparent;\n",
              "    border-bottom-color: var(--fill-color);\n",
              "    animation:\n",
              "      spin 1s steps(1) infinite;\n",
              "  }\n",
              "\n",
              "  @keyframes spin {\n",
              "    0% {\n",
              "      border-color: transparent;\n",
              "      border-bottom-color: var(--fill-color);\n",
              "      border-left-color: var(--fill-color);\n",
              "    }\n",
              "    20% {\n",
              "      border-color: transparent;\n",
              "      border-left-color: var(--fill-color);\n",
              "      border-top-color: var(--fill-color);\n",
              "    }\n",
              "    30% {\n",
              "      border-color: transparent;\n",
              "      border-left-color: var(--fill-color);\n",
              "      border-top-color: var(--fill-color);\n",
              "      border-right-color: var(--fill-color);\n",
              "    }\n",
              "    40% {\n",
              "      border-color: transparent;\n",
              "      border-right-color: var(--fill-color);\n",
              "      border-top-color: var(--fill-color);\n",
              "    }\n",
              "    60% {\n",
              "      border-color: transparent;\n",
              "      border-right-color: var(--fill-color);\n",
              "    }\n",
              "    80% {\n",
              "      border-color: transparent;\n",
              "      border-right-color: var(--fill-color);\n",
              "      border-bottom-color: var(--fill-color);\n",
              "    }\n",
              "    90% {\n",
              "      border-color: transparent;\n",
              "      border-bottom-color: var(--fill-color);\n",
              "    }\n",
              "  }\n",
              "</style>\n",
              "\n",
              "  <script>\n",
              "    async function quickchart(key) {\n",
              "      const quickchartButtonEl =\n",
              "        document.querySelector('#' + key + ' button');\n",
              "      quickchartButtonEl.disabled = true;  // To prevent multiple clicks.\n",
              "      quickchartButtonEl.classList.add('colab-df-spinner');\n",
              "      try {\n",
              "        const charts = await google.colab.kernel.invokeFunction(\n",
              "            'suggestCharts', [key], {});\n",
              "      } catch (error) {\n",
              "        console.error('Error during call to suggestCharts:', error);\n",
              "      }\n",
              "      quickchartButtonEl.classList.remove('colab-df-spinner');\n",
              "      quickchartButtonEl.classList.add('colab-df-quickchart-complete');\n",
              "    }\n",
              "    (() => {\n",
              "      let quickchartButtonEl =\n",
              "        document.querySelector('#df-842fbd86-bd21-49cc-8155-c19887b004aa button');\n",
              "      quickchartButtonEl.style.display =\n",
              "        google.colab.kernel.accessAllowed ? 'block' : 'none';\n",
              "    })();\n",
              "  </script>\n",
              "</div>\n",
              "\n",
              "  <div id=\"id_23b92959-edb2-443f-ba75-94395c1f3c8e\">\n",
              "    <style>\n",
              "      .colab-df-generate {\n",
              "        background-color: #E8F0FE;\n",
              "        border: none;\n",
              "        border-radius: 50%;\n",
              "        cursor: pointer;\n",
              "        display: none;\n",
              "        fill: #1967D2;\n",
              "        height: 32px;\n",
              "        padding: 0 0 0 0;\n",
              "        width: 32px;\n",
              "      }\n",
              "\n",
              "      .colab-df-generate:hover {\n",
              "        background-color: #E2EBFA;\n",
              "        box-shadow: 0px 1px 2px rgba(60, 64, 67, 0.3), 0px 1px 3px 1px rgba(60, 64, 67, 0.15);\n",
              "        fill: #174EA6;\n",
              "      }\n",
              "\n",
              "      [theme=dark] .colab-df-generate {\n",
              "        background-color: #3B4455;\n",
              "        fill: #D2E3FC;\n",
              "      }\n",
              "\n",
              "      [theme=dark] .colab-df-generate:hover {\n",
              "        background-color: #434B5C;\n",
              "        box-shadow: 0px 1px 3px 1px rgba(0, 0, 0, 0.15);\n",
              "        filter: drop-shadow(0px 1px 2px rgba(0, 0, 0, 0.3));\n",
              "        fill: #FFFFFF;\n",
              "      }\n",
              "    </style>\n",
              "    <button class=\"colab-df-generate\" onclick=\"generateWithVariable('df_total_acc')\"\n",
              "            title=\"Generate code using this dataframe.\"\n",
              "            style=\"display:none;\">\n",
              "\n",
              "  <svg xmlns=\"http://www.w3.org/2000/svg\" height=\"24px\"viewBox=\"0 0 24 24\"\n",
              "       width=\"24px\">\n",
              "    <path d=\"M7,19H8.4L18.45,9,17,7.55,7,17.6ZM5,21V16.75L18.45,3.32a2,2,0,0,1,2.83,0l1.4,1.43a1.91,1.91,0,0,1,.58,1.4,1.91,1.91,0,0,1-.58,1.4L9.25,21ZM18.45,9,17,7.55Zm-12,3A5.31,5.31,0,0,0,4.9,8.1,5.31,5.31,0,0,0,1,6.5,5.31,5.31,0,0,0,4.9,4.9,5.31,5.31,0,0,0,6.5,1,5.31,5.31,0,0,0,8.1,4.9,5.31,5.31,0,0,0,12,6.5,5.46,5.46,0,0,0,6.5,12Z\"/>\n",
              "  </svg>\n",
              "    </button>\n",
              "    <script>\n",
              "      (() => {\n",
              "      const buttonEl =\n",
              "        document.querySelector('#id_23b92959-edb2-443f-ba75-94395c1f3c8e button.colab-df-generate');\n",
              "      buttonEl.style.display =\n",
              "        google.colab.kernel.accessAllowed ? 'block' : 'none';\n",
              "\n",
              "      buttonEl.onclick = () => {\n",
              "        google.colab.notebook.generateWithVariable('df_total_acc');\n",
              "      }\n",
              "      })();\n",
              "    </script>\n",
              "  </div>\n",
              "\n",
              "    </div>\n",
              "  </div>\n"
            ],
            "application/vnd.google.colaboratory.intrinsic+json": {
              "type": "dataframe",
              "variable_name": "df_total_acc",
              "summary": "{\n  \"name\": \"df_total_acc\",\n  \"rows\": 9,\n  \"fields\": [\n    {\n      \"column\": \"total_acc_outliers\",\n      \"properties\": {\n        \"dtype\": \"number\",\n        \"std\": 25.443224827115063,\n        \"min\": 3.66253210417894,\n        \"max\": 100.0,\n        \"num_unique_values\": 8,\n        \"samples\": [\n          60.0,\n          59.0,\n          100.0\n        ],\n        \"semantic_type\": \"\",\n        \"description\": \"\"\n      }\n    },\n    {\n      \"column\": \"total_acc_all_data\",\n      \"properties\": {\n        \"dtype\": \"number\",\n        \"std\": 2992.1427517203406,\n        \"min\": 3.0,\n        \"max\": 9004.0,\n        \"num_unique_values\": 9,\n        \"samples\": [\n          43.0,\n          22.43858285206575,\n          21.0\n        ],\n        \"semantic_type\": \"\",\n        \"description\": \"\"\n      }\n    }\n  ]\n}"
            }
          },
          "metadata": {},
          "execution_count": 32
        }
      ]
    },
    {
      "cell_type": "code",
      "source": [
        "#total_acc by revol_bal outlier vs grand total\n",
        "df_total_acc = pd.concat([total_acc['revol_bal'].describe(percentiles=[0.25,0.5,0.75,0.95]),df['revol_bal'].describe([0.25,0.5,0.75,0.95]) ], axis = 1)\n",
        "df_total_acc.columns = ['revol_bal_total_acc_outliers','revol_bal_acc_all_data']\n",
        "df_total_acc.iloc[:-1]"
      ],
      "metadata": {
        "colab": {
          "base_uri": "https://localhost:8080/",
          "height": 300
        },
        "id": "5J3XS1SxtTQD",
        "outputId": "3232692d-fe2c-4dd6-b8ad-361b8f9449be"
      },
      "execution_count": 33,
      "outputs": [
        {
          "output_type": "execute_result",
          "data": {
            "text/plain": [
              "       revol_bal_total_acc_outliers  revol_bal_acc_all_data\n",
              "count                      100.0000               9004.0000\n",
              "mean                     24824.7600              13658.4161\n",
              "std                      22104.5742              15038.8254\n",
              "min                        722.0000                  0.0000\n",
              "25%                      10279.0000               4559.7500\n",
              "50%                      18540.5000               9889.0000\n",
              "75%                      29355.7500              17468.2500\n",
              "95%                      67014.0000              38496.6500"
            ],
            "text/html": [
              "\n",
              "  <div id=\"df-cc84dda5-269b-475f-8492-db7a27e12bbb\" class=\"colab-df-container\">\n",
              "    <div>\n",
              "<style scoped>\n",
              "    .dataframe tbody tr th:only-of-type {\n",
              "        vertical-align: middle;\n",
              "    }\n",
              "\n",
              "    .dataframe tbody tr th {\n",
              "        vertical-align: top;\n",
              "    }\n",
              "\n",
              "    .dataframe thead th {\n",
              "        text-align: right;\n",
              "    }\n",
              "</style>\n",
              "<table border=\"1\" class=\"dataframe\">\n",
              "  <thead>\n",
              "    <tr style=\"text-align: right;\">\n",
              "      <th></th>\n",
              "      <th>revol_bal_total_acc_outliers</th>\n",
              "      <th>revol_bal_acc_all_data</th>\n",
              "    </tr>\n",
              "  </thead>\n",
              "  <tbody>\n",
              "    <tr>\n",
              "      <th>count</th>\n",
              "      <td>100.0000</td>\n",
              "      <td>9004.0000</td>\n",
              "    </tr>\n",
              "    <tr>\n",
              "      <th>mean</th>\n",
              "      <td>24824.7600</td>\n",
              "      <td>13658.4161</td>\n",
              "    </tr>\n",
              "    <tr>\n",
              "      <th>std</th>\n",
              "      <td>22104.5742</td>\n",
              "      <td>15038.8254</td>\n",
              "    </tr>\n",
              "    <tr>\n",
              "      <th>min</th>\n",
              "      <td>722.0000</td>\n",
              "      <td>0.0000</td>\n",
              "    </tr>\n",
              "    <tr>\n",
              "      <th>25%</th>\n",
              "      <td>10279.0000</td>\n",
              "      <td>4559.7500</td>\n",
              "    </tr>\n",
              "    <tr>\n",
              "      <th>50%</th>\n",
              "      <td>18540.5000</td>\n",
              "      <td>9889.0000</td>\n",
              "    </tr>\n",
              "    <tr>\n",
              "      <th>75%</th>\n",
              "      <td>29355.7500</td>\n",
              "      <td>17468.2500</td>\n",
              "    </tr>\n",
              "    <tr>\n",
              "      <th>95%</th>\n",
              "      <td>67014.0000</td>\n",
              "      <td>38496.6500</td>\n",
              "    </tr>\n",
              "  </tbody>\n",
              "</table>\n",
              "</div>\n",
              "    <div class=\"colab-df-buttons\">\n",
              "\n",
              "  <div class=\"colab-df-container\">\n",
              "    <button class=\"colab-df-convert\" onclick=\"convertToInteractive('df-cc84dda5-269b-475f-8492-db7a27e12bbb')\"\n",
              "            title=\"Convert this dataframe to an interactive table.\"\n",
              "            style=\"display:none;\">\n",
              "\n",
              "  <svg xmlns=\"http://www.w3.org/2000/svg\" height=\"24px\" viewBox=\"0 -960 960 960\">\n",
              "    <path d=\"M120-120v-720h720v720H120Zm60-500h600v-160H180v160Zm220 220h160v-160H400v160Zm0 220h160v-160H400v160ZM180-400h160v-160H180v160Zm440 0h160v-160H620v160ZM180-180h160v-160H180v160Zm440 0h160v-160H620v160Z\"/>\n",
              "  </svg>\n",
              "    </button>\n",
              "\n",
              "  <style>\n",
              "    .colab-df-container {\n",
              "      display:flex;\n",
              "      gap: 12px;\n",
              "    }\n",
              "\n",
              "    .colab-df-convert {\n",
              "      background-color: #E8F0FE;\n",
              "      border: none;\n",
              "      border-radius: 50%;\n",
              "      cursor: pointer;\n",
              "      display: none;\n",
              "      fill: #1967D2;\n",
              "      height: 32px;\n",
              "      padding: 0 0 0 0;\n",
              "      width: 32px;\n",
              "    }\n",
              "\n",
              "    .colab-df-convert:hover {\n",
              "      background-color: #E2EBFA;\n",
              "      box-shadow: 0px 1px 2px rgba(60, 64, 67, 0.3), 0px 1px 3px 1px rgba(60, 64, 67, 0.15);\n",
              "      fill: #174EA6;\n",
              "    }\n",
              "\n",
              "    .colab-df-buttons div {\n",
              "      margin-bottom: 4px;\n",
              "    }\n",
              "\n",
              "    [theme=dark] .colab-df-convert {\n",
              "      background-color: #3B4455;\n",
              "      fill: #D2E3FC;\n",
              "    }\n",
              "\n",
              "    [theme=dark] .colab-df-convert:hover {\n",
              "      background-color: #434B5C;\n",
              "      box-shadow: 0px 1px 3px 1px rgba(0, 0, 0, 0.15);\n",
              "      filter: drop-shadow(0px 1px 2px rgba(0, 0, 0, 0.3));\n",
              "      fill: #FFFFFF;\n",
              "    }\n",
              "  </style>\n",
              "\n",
              "    <script>\n",
              "      const buttonEl =\n",
              "        document.querySelector('#df-cc84dda5-269b-475f-8492-db7a27e12bbb button.colab-df-convert');\n",
              "      buttonEl.style.display =\n",
              "        google.colab.kernel.accessAllowed ? 'block' : 'none';\n",
              "\n",
              "      async function convertToInteractive(key) {\n",
              "        const element = document.querySelector('#df-cc84dda5-269b-475f-8492-db7a27e12bbb');\n",
              "        const dataTable =\n",
              "          await google.colab.kernel.invokeFunction('convertToInteractive',\n",
              "                                                    [key], {});\n",
              "        if (!dataTable) return;\n",
              "\n",
              "        const docLinkHtml = 'Like what you see? Visit the ' +\n",
              "          '<a target=\"_blank\" href=https://colab.research.google.com/notebooks/data_table.ipynb>data table notebook</a>'\n",
              "          + ' to learn more about interactive tables.';\n",
              "        element.innerHTML = '';\n",
              "        dataTable['output_type'] = 'display_data';\n",
              "        await google.colab.output.renderOutput(dataTable, element);\n",
              "        const docLink = document.createElement('div');\n",
              "        docLink.innerHTML = docLinkHtml;\n",
              "        element.appendChild(docLink);\n",
              "      }\n",
              "    </script>\n",
              "  </div>\n",
              "\n",
              "\n",
              "<div id=\"df-a9b6c5df-70d1-429d-8180-b55664d1e9df\">\n",
              "  <button class=\"colab-df-quickchart\" onclick=\"quickchart('df-a9b6c5df-70d1-429d-8180-b55664d1e9df')\"\n",
              "            title=\"Suggest charts\"\n",
              "            style=\"display:none;\">\n",
              "\n",
              "<svg xmlns=\"http://www.w3.org/2000/svg\" height=\"24px\"viewBox=\"0 0 24 24\"\n",
              "     width=\"24px\">\n",
              "    <g>\n",
              "        <path d=\"M19 3H5c-1.1 0-2 .9-2 2v14c0 1.1.9 2 2 2h14c1.1 0 2-.9 2-2V5c0-1.1-.9-2-2-2zM9 17H7v-7h2v7zm4 0h-2V7h2v10zm4 0h-2v-4h2v4z\"/>\n",
              "    </g>\n",
              "</svg>\n",
              "  </button>\n",
              "\n",
              "<style>\n",
              "  .colab-df-quickchart {\n",
              "      --bg-color: #E8F0FE;\n",
              "      --fill-color: #1967D2;\n",
              "      --hover-bg-color: #E2EBFA;\n",
              "      --hover-fill-color: #174EA6;\n",
              "      --disabled-fill-color: #AAA;\n",
              "      --disabled-bg-color: #DDD;\n",
              "  }\n",
              "\n",
              "  [theme=dark] .colab-df-quickchart {\n",
              "      --bg-color: #3B4455;\n",
              "      --fill-color: #D2E3FC;\n",
              "      --hover-bg-color: #434B5C;\n",
              "      --hover-fill-color: #FFFFFF;\n",
              "      --disabled-bg-color: #3B4455;\n",
              "      --disabled-fill-color: #666;\n",
              "  }\n",
              "\n",
              "  .colab-df-quickchart {\n",
              "    background-color: var(--bg-color);\n",
              "    border: none;\n",
              "    border-radius: 50%;\n",
              "    cursor: pointer;\n",
              "    display: none;\n",
              "    fill: var(--fill-color);\n",
              "    height: 32px;\n",
              "    padding: 0;\n",
              "    width: 32px;\n",
              "  }\n",
              "\n",
              "  .colab-df-quickchart:hover {\n",
              "    background-color: var(--hover-bg-color);\n",
              "    box-shadow: 0 1px 2px rgba(60, 64, 67, 0.3), 0 1px 3px 1px rgba(60, 64, 67, 0.15);\n",
              "    fill: var(--button-hover-fill-color);\n",
              "  }\n",
              "\n",
              "  .colab-df-quickchart-complete:disabled,\n",
              "  .colab-df-quickchart-complete:disabled:hover {\n",
              "    background-color: var(--disabled-bg-color);\n",
              "    fill: var(--disabled-fill-color);\n",
              "    box-shadow: none;\n",
              "  }\n",
              "\n",
              "  .colab-df-spinner {\n",
              "    border: 2px solid var(--fill-color);\n",
              "    border-color: transparent;\n",
              "    border-bottom-color: var(--fill-color);\n",
              "    animation:\n",
              "      spin 1s steps(1) infinite;\n",
              "  }\n",
              "\n",
              "  @keyframes spin {\n",
              "    0% {\n",
              "      border-color: transparent;\n",
              "      border-bottom-color: var(--fill-color);\n",
              "      border-left-color: var(--fill-color);\n",
              "    }\n",
              "    20% {\n",
              "      border-color: transparent;\n",
              "      border-left-color: var(--fill-color);\n",
              "      border-top-color: var(--fill-color);\n",
              "    }\n",
              "    30% {\n",
              "      border-color: transparent;\n",
              "      border-left-color: var(--fill-color);\n",
              "      border-top-color: var(--fill-color);\n",
              "      border-right-color: var(--fill-color);\n",
              "    }\n",
              "    40% {\n",
              "      border-color: transparent;\n",
              "      border-right-color: var(--fill-color);\n",
              "      border-top-color: var(--fill-color);\n",
              "    }\n",
              "    60% {\n",
              "      border-color: transparent;\n",
              "      border-right-color: var(--fill-color);\n",
              "    }\n",
              "    80% {\n",
              "      border-color: transparent;\n",
              "      border-right-color: var(--fill-color);\n",
              "      border-bottom-color: var(--fill-color);\n",
              "    }\n",
              "    90% {\n",
              "      border-color: transparent;\n",
              "      border-bottom-color: var(--fill-color);\n",
              "    }\n",
              "  }\n",
              "</style>\n",
              "\n",
              "  <script>\n",
              "    async function quickchart(key) {\n",
              "      const quickchartButtonEl =\n",
              "        document.querySelector('#' + key + ' button');\n",
              "      quickchartButtonEl.disabled = true;  // To prevent multiple clicks.\n",
              "      quickchartButtonEl.classList.add('colab-df-spinner');\n",
              "      try {\n",
              "        const charts = await google.colab.kernel.invokeFunction(\n",
              "            'suggestCharts', [key], {});\n",
              "      } catch (error) {\n",
              "        console.error('Error during call to suggestCharts:', error);\n",
              "      }\n",
              "      quickchartButtonEl.classList.remove('colab-df-spinner');\n",
              "      quickchartButtonEl.classList.add('colab-df-quickchart-complete');\n",
              "    }\n",
              "    (() => {\n",
              "      let quickchartButtonEl =\n",
              "        document.querySelector('#df-a9b6c5df-70d1-429d-8180-b55664d1e9df button');\n",
              "      quickchartButtonEl.style.display =\n",
              "        google.colab.kernel.accessAllowed ? 'block' : 'none';\n",
              "    })();\n",
              "  </script>\n",
              "</div>\n",
              "\n",
              "    </div>\n",
              "  </div>\n"
            ],
            "application/vnd.google.colaboratory.intrinsic+json": {
              "type": "dataframe",
              "summary": "{\n  \"name\": \"df_total_acc\",\n  \"rows\": 8,\n  \"fields\": [\n    {\n      \"column\": \"revol_bal_total_acc_outliers\",\n      \"properties\": {\n        \"dtype\": \"number\",\n        \"std\": 21276.750292141132,\n        \"min\": 100.0,\n        \"max\": 67013.99999999997,\n        \"num_unique_values\": 8,\n        \"samples\": [\n          24824.76,\n          18540.5,\n          100.0\n        ],\n        \"semantic_type\": \"\",\n        \"description\": \"\"\n      }\n    },\n    {\n      \"column\": \"revol_bal_acc_all_data\",\n      \"properties\": {\n        \"dtype\": \"number\",\n        \"std\": 11578.319367876195,\n        \"min\": 0.0,\n        \"max\": 38496.65,\n        \"num_unique_values\": 8,\n        \"samples\": [\n          13658.4161483785,\n          9889.0,\n          9004.0\n        ],\n        \"semantic_type\": \"\",\n        \"description\": \"\"\n      }\n    }\n  ]\n}"
            }
          },
          "metadata": {},
          "execution_count": 33
        }
      ]
    },
    {
      "cell_type": "code",
      "source": [
        "#open account outlier exploration\n",
        "open_acc = get_outlier_record('open_acc')\n",
        "df_open_acc = pd.concat([total_acc['open_acc'].describe(percentiles=[0.25,0.5,0.75,0.95]),df['open_acc'].describe([0.25,0.5,0.75,0.95]) ], axis = 1)\n",
        "df_open_acc.columns = ['open_acc_outliers','open_acc_all_data']\n",
        "df_open_acc"
      ],
      "metadata": {
        "colab": {
          "base_uri": "https://localhost:8080/",
          "height": 332
        },
        "id": "rB4UWGYcDtqE",
        "outputId": "7581bf0e-ee5c-4e79-851a-5aada03fecd2"
      },
      "execution_count": 34,
      "outputs": [
        {
          "output_type": "execute_result",
          "data": {
            "text/plain": [
              "       open_acc_outliers  open_acc_all_data\n",
              "count            100.000          9004.0000\n",
              "mean              18.140             9.4298\n",
              "std                5.995             4.2638\n",
              "min                5.000             2.0000\n",
              "25%               15.000             6.0000\n",
              "50%               18.000             9.0000\n",
              "75%               22.000            12.0000\n",
              "95%               30.000            17.0000\n",
              "max               34.000            34.0000"
            ],
            "text/html": [
              "\n",
              "  <div id=\"df-0cad3d6e-e915-40bd-9c56-1fdf02e8890b\" class=\"colab-df-container\">\n",
              "    <div>\n",
              "<style scoped>\n",
              "    .dataframe tbody tr th:only-of-type {\n",
              "        vertical-align: middle;\n",
              "    }\n",
              "\n",
              "    .dataframe tbody tr th {\n",
              "        vertical-align: top;\n",
              "    }\n",
              "\n",
              "    .dataframe thead th {\n",
              "        text-align: right;\n",
              "    }\n",
              "</style>\n",
              "<table border=\"1\" class=\"dataframe\">\n",
              "  <thead>\n",
              "    <tr style=\"text-align: right;\">\n",
              "      <th></th>\n",
              "      <th>open_acc_outliers</th>\n",
              "      <th>open_acc_all_data</th>\n",
              "    </tr>\n",
              "  </thead>\n",
              "  <tbody>\n",
              "    <tr>\n",
              "      <th>count</th>\n",
              "      <td>100.000</td>\n",
              "      <td>9004.0000</td>\n",
              "    </tr>\n",
              "    <tr>\n",
              "      <th>mean</th>\n",
              "      <td>18.140</td>\n",
              "      <td>9.4298</td>\n",
              "    </tr>\n",
              "    <tr>\n",
              "      <th>std</th>\n",
              "      <td>5.995</td>\n",
              "      <td>4.2638</td>\n",
              "    </tr>\n",
              "    <tr>\n",
              "      <th>min</th>\n",
              "      <td>5.000</td>\n",
              "      <td>2.0000</td>\n",
              "    </tr>\n",
              "    <tr>\n",
              "      <th>25%</th>\n",
              "      <td>15.000</td>\n",
              "      <td>6.0000</td>\n",
              "    </tr>\n",
              "    <tr>\n",
              "      <th>50%</th>\n",
              "      <td>18.000</td>\n",
              "      <td>9.0000</td>\n",
              "    </tr>\n",
              "    <tr>\n",
              "      <th>75%</th>\n",
              "      <td>22.000</td>\n",
              "      <td>12.0000</td>\n",
              "    </tr>\n",
              "    <tr>\n",
              "      <th>95%</th>\n",
              "      <td>30.000</td>\n",
              "      <td>17.0000</td>\n",
              "    </tr>\n",
              "    <tr>\n",
              "      <th>max</th>\n",
              "      <td>34.000</td>\n",
              "      <td>34.0000</td>\n",
              "    </tr>\n",
              "  </tbody>\n",
              "</table>\n",
              "</div>\n",
              "    <div class=\"colab-df-buttons\">\n",
              "\n",
              "  <div class=\"colab-df-container\">\n",
              "    <button class=\"colab-df-convert\" onclick=\"convertToInteractive('df-0cad3d6e-e915-40bd-9c56-1fdf02e8890b')\"\n",
              "            title=\"Convert this dataframe to an interactive table.\"\n",
              "            style=\"display:none;\">\n",
              "\n",
              "  <svg xmlns=\"http://www.w3.org/2000/svg\" height=\"24px\" viewBox=\"0 -960 960 960\">\n",
              "    <path d=\"M120-120v-720h720v720H120Zm60-500h600v-160H180v160Zm220 220h160v-160H400v160Zm0 220h160v-160H400v160ZM180-400h160v-160H180v160Zm440 0h160v-160H620v160ZM180-180h160v-160H180v160Zm440 0h160v-160H620v160Z\"/>\n",
              "  </svg>\n",
              "    </button>\n",
              "\n",
              "  <style>\n",
              "    .colab-df-container {\n",
              "      display:flex;\n",
              "      gap: 12px;\n",
              "    }\n",
              "\n",
              "    .colab-df-convert {\n",
              "      background-color: #E8F0FE;\n",
              "      border: none;\n",
              "      border-radius: 50%;\n",
              "      cursor: pointer;\n",
              "      display: none;\n",
              "      fill: #1967D2;\n",
              "      height: 32px;\n",
              "      padding: 0 0 0 0;\n",
              "      width: 32px;\n",
              "    }\n",
              "\n",
              "    .colab-df-convert:hover {\n",
              "      background-color: #E2EBFA;\n",
              "      box-shadow: 0px 1px 2px rgba(60, 64, 67, 0.3), 0px 1px 3px 1px rgba(60, 64, 67, 0.15);\n",
              "      fill: #174EA6;\n",
              "    }\n",
              "\n",
              "    .colab-df-buttons div {\n",
              "      margin-bottom: 4px;\n",
              "    }\n",
              "\n",
              "    [theme=dark] .colab-df-convert {\n",
              "      background-color: #3B4455;\n",
              "      fill: #D2E3FC;\n",
              "    }\n",
              "\n",
              "    [theme=dark] .colab-df-convert:hover {\n",
              "      background-color: #434B5C;\n",
              "      box-shadow: 0px 1px 3px 1px rgba(0, 0, 0, 0.15);\n",
              "      filter: drop-shadow(0px 1px 2px rgba(0, 0, 0, 0.3));\n",
              "      fill: #FFFFFF;\n",
              "    }\n",
              "  </style>\n",
              "\n",
              "    <script>\n",
              "      const buttonEl =\n",
              "        document.querySelector('#df-0cad3d6e-e915-40bd-9c56-1fdf02e8890b button.colab-df-convert');\n",
              "      buttonEl.style.display =\n",
              "        google.colab.kernel.accessAllowed ? 'block' : 'none';\n",
              "\n",
              "      async function convertToInteractive(key) {\n",
              "        const element = document.querySelector('#df-0cad3d6e-e915-40bd-9c56-1fdf02e8890b');\n",
              "        const dataTable =\n",
              "          await google.colab.kernel.invokeFunction('convertToInteractive',\n",
              "                                                    [key], {});\n",
              "        if (!dataTable) return;\n",
              "\n",
              "        const docLinkHtml = 'Like what you see? Visit the ' +\n",
              "          '<a target=\"_blank\" href=https://colab.research.google.com/notebooks/data_table.ipynb>data table notebook</a>'\n",
              "          + ' to learn more about interactive tables.';\n",
              "        element.innerHTML = '';\n",
              "        dataTable['output_type'] = 'display_data';\n",
              "        await google.colab.output.renderOutput(dataTable, element);\n",
              "        const docLink = document.createElement('div');\n",
              "        docLink.innerHTML = docLinkHtml;\n",
              "        element.appendChild(docLink);\n",
              "      }\n",
              "    </script>\n",
              "  </div>\n",
              "\n",
              "\n",
              "<div id=\"df-7b34d008-502c-40c3-82e0-ea81f985940a\">\n",
              "  <button class=\"colab-df-quickchart\" onclick=\"quickchart('df-7b34d008-502c-40c3-82e0-ea81f985940a')\"\n",
              "            title=\"Suggest charts\"\n",
              "            style=\"display:none;\">\n",
              "\n",
              "<svg xmlns=\"http://www.w3.org/2000/svg\" height=\"24px\"viewBox=\"0 0 24 24\"\n",
              "     width=\"24px\">\n",
              "    <g>\n",
              "        <path d=\"M19 3H5c-1.1 0-2 .9-2 2v14c0 1.1.9 2 2 2h14c1.1 0 2-.9 2-2V5c0-1.1-.9-2-2-2zM9 17H7v-7h2v7zm4 0h-2V7h2v10zm4 0h-2v-4h2v4z\"/>\n",
              "    </g>\n",
              "</svg>\n",
              "  </button>\n",
              "\n",
              "<style>\n",
              "  .colab-df-quickchart {\n",
              "      --bg-color: #E8F0FE;\n",
              "      --fill-color: #1967D2;\n",
              "      --hover-bg-color: #E2EBFA;\n",
              "      --hover-fill-color: #174EA6;\n",
              "      --disabled-fill-color: #AAA;\n",
              "      --disabled-bg-color: #DDD;\n",
              "  }\n",
              "\n",
              "  [theme=dark] .colab-df-quickchart {\n",
              "      --bg-color: #3B4455;\n",
              "      --fill-color: #D2E3FC;\n",
              "      --hover-bg-color: #434B5C;\n",
              "      --hover-fill-color: #FFFFFF;\n",
              "      --disabled-bg-color: #3B4455;\n",
              "      --disabled-fill-color: #666;\n",
              "  }\n",
              "\n",
              "  .colab-df-quickchart {\n",
              "    background-color: var(--bg-color);\n",
              "    border: none;\n",
              "    border-radius: 50%;\n",
              "    cursor: pointer;\n",
              "    display: none;\n",
              "    fill: var(--fill-color);\n",
              "    height: 32px;\n",
              "    padding: 0;\n",
              "    width: 32px;\n",
              "  }\n",
              "\n",
              "  .colab-df-quickchart:hover {\n",
              "    background-color: var(--hover-bg-color);\n",
              "    box-shadow: 0 1px 2px rgba(60, 64, 67, 0.3), 0 1px 3px 1px rgba(60, 64, 67, 0.15);\n",
              "    fill: var(--button-hover-fill-color);\n",
              "  }\n",
              "\n",
              "  .colab-df-quickchart-complete:disabled,\n",
              "  .colab-df-quickchart-complete:disabled:hover {\n",
              "    background-color: var(--disabled-bg-color);\n",
              "    fill: var(--disabled-fill-color);\n",
              "    box-shadow: none;\n",
              "  }\n",
              "\n",
              "  .colab-df-spinner {\n",
              "    border: 2px solid var(--fill-color);\n",
              "    border-color: transparent;\n",
              "    border-bottom-color: var(--fill-color);\n",
              "    animation:\n",
              "      spin 1s steps(1) infinite;\n",
              "  }\n",
              "\n",
              "  @keyframes spin {\n",
              "    0% {\n",
              "      border-color: transparent;\n",
              "      border-bottom-color: var(--fill-color);\n",
              "      border-left-color: var(--fill-color);\n",
              "    }\n",
              "    20% {\n",
              "      border-color: transparent;\n",
              "      border-left-color: var(--fill-color);\n",
              "      border-top-color: var(--fill-color);\n",
              "    }\n",
              "    30% {\n",
              "      border-color: transparent;\n",
              "      border-left-color: var(--fill-color);\n",
              "      border-top-color: var(--fill-color);\n",
              "      border-right-color: var(--fill-color);\n",
              "    }\n",
              "    40% {\n",
              "      border-color: transparent;\n",
              "      border-right-color: var(--fill-color);\n",
              "      border-top-color: var(--fill-color);\n",
              "    }\n",
              "    60% {\n",
              "      border-color: transparent;\n",
              "      border-right-color: var(--fill-color);\n",
              "    }\n",
              "    80% {\n",
              "      border-color: transparent;\n",
              "      border-right-color: var(--fill-color);\n",
              "      border-bottom-color: var(--fill-color);\n",
              "    }\n",
              "    90% {\n",
              "      border-color: transparent;\n",
              "      border-bottom-color: var(--fill-color);\n",
              "    }\n",
              "  }\n",
              "</style>\n",
              "\n",
              "  <script>\n",
              "    async function quickchart(key) {\n",
              "      const quickchartButtonEl =\n",
              "        document.querySelector('#' + key + ' button');\n",
              "      quickchartButtonEl.disabled = true;  // To prevent multiple clicks.\n",
              "      quickchartButtonEl.classList.add('colab-df-spinner');\n",
              "      try {\n",
              "        const charts = await google.colab.kernel.invokeFunction(\n",
              "            'suggestCharts', [key], {});\n",
              "      } catch (error) {\n",
              "        console.error('Error during call to suggestCharts:', error);\n",
              "      }\n",
              "      quickchartButtonEl.classList.remove('colab-df-spinner');\n",
              "      quickchartButtonEl.classList.add('colab-df-quickchart-complete');\n",
              "    }\n",
              "    (() => {\n",
              "      let quickchartButtonEl =\n",
              "        document.querySelector('#df-7b34d008-502c-40c3-82e0-ea81f985940a button');\n",
              "      quickchartButtonEl.style.display =\n",
              "        google.colab.kernel.accessAllowed ? 'block' : 'none';\n",
              "    })();\n",
              "  </script>\n",
              "</div>\n",
              "\n",
              "  <div id=\"id_a4f9ba48-1898-45f1-acdd-931b172d7f0a\">\n",
              "    <style>\n",
              "      .colab-df-generate {\n",
              "        background-color: #E8F0FE;\n",
              "        border: none;\n",
              "        border-radius: 50%;\n",
              "        cursor: pointer;\n",
              "        display: none;\n",
              "        fill: #1967D2;\n",
              "        height: 32px;\n",
              "        padding: 0 0 0 0;\n",
              "        width: 32px;\n",
              "      }\n",
              "\n",
              "      .colab-df-generate:hover {\n",
              "        background-color: #E2EBFA;\n",
              "        box-shadow: 0px 1px 2px rgba(60, 64, 67, 0.3), 0px 1px 3px 1px rgba(60, 64, 67, 0.15);\n",
              "        fill: #174EA6;\n",
              "      }\n",
              "\n",
              "      [theme=dark] .colab-df-generate {\n",
              "        background-color: #3B4455;\n",
              "        fill: #D2E3FC;\n",
              "      }\n",
              "\n",
              "      [theme=dark] .colab-df-generate:hover {\n",
              "        background-color: #434B5C;\n",
              "        box-shadow: 0px 1px 3px 1px rgba(0, 0, 0, 0.15);\n",
              "        filter: drop-shadow(0px 1px 2px rgba(0, 0, 0, 0.3));\n",
              "        fill: #FFFFFF;\n",
              "      }\n",
              "    </style>\n",
              "    <button class=\"colab-df-generate\" onclick=\"generateWithVariable('df_open_acc')\"\n",
              "            title=\"Generate code using this dataframe.\"\n",
              "            style=\"display:none;\">\n",
              "\n",
              "  <svg xmlns=\"http://www.w3.org/2000/svg\" height=\"24px\"viewBox=\"0 0 24 24\"\n",
              "       width=\"24px\">\n",
              "    <path d=\"M7,19H8.4L18.45,9,17,7.55,7,17.6ZM5,21V16.75L18.45,3.32a2,2,0,0,1,2.83,0l1.4,1.43a1.91,1.91,0,0,1,.58,1.4,1.91,1.91,0,0,1-.58,1.4L9.25,21ZM18.45,9,17,7.55Zm-12,3A5.31,5.31,0,0,0,4.9,8.1,5.31,5.31,0,0,0,1,6.5,5.31,5.31,0,0,0,4.9,4.9,5.31,5.31,0,0,0,6.5,1,5.31,5.31,0,0,0,8.1,4.9,5.31,5.31,0,0,0,12,6.5,5.46,5.46,0,0,0,6.5,12Z\"/>\n",
              "  </svg>\n",
              "    </button>\n",
              "    <script>\n",
              "      (() => {\n",
              "      const buttonEl =\n",
              "        document.querySelector('#id_a4f9ba48-1898-45f1-acdd-931b172d7f0a button.colab-df-generate');\n",
              "      buttonEl.style.display =\n",
              "        google.colab.kernel.accessAllowed ? 'block' : 'none';\n",
              "\n",
              "      buttonEl.onclick = () => {\n",
              "        google.colab.notebook.generateWithVariable('df_open_acc');\n",
              "      }\n",
              "      })();\n",
              "    </script>\n",
              "  </div>\n",
              "\n",
              "    </div>\n",
              "  </div>\n"
            ],
            "application/vnd.google.colaboratory.intrinsic+json": {
              "type": "dataframe",
              "variable_name": "df_open_acc",
              "summary": "{\n  \"name\": \"df_open_acc\",\n  \"rows\": 9,\n  \"fields\": [\n    {\n      \"column\": \"open_acc_outliers\",\n      \"properties\": {\n        \"dtype\": \"number\",\n        \"std\": 28.8049054833819,\n        \"min\": 5.0,\n        \"max\": 100.0,\n        \"num_unique_values\": 9,\n        \"samples\": [\n          30.0,\n          18.14,\n          18.0\n        ],\n        \"semantic_type\": \"\",\n        \"description\": \"\"\n      }\n    },\n    {\n      \"column\": \"open_acc_all_data\",\n      \"properties\": {\n        \"dtype\": \"number\",\n        \"std\": 2997.4444413002484,\n        \"min\": 2.0,\n        \"max\": 9004.0,\n        \"num_unique_values\": 9,\n        \"samples\": [\n          17.0,\n          9.429808973789427,\n          9.0\n        ],\n        \"semantic_type\": \"\",\n        \"description\": \"\"\n      }\n    }\n  ]\n}"
            }
          },
          "metadata": {},
          "execution_count": 34
        }
      ]
    },
    {
      "cell_type": "code",
      "source": [
        "#open_acc by revol_bal outlier vs grand total\n",
        "df_open_acc = pd.concat([open_acc['revol_bal'].describe(percentiles=[0.25,0.5,0.75,0.95]),df['revol_bal'].describe([0.25,0.5,0.75,0.95]) ], axis = 1)\n",
        "df_open_acc.columns = ['revol_bal_total_acc_outliers','revol_bal_acc_all_data']\n",
        "df_open_acc.iloc[:-1]"
      ],
      "metadata": {
        "colab": {
          "base_uri": "https://localhost:8080/",
          "height": 300
        },
        "id": "9pfDv3sFD8XH",
        "outputId": "5696fd4f-01c5-4438-9fd0-b9c1f5b02758"
      },
      "execution_count": 35,
      "outputs": [
        {
          "output_type": "execute_result",
          "data": {
            "text/plain": [
              "       revol_bal_total_acc_outliers  revol_bal_acc_all_data\n",
              "count                       78.0000               9004.0000\n",
              "mean                     22658.6282              13658.4161\n",
              "std                      24676.7114              15038.8254\n",
              "min                        336.0000                  0.0000\n",
              "25%                       7721.7500               4559.7500\n",
              "50%                      17026.0000               9889.0000\n",
              "75%                      27265.5000              17468.2500\n",
              "95%                      65101.9000              38496.6500"
            ],
            "text/html": [
              "\n",
              "  <div id=\"df-5866fb66-762b-470c-aa24-118b5df6191e\" class=\"colab-df-container\">\n",
              "    <div>\n",
              "<style scoped>\n",
              "    .dataframe tbody tr th:only-of-type {\n",
              "        vertical-align: middle;\n",
              "    }\n",
              "\n",
              "    .dataframe tbody tr th {\n",
              "        vertical-align: top;\n",
              "    }\n",
              "\n",
              "    .dataframe thead th {\n",
              "        text-align: right;\n",
              "    }\n",
              "</style>\n",
              "<table border=\"1\" class=\"dataframe\">\n",
              "  <thead>\n",
              "    <tr style=\"text-align: right;\">\n",
              "      <th></th>\n",
              "      <th>revol_bal_total_acc_outliers</th>\n",
              "      <th>revol_bal_acc_all_data</th>\n",
              "    </tr>\n",
              "  </thead>\n",
              "  <tbody>\n",
              "    <tr>\n",
              "      <th>count</th>\n",
              "      <td>78.0000</td>\n",
              "      <td>9004.0000</td>\n",
              "    </tr>\n",
              "    <tr>\n",
              "      <th>mean</th>\n",
              "      <td>22658.6282</td>\n",
              "      <td>13658.4161</td>\n",
              "    </tr>\n",
              "    <tr>\n",
              "      <th>std</th>\n",
              "      <td>24676.7114</td>\n",
              "      <td>15038.8254</td>\n",
              "    </tr>\n",
              "    <tr>\n",
              "      <th>min</th>\n",
              "      <td>336.0000</td>\n",
              "      <td>0.0000</td>\n",
              "    </tr>\n",
              "    <tr>\n",
              "      <th>25%</th>\n",
              "      <td>7721.7500</td>\n",
              "      <td>4559.7500</td>\n",
              "    </tr>\n",
              "    <tr>\n",
              "      <th>50%</th>\n",
              "      <td>17026.0000</td>\n",
              "      <td>9889.0000</td>\n",
              "    </tr>\n",
              "    <tr>\n",
              "      <th>75%</th>\n",
              "      <td>27265.5000</td>\n",
              "      <td>17468.2500</td>\n",
              "    </tr>\n",
              "    <tr>\n",
              "      <th>95%</th>\n",
              "      <td>65101.9000</td>\n",
              "      <td>38496.6500</td>\n",
              "    </tr>\n",
              "  </tbody>\n",
              "</table>\n",
              "</div>\n",
              "    <div class=\"colab-df-buttons\">\n",
              "\n",
              "  <div class=\"colab-df-container\">\n",
              "    <button class=\"colab-df-convert\" onclick=\"convertToInteractive('df-5866fb66-762b-470c-aa24-118b5df6191e')\"\n",
              "            title=\"Convert this dataframe to an interactive table.\"\n",
              "            style=\"display:none;\">\n",
              "\n",
              "  <svg xmlns=\"http://www.w3.org/2000/svg\" height=\"24px\" viewBox=\"0 -960 960 960\">\n",
              "    <path d=\"M120-120v-720h720v720H120Zm60-500h600v-160H180v160Zm220 220h160v-160H400v160Zm0 220h160v-160H400v160ZM180-400h160v-160H180v160Zm440 0h160v-160H620v160ZM180-180h160v-160H180v160Zm440 0h160v-160H620v160Z\"/>\n",
              "  </svg>\n",
              "    </button>\n",
              "\n",
              "  <style>\n",
              "    .colab-df-container {\n",
              "      display:flex;\n",
              "      gap: 12px;\n",
              "    }\n",
              "\n",
              "    .colab-df-convert {\n",
              "      background-color: #E8F0FE;\n",
              "      border: none;\n",
              "      border-radius: 50%;\n",
              "      cursor: pointer;\n",
              "      display: none;\n",
              "      fill: #1967D2;\n",
              "      height: 32px;\n",
              "      padding: 0 0 0 0;\n",
              "      width: 32px;\n",
              "    }\n",
              "\n",
              "    .colab-df-convert:hover {\n",
              "      background-color: #E2EBFA;\n",
              "      box-shadow: 0px 1px 2px rgba(60, 64, 67, 0.3), 0px 1px 3px 1px rgba(60, 64, 67, 0.15);\n",
              "      fill: #174EA6;\n",
              "    }\n",
              "\n",
              "    .colab-df-buttons div {\n",
              "      margin-bottom: 4px;\n",
              "    }\n",
              "\n",
              "    [theme=dark] .colab-df-convert {\n",
              "      background-color: #3B4455;\n",
              "      fill: #D2E3FC;\n",
              "    }\n",
              "\n",
              "    [theme=dark] .colab-df-convert:hover {\n",
              "      background-color: #434B5C;\n",
              "      box-shadow: 0px 1px 3px 1px rgba(0, 0, 0, 0.15);\n",
              "      filter: drop-shadow(0px 1px 2px rgba(0, 0, 0, 0.3));\n",
              "      fill: #FFFFFF;\n",
              "    }\n",
              "  </style>\n",
              "\n",
              "    <script>\n",
              "      const buttonEl =\n",
              "        document.querySelector('#df-5866fb66-762b-470c-aa24-118b5df6191e button.colab-df-convert');\n",
              "      buttonEl.style.display =\n",
              "        google.colab.kernel.accessAllowed ? 'block' : 'none';\n",
              "\n",
              "      async function convertToInteractive(key) {\n",
              "        const element = document.querySelector('#df-5866fb66-762b-470c-aa24-118b5df6191e');\n",
              "        const dataTable =\n",
              "          await google.colab.kernel.invokeFunction('convertToInteractive',\n",
              "                                                    [key], {});\n",
              "        if (!dataTable) return;\n",
              "\n",
              "        const docLinkHtml = 'Like what you see? Visit the ' +\n",
              "          '<a target=\"_blank\" href=https://colab.research.google.com/notebooks/data_table.ipynb>data table notebook</a>'\n",
              "          + ' to learn more about interactive tables.';\n",
              "        element.innerHTML = '';\n",
              "        dataTable['output_type'] = 'display_data';\n",
              "        await google.colab.output.renderOutput(dataTable, element);\n",
              "        const docLink = document.createElement('div');\n",
              "        docLink.innerHTML = docLinkHtml;\n",
              "        element.appendChild(docLink);\n",
              "      }\n",
              "    </script>\n",
              "  </div>\n",
              "\n",
              "\n",
              "<div id=\"df-fe9ac115-ea29-474d-bfcf-21f86c3d8677\">\n",
              "  <button class=\"colab-df-quickchart\" onclick=\"quickchart('df-fe9ac115-ea29-474d-bfcf-21f86c3d8677')\"\n",
              "            title=\"Suggest charts\"\n",
              "            style=\"display:none;\">\n",
              "\n",
              "<svg xmlns=\"http://www.w3.org/2000/svg\" height=\"24px\"viewBox=\"0 0 24 24\"\n",
              "     width=\"24px\">\n",
              "    <g>\n",
              "        <path d=\"M19 3H5c-1.1 0-2 .9-2 2v14c0 1.1.9 2 2 2h14c1.1 0 2-.9 2-2V5c0-1.1-.9-2-2-2zM9 17H7v-7h2v7zm4 0h-2V7h2v10zm4 0h-2v-4h2v4z\"/>\n",
              "    </g>\n",
              "</svg>\n",
              "  </button>\n",
              "\n",
              "<style>\n",
              "  .colab-df-quickchart {\n",
              "      --bg-color: #E8F0FE;\n",
              "      --fill-color: #1967D2;\n",
              "      --hover-bg-color: #E2EBFA;\n",
              "      --hover-fill-color: #174EA6;\n",
              "      --disabled-fill-color: #AAA;\n",
              "      --disabled-bg-color: #DDD;\n",
              "  }\n",
              "\n",
              "  [theme=dark] .colab-df-quickchart {\n",
              "      --bg-color: #3B4455;\n",
              "      --fill-color: #D2E3FC;\n",
              "      --hover-bg-color: #434B5C;\n",
              "      --hover-fill-color: #FFFFFF;\n",
              "      --disabled-bg-color: #3B4455;\n",
              "      --disabled-fill-color: #666;\n",
              "  }\n",
              "\n",
              "  .colab-df-quickchart {\n",
              "    background-color: var(--bg-color);\n",
              "    border: none;\n",
              "    border-radius: 50%;\n",
              "    cursor: pointer;\n",
              "    display: none;\n",
              "    fill: var(--fill-color);\n",
              "    height: 32px;\n",
              "    padding: 0;\n",
              "    width: 32px;\n",
              "  }\n",
              "\n",
              "  .colab-df-quickchart:hover {\n",
              "    background-color: var(--hover-bg-color);\n",
              "    box-shadow: 0 1px 2px rgba(60, 64, 67, 0.3), 0 1px 3px 1px rgba(60, 64, 67, 0.15);\n",
              "    fill: var(--button-hover-fill-color);\n",
              "  }\n",
              "\n",
              "  .colab-df-quickchart-complete:disabled,\n",
              "  .colab-df-quickchart-complete:disabled:hover {\n",
              "    background-color: var(--disabled-bg-color);\n",
              "    fill: var(--disabled-fill-color);\n",
              "    box-shadow: none;\n",
              "  }\n",
              "\n",
              "  .colab-df-spinner {\n",
              "    border: 2px solid var(--fill-color);\n",
              "    border-color: transparent;\n",
              "    border-bottom-color: var(--fill-color);\n",
              "    animation:\n",
              "      spin 1s steps(1) infinite;\n",
              "  }\n",
              "\n",
              "  @keyframes spin {\n",
              "    0% {\n",
              "      border-color: transparent;\n",
              "      border-bottom-color: var(--fill-color);\n",
              "      border-left-color: var(--fill-color);\n",
              "    }\n",
              "    20% {\n",
              "      border-color: transparent;\n",
              "      border-left-color: var(--fill-color);\n",
              "      border-top-color: var(--fill-color);\n",
              "    }\n",
              "    30% {\n",
              "      border-color: transparent;\n",
              "      border-left-color: var(--fill-color);\n",
              "      border-top-color: var(--fill-color);\n",
              "      border-right-color: var(--fill-color);\n",
              "    }\n",
              "    40% {\n",
              "      border-color: transparent;\n",
              "      border-right-color: var(--fill-color);\n",
              "      border-top-color: var(--fill-color);\n",
              "    }\n",
              "    60% {\n",
              "      border-color: transparent;\n",
              "      border-right-color: var(--fill-color);\n",
              "    }\n",
              "    80% {\n",
              "      border-color: transparent;\n",
              "      border-right-color: var(--fill-color);\n",
              "      border-bottom-color: var(--fill-color);\n",
              "    }\n",
              "    90% {\n",
              "      border-color: transparent;\n",
              "      border-bottom-color: var(--fill-color);\n",
              "    }\n",
              "  }\n",
              "</style>\n",
              "\n",
              "  <script>\n",
              "    async function quickchart(key) {\n",
              "      const quickchartButtonEl =\n",
              "        document.querySelector('#' + key + ' button');\n",
              "      quickchartButtonEl.disabled = true;  // To prevent multiple clicks.\n",
              "      quickchartButtonEl.classList.add('colab-df-spinner');\n",
              "      try {\n",
              "        const charts = await google.colab.kernel.invokeFunction(\n",
              "            'suggestCharts', [key], {});\n",
              "      } catch (error) {\n",
              "        console.error('Error during call to suggestCharts:', error);\n",
              "      }\n",
              "      quickchartButtonEl.classList.remove('colab-df-spinner');\n",
              "      quickchartButtonEl.classList.add('colab-df-quickchart-complete');\n",
              "    }\n",
              "    (() => {\n",
              "      let quickchartButtonEl =\n",
              "        document.querySelector('#df-fe9ac115-ea29-474d-bfcf-21f86c3d8677 button');\n",
              "      quickchartButtonEl.style.display =\n",
              "        google.colab.kernel.accessAllowed ? 'block' : 'none';\n",
              "    })();\n",
              "  </script>\n",
              "</div>\n",
              "\n",
              "    </div>\n",
              "  </div>\n"
            ],
            "application/vnd.google.colaboratory.intrinsic+json": {
              "type": "dataframe",
              "summary": "{\n  \"name\": \"df_open_acc\",\n  \"rows\": 8,\n  \"fields\": [\n    {\n      \"column\": \"revol_bal_total_acc_outliers\",\n      \"properties\": {\n        \"dtype\": \"number\",\n        \"std\": 20894.66773635123,\n        \"min\": 78.0,\n        \"max\": 65101.899999999994,\n        \"num_unique_values\": 8,\n        \"samples\": [\n          22658.628205128207,\n          17026.0,\n          78.0\n        ],\n        \"semantic_type\": \"\",\n        \"description\": \"\"\n      }\n    },\n    {\n      \"column\": \"revol_bal_acc_all_data\",\n      \"properties\": {\n        \"dtype\": \"number\",\n        \"std\": 11578.319367876195,\n        \"min\": 0.0,\n        \"max\": 38496.65,\n        \"num_unique_values\": 8,\n        \"samples\": [\n          13658.4161483785,\n          9889.0,\n          9004.0\n        ],\n        \"semantic_type\": \"\",\n        \"description\": \"\"\n      }\n    }\n  ]\n}"
            }
          },
          "metadata": {},
          "execution_count": 35
        }
      ]
    },
    {
      "cell_type": "markdown",
      "metadata": {
        "id": "-XpPRBvHd2HE"
      },
      "source": [
        "# Part 2: Data cleaning and Feature Preprocessing\n"
      ]
    },
    {
      "cell_type": "markdown",
      "metadata": {
        "id": "yTPaHK12jSQL"
      },
      "source": [
        "## 2.1 Missing Value"
      ]
    },
    {
      "cell_type": "markdown",
      "source": [
        "We filled missing values of *emp_length* with unknown as a new category.\n",
        "\n",
        "*revol_util* had only 3 missing values so we can simply impute these with variable mean.\n",
        "\n"
      ],
      "metadata": {
        "id": "YSano0N_3YuG"
      }
    },
    {
      "cell_type": "code",
      "source": [
        "df['emp_length'] = df['emp_length'].fillna('Unknown')"
      ],
      "metadata": {
        "id": "lmNvSAFKPQDn"
      },
      "execution_count": 36,
      "outputs": []
    },
    {
      "cell_type": "code",
      "source": [
        "df['revol_util'].fillna(df['revol_util'].mean(),inplace = True)"
      ],
      "metadata": {
        "id": "usDyiH5ZQCDC"
      },
      "execution_count": 37,
      "outputs": []
    },
    {
      "cell_type": "markdown",
      "source": [
        "## 2.2 Categorical Variable to Numeric Varaible"
      ],
      "metadata": {
        "id": "FfbL3AAm3uha"
      }
    },
    {
      "cell_type": "markdown",
      "source": [
        "For *earliest_cr_line*, since we were unsure of the initial date from which the variable was transformed, we decided to evenly group its values into five buckets and then encode these into five binary variables."
      ],
      "metadata": {
        "id": "F62SZwWXkIno"
      }
    },
    {
      "cell_type": "code",
      "source": [
        "df['credit_history_length'] = pd.cut(df['earliest_cr_line'], bins=4, labels=[\"very_long\", \"long\", \"recent\", \"very_recent\"])\n"
      ],
      "metadata": {
        "id": "cZoCLzLRkHiG"
      },
      "execution_count": 38,
      "outputs": []
    },
    {
      "cell_type": "code",
      "source": [
        "# recode emp_length\n",
        "def recode_emp_length(el):\n",
        "    if el in ['0 - 1 years','2 years','1 year']:\n",
        "        return '0 - 2 years'\n",
        "    elif el in ['3 years','4 years','5 years']:\n",
        "        return '3 - 5 years'\n",
        "    elif el in ['6 years','7 years','8 years','9 years']:\n",
        "        return '6 - 9 years'\n",
        "    else:\n",
        "        return el\n",
        "\n",
        "df['emp_length'] = df['emp_length'].apply(recode_emp_length)"
      ],
      "metadata": {
        "id": "aUzuAV8G4Ml6"
      },
      "execution_count": 39,
      "outputs": []
    },
    {
      "cell_type": "code",
      "source": [
        "# recode addr_state, only keep states with top 5 loans issued\n",
        "def recode_addr(s):\n",
        "    if s in ['CA','NY','FL','TX','NJ']:\n",
        "        return s\n",
        "    else:\n",
        "        return 'Others'\n",
        "\n",
        "df['addr_state'] = df['addr_state'].apply(recode_addr)"
      ],
      "metadata": {
        "id": "eTAOAk-m8ywL"
      },
      "execution_count": 40,
      "outputs": []
    },
    {
      "cell_type": "code",
      "source": [
        "df_encoded = pd.get_dummies(df,[ 'term', 'grade', 'emp_length', 'home_ownership', 'verification_status', 'purpose','addr_state','credit_history_length'])"
      ],
      "metadata": {
        "id": "Zynb0aEHBFVe"
      },
      "execution_count": 41,
      "outputs": []
    },
    {
      "cell_type": "markdown",
      "source": [
        "## 2.3 Drop Unneccessary Variables"
      ],
      "metadata": {
        "id": "OsSGjlR9JlDd"
      }
    },
    {
      "cell_type": "markdown",
      "source": [
        "We included only those variables that did not exhibit high correlation with other variables and would not cause data leakage."
      ],
      "metadata": {
        "id": "Kj8RlKT4Jso1"
      }
    },
    {
      "cell_type": "code",
      "source": [
        "#drop unneccesary variables\n",
        "df_encoded = df_encoded.drop(['term_ 60 months','grade_G','home_ownership_OWN',\n",
        "              'verification_status_Not Verified', 'purpose_other','addr_state_Others','emp_length_Unknown','credit_history_length_recent'],axis = 1)"
      ],
      "metadata": {
        "id": "YtvSN03dCpPm"
      },
      "execution_count": 42,
      "outputs": []
    },
    {
      "cell_type": "code",
      "source": [
        "df_encoded.columns"
      ],
      "metadata": {
        "colab": {
          "base_uri": "https://localhost:8080/"
        },
        "id": "l2wwew2qL1pl",
        "outputId": "d0a36040-342a-442e-fb8f-e04a2bbadf6c"
      },
      "execution_count": 43,
      "outputs": [
        {
          "output_type": "execute_result",
          "data": {
            "text/plain": [
              "Index(['loan_amnt', 'int_rate', 'annual_inc', 'dti', 'earliest_cr_line',\n",
              "       'inq_last_6mths', 'open_acc', 'pub_rec', 'revol_bal', 'revol_util',\n",
              "       'total_acc', 'loan_status', 'term_ 36 months', 'grade_A', 'grade_B',\n",
              "       'grade_C', 'grade_D', 'grade_E', 'grade_F', 'emp_length_0 - 2 years',\n",
              "       'emp_length_3 - 5 years', 'emp_length_6 - 9 years',\n",
              "       'emp_length_>= 10 years', 'home_ownership_MORTGAGE',\n",
              "       'home_ownership_RENT', 'verification_status_Source Verified',\n",
              "       'verification_status_Verified', 'purpose_car', 'purpose_credit_card',\n",
              "       'purpose_debt_consolidation', 'purpose_house', 'purpose_major_purchase',\n",
              "       'purpose_medical', 'purpose_small_business', 'addr_state_CA',\n",
              "       'addr_state_FL', 'addr_state_NJ', 'addr_state_NY', 'addr_state_TX',\n",
              "       'credit_history_length_very_long', 'credit_history_length_long',\n",
              "       'credit_history_length_very_recent'],\n",
              "      dtype='object')"
            ]
          },
          "metadata": {},
          "execution_count": 43
        }
      ]
    },
    {
      "cell_type": "markdown",
      "source": [
        "## 2.4 Outlier Imputation"
      ],
      "metadata": {
        "id": "C6hCkKJmK5he"
      }
    },
    {
      "cell_type": "markdown",
      "source": [
        "For variables with outliers, we imputed these extreme values using their 99th percentile to minimize their distortion on the candidate machine learning models."
      ],
      "metadata": {
        "id": "ZLA_-FAILEXq"
      }
    },
    {
      "cell_type": "code",
      "source": [
        "columns = ['annual_inc', 'revol_bal', 'total_acc','open_acc']  # List of columns to process\n",
        "\n",
        "for column in columns:\n",
        "    percentile_99 = df_encoded[column].quantile(0.99)\n",
        "    df_encoded[column] = df_encoded[column].apply(lambda x: percentile_99 if x > percentile_99 else x)"
      ],
      "metadata": {
        "id": "MYsQ7KhmKinG"
      },
      "execution_count": 44,
      "outputs": []
    },
    {
      "cell_type": "markdown",
      "metadata": {
        "id": "hp9WbQRTkIpt"
      },
      "source": [
        "## 2.5 Data Processing"
      ]
    },
    {
      "cell_type": "markdown",
      "source": [
        "We divided the data into training and control sets for modeling purposes and standardized the data to improve model performance."
      ],
      "metadata": {
        "id": "t6yWUeClMqWB"
      }
    },
    {
      "cell_type": "code",
      "metadata": {
        "id": "lWVbjiVyiU6X"
      },
      "source": [
        "# split dataset\n",
        "from sklearn.model_selection import train_test_split\n",
        "\n",
        "y = df_encoded.loan_status\n",
        "X = df_encoded.drop([\"loan_status\"], axis=1)\n",
        "\n",
        "# Reserve 25% for testing\n",
        "X_train, X_test, y_train, y_test = train_test_split(X, y, random_state=42, test_size=.25)\n",
        "# standardization\n",
        "from sklearn.preprocessing import StandardScaler\n",
        "\n",
        "scaler = StandardScaler()\n",
        "scaler.fit(X_train)\n",
        "X_train_sd = scaler.transform(X_train)\n",
        "X_test_sd = scaler.transform(X_test)"
      ],
      "execution_count": 45,
      "outputs": []
    },
    {
      "cell_type": "markdown",
      "source": [
        "Note: Random Forest Classifier and Regressor would use orginal data but not standardized."
      ],
      "metadata": {
        "id": "Me0Rj6-4mMS-"
      }
    },
    {
      "cell_type": "markdown",
      "metadata": {
        "id": "1-tw6yVsxL6_"
      },
      "source": [
        "# Part 3: Model Training and Selection"
      ]
    },
    {
      "cell_type": "markdown",
      "metadata": {
        "id": "ZTRHTs5ELlvD"
      },
      "source": [
        "## 3.1 Modeling for loan_status"
      ]
    },
    {
      "cell_type": "markdown",
      "source": [
        "We developed Logistic Regression, RandomForest, Nerual Network models to predict loan status, optimizing for recall to effectively identify defaults.\n",
        "\n",
        "\n",
        "\n",
        "\n",
        "\n"
      ],
      "metadata": {
        "id": "0dCVQfDsS3j9"
      }
    },
    {
      "cell_type": "markdown",
      "source": [
        "###3.1.1 Model Fitting & Performance Evaluation"
      ],
      "metadata": {
        "id": "7MQtdYWz0wdy"
      }
    },
    {
      "cell_type": "markdown",
      "source": [
        "The Random Forest model outperformed the other three models, achieving the highest recall and demonstrating efficient model fitting. It correctly identified 72% of fully paid loans and 63% of defaults."
      ],
      "metadata": {
        "id": "MSyFKIh5awIv"
      }
    },
    {
      "cell_type": "code",
      "metadata": {
        "id": "bvHk0sOOCDGR",
        "cellView": "both"
      },
      "source": [
        "from sklearn.ensemble import RandomForestClassifier\n",
        "from sklearn.neural_network import MLPClassifier\n",
        "from sklearn.linear_model import LogisticRegression\n",
        "from sklearn.model_selection import GridSearchCV\n",
        "from sklearn.metrics import classification_report,confusion_matrix\n",
        "\n",
        "# Logistic Regression\n",
        "classifier_logistic = LogisticRegression()\n",
        "\n",
        "# Random Forest\n",
        "classifier_RF = RandomForestClassifier()\n",
        "\n",
        "#nerual network\n",
        "mlp = MLPClassifier()"
      ],
      "execution_count": 46,
      "outputs": []
    },
    {
      "cell_type": "code",
      "metadata": {
        "colab": {
          "base_uri": "https://localhost:8080/",
          "height": 118
        },
        "id": "wnUIJTlrTc1P",
        "outputId": "ce5eb4ac-b8e6-4733-ea12-392b75f13d48"
      },
      "source": [
        "#logistic modeling\n",
        "param_grid_logistic = {'C': [0.1, 1, 10], 'penalty': ['l1', 'l2'],'solver': ['liblinear'], 'class_weight': [None, 'balanced']}\n",
        "grid_search_logistic = GridSearchCV(classifier_logistic, param_grid_logistic, cv=5, scoring='recall')\n",
        "grid_search_logistic.fit(X_train_sd, y_train)"
      ],
      "execution_count": 47,
      "outputs": [
        {
          "output_type": "execute_result",
          "data": {
            "text/plain": [
              "GridSearchCV(cv=5, estimator=LogisticRegression(),\n",
              "             param_grid={'C': [0.1, 1, 10], 'class_weight': [None, 'balanced'],\n",
              "                         'penalty': ['l1', 'l2'], 'solver': ['liblinear']},\n",
              "             scoring='recall')"
            ],
            "text/html": [
              "<style>#sk-container-id-1 {color: black;background-color: white;}#sk-container-id-1 pre{padding: 0;}#sk-container-id-1 div.sk-toggleable {background-color: white;}#sk-container-id-1 label.sk-toggleable__label {cursor: pointer;display: block;width: 100%;margin-bottom: 0;padding: 0.3em;box-sizing: border-box;text-align: center;}#sk-container-id-1 label.sk-toggleable__label-arrow:before {content: \"▸\";float: left;margin-right: 0.25em;color: #696969;}#sk-container-id-1 label.sk-toggleable__label-arrow:hover:before {color: black;}#sk-container-id-1 div.sk-estimator:hover label.sk-toggleable__label-arrow:before {color: black;}#sk-container-id-1 div.sk-toggleable__content {max-height: 0;max-width: 0;overflow: hidden;text-align: left;background-color: #f0f8ff;}#sk-container-id-1 div.sk-toggleable__content pre {margin: 0.2em;color: black;border-radius: 0.25em;background-color: #f0f8ff;}#sk-container-id-1 input.sk-toggleable__control:checked~div.sk-toggleable__content {max-height: 200px;max-width: 100%;overflow: auto;}#sk-container-id-1 input.sk-toggleable__control:checked~label.sk-toggleable__label-arrow:before {content: \"▾\";}#sk-container-id-1 div.sk-estimator input.sk-toggleable__control:checked~label.sk-toggleable__label {background-color: #d4ebff;}#sk-container-id-1 div.sk-label input.sk-toggleable__control:checked~label.sk-toggleable__label {background-color: #d4ebff;}#sk-container-id-1 input.sk-hidden--visually {border: 0;clip: rect(1px 1px 1px 1px);clip: rect(1px, 1px, 1px, 1px);height: 1px;margin: -1px;overflow: hidden;padding: 0;position: absolute;width: 1px;}#sk-container-id-1 div.sk-estimator {font-family: monospace;background-color: #f0f8ff;border: 1px dotted black;border-radius: 0.25em;box-sizing: border-box;margin-bottom: 0.5em;}#sk-container-id-1 div.sk-estimator:hover {background-color: #d4ebff;}#sk-container-id-1 div.sk-parallel-item::after {content: \"\";width: 100%;border-bottom: 1px solid gray;flex-grow: 1;}#sk-container-id-1 div.sk-label:hover label.sk-toggleable__label {background-color: #d4ebff;}#sk-container-id-1 div.sk-serial::before {content: \"\";position: absolute;border-left: 1px solid gray;box-sizing: border-box;top: 0;bottom: 0;left: 50%;z-index: 0;}#sk-container-id-1 div.sk-serial {display: flex;flex-direction: column;align-items: center;background-color: white;padding-right: 0.2em;padding-left: 0.2em;position: relative;}#sk-container-id-1 div.sk-item {position: relative;z-index: 1;}#sk-container-id-1 div.sk-parallel {display: flex;align-items: stretch;justify-content: center;background-color: white;position: relative;}#sk-container-id-1 div.sk-item::before, #sk-container-id-1 div.sk-parallel-item::before {content: \"\";position: absolute;border-left: 1px solid gray;box-sizing: border-box;top: 0;bottom: 0;left: 50%;z-index: -1;}#sk-container-id-1 div.sk-parallel-item {display: flex;flex-direction: column;z-index: 1;position: relative;background-color: white;}#sk-container-id-1 div.sk-parallel-item:first-child::after {align-self: flex-end;width: 50%;}#sk-container-id-1 div.sk-parallel-item:last-child::after {align-self: flex-start;width: 50%;}#sk-container-id-1 div.sk-parallel-item:only-child::after {width: 0;}#sk-container-id-1 div.sk-dashed-wrapped {border: 1px dashed gray;margin: 0 0.4em 0.5em 0.4em;box-sizing: border-box;padding-bottom: 0.4em;background-color: white;}#sk-container-id-1 div.sk-label label {font-family: monospace;font-weight: bold;display: inline-block;line-height: 1.2em;}#sk-container-id-1 div.sk-label-container {text-align: center;}#sk-container-id-1 div.sk-container {/* jupyter's `normalize.less` sets `[hidden] { display: none; }` but bootstrap.min.css set `[hidden] { display: none !important; }` so we also need the `!important` here to be able to override the default hidden behavior on the sphinx rendered scikit-learn.org. See: https://github.com/scikit-learn/scikit-learn/issues/21755 */display: inline-block !important;position: relative;}#sk-container-id-1 div.sk-text-repr-fallback {display: none;}</style><div id=\"sk-container-id-1\" class=\"sk-top-container\"><div class=\"sk-text-repr-fallback\"><pre>GridSearchCV(cv=5, estimator=LogisticRegression(),\n",
              "             param_grid={&#x27;C&#x27;: [0.1, 1, 10], &#x27;class_weight&#x27;: [None, &#x27;balanced&#x27;],\n",
              "                         &#x27;penalty&#x27;: [&#x27;l1&#x27;, &#x27;l2&#x27;], &#x27;solver&#x27;: [&#x27;liblinear&#x27;]},\n",
              "             scoring=&#x27;recall&#x27;)</pre><b>In a Jupyter environment, please rerun this cell to show the HTML representation or trust the notebook. <br />On GitHub, the HTML representation is unable to render, please try loading this page with nbviewer.org.</b></div><div class=\"sk-container\" hidden><div class=\"sk-item sk-dashed-wrapped\"><div class=\"sk-label-container\"><div class=\"sk-label sk-toggleable\"><input class=\"sk-toggleable__control sk-hidden--visually\" id=\"sk-estimator-id-1\" type=\"checkbox\" ><label for=\"sk-estimator-id-1\" class=\"sk-toggleable__label sk-toggleable__label-arrow\">GridSearchCV</label><div class=\"sk-toggleable__content\"><pre>GridSearchCV(cv=5, estimator=LogisticRegression(),\n",
              "             param_grid={&#x27;C&#x27;: [0.1, 1, 10], &#x27;class_weight&#x27;: [None, &#x27;balanced&#x27;],\n",
              "                         &#x27;penalty&#x27;: [&#x27;l1&#x27;, &#x27;l2&#x27;], &#x27;solver&#x27;: [&#x27;liblinear&#x27;]},\n",
              "             scoring=&#x27;recall&#x27;)</pre></div></div></div><div class=\"sk-parallel\"><div class=\"sk-parallel-item\"><div class=\"sk-item\"><div class=\"sk-label-container\"><div class=\"sk-label sk-toggleable\"><input class=\"sk-toggleable__control sk-hidden--visually\" id=\"sk-estimator-id-2\" type=\"checkbox\" ><label for=\"sk-estimator-id-2\" class=\"sk-toggleable__label sk-toggleable__label-arrow\">estimator: LogisticRegression</label><div class=\"sk-toggleable__content\"><pre>LogisticRegression()</pre></div></div></div><div class=\"sk-serial\"><div class=\"sk-item\"><div class=\"sk-estimator sk-toggleable\"><input class=\"sk-toggleable__control sk-hidden--visually\" id=\"sk-estimator-id-3\" type=\"checkbox\" ><label for=\"sk-estimator-id-3\" class=\"sk-toggleable__label sk-toggleable__label-arrow\">LogisticRegression</label><div class=\"sk-toggleable__content\"><pre>LogisticRegression()</pre></div></div></div></div></div></div></div></div></div></div>"
            ]
          },
          "metadata": {},
          "execution_count": 47
        }
      ]
    },
    {
      "cell_type": "code",
      "metadata": {
        "colab": {
          "base_uri": "https://localhost:8080/"
        },
        "id": "PsxKxmkNUTJ4",
        "outputId": "1111c55e-b0b6-4b30-bf54-5295fad43f7b"
      },
      "source": [
        "#logistic performance\n",
        "prediction_Regression = grid_search_logistic.predict(X_test_sd)\n",
        "print(classification_report(y_test,prediction_Regression))"
      ],
      "execution_count": 48,
      "outputs": [
        {
          "output_type": "stream",
          "name": "stdout",
          "text": [
            "              precision    recall  f1-score   support\n",
            "\n",
            "           0       0.92      0.70      0.79      1872\n",
            "           1       0.31      0.68      0.43       379\n",
            "\n",
            "    accuracy                           0.70      2251\n",
            "   macro avg       0.61      0.69      0.61      2251\n",
            "weighted avg       0.81      0.70      0.73      2251\n",
            "\n"
          ]
        }
      ]
    },
    {
      "cell_type": "code",
      "source": [
        "grid_search_logistic.best_estimator_"
      ],
      "metadata": {
        "colab": {
          "base_uri": "https://localhost:8080/",
          "height": 92
        },
        "id": "e48cT6Azt7sW",
        "outputId": "19d48de1-3895-4d37-d055-88c50b28e290"
      },
      "execution_count": 49,
      "outputs": [
        {
          "output_type": "execute_result",
          "data": {
            "text/plain": [
              "LogisticRegression(C=10, class_weight='balanced', penalty='l1',\n",
              "                   solver='liblinear')"
            ],
            "text/html": [
              "<style>#sk-container-id-2 {color: black;background-color: white;}#sk-container-id-2 pre{padding: 0;}#sk-container-id-2 div.sk-toggleable {background-color: white;}#sk-container-id-2 label.sk-toggleable__label {cursor: pointer;display: block;width: 100%;margin-bottom: 0;padding: 0.3em;box-sizing: border-box;text-align: center;}#sk-container-id-2 label.sk-toggleable__label-arrow:before {content: \"▸\";float: left;margin-right: 0.25em;color: #696969;}#sk-container-id-2 label.sk-toggleable__label-arrow:hover:before {color: black;}#sk-container-id-2 div.sk-estimator:hover label.sk-toggleable__label-arrow:before {color: black;}#sk-container-id-2 div.sk-toggleable__content {max-height: 0;max-width: 0;overflow: hidden;text-align: left;background-color: #f0f8ff;}#sk-container-id-2 div.sk-toggleable__content pre {margin: 0.2em;color: black;border-radius: 0.25em;background-color: #f0f8ff;}#sk-container-id-2 input.sk-toggleable__control:checked~div.sk-toggleable__content {max-height: 200px;max-width: 100%;overflow: auto;}#sk-container-id-2 input.sk-toggleable__control:checked~label.sk-toggleable__label-arrow:before {content: \"▾\";}#sk-container-id-2 div.sk-estimator input.sk-toggleable__control:checked~label.sk-toggleable__label {background-color: #d4ebff;}#sk-container-id-2 div.sk-label input.sk-toggleable__control:checked~label.sk-toggleable__label {background-color: #d4ebff;}#sk-container-id-2 input.sk-hidden--visually {border: 0;clip: rect(1px 1px 1px 1px);clip: rect(1px, 1px, 1px, 1px);height: 1px;margin: -1px;overflow: hidden;padding: 0;position: absolute;width: 1px;}#sk-container-id-2 div.sk-estimator {font-family: monospace;background-color: #f0f8ff;border: 1px dotted black;border-radius: 0.25em;box-sizing: border-box;margin-bottom: 0.5em;}#sk-container-id-2 div.sk-estimator:hover {background-color: #d4ebff;}#sk-container-id-2 div.sk-parallel-item::after {content: \"\";width: 100%;border-bottom: 1px solid gray;flex-grow: 1;}#sk-container-id-2 div.sk-label:hover label.sk-toggleable__label {background-color: #d4ebff;}#sk-container-id-2 div.sk-serial::before {content: \"\";position: absolute;border-left: 1px solid gray;box-sizing: border-box;top: 0;bottom: 0;left: 50%;z-index: 0;}#sk-container-id-2 div.sk-serial {display: flex;flex-direction: column;align-items: center;background-color: white;padding-right: 0.2em;padding-left: 0.2em;position: relative;}#sk-container-id-2 div.sk-item {position: relative;z-index: 1;}#sk-container-id-2 div.sk-parallel {display: flex;align-items: stretch;justify-content: center;background-color: white;position: relative;}#sk-container-id-2 div.sk-item::before, #sk-container-id-2 div.sk-parallel-item::before {content: \"\";position: absolute;border-left: 1px solid gray;box-sizing: border-box;top: 0;bottom: 0;left: 50%;z-index: -1;}#sk-container-id-2 div.sk-parallel-item {display: flex;flex-direction: column;z-index: 1;position: relative;background-color: white;}#sk-container-id-2 div.sk-parallel-item:first-child::after {align-self: flex-end;width: 50%;}#sk-container-id-2 div.sk-parallel-item:last-child::after {align-self: flex-start;width: 50%;}#sk-container-id-2 div.sk-parallel-item:only-child::after {width: 0;}#sk-container-id-2 div.sk-dashed-wrapped {border: 1px dashed gray;margin: 0 0.4em 0.5em 0.4em;box-sizing: border-box;padding-bottom: 0.4em;background-color: white;}#sk-container-id-2 div.sk-label label {font-family: monospace;font-weight: bold;display: inline-block;line-height: 1.2em;}#sk-container-id-2 div.sk-label-container {text-align: center;}#sk-container-id-2 div.sk-container {/* jupyter's `normalize.less` sets `[hidden] { display: none; }` but bootstrap.min.css set `[hidden] { display: none !important; }` so we also need the `!important` here to be able to override the default hidden behavior on the sphinx rendered scikit-learn.org. See: https://github.com/scikit-learn/scikit-learn/issues/21755 */display: inline-block !important;position: relative;}#sk-container-id-2 div.sk-text-repr-fallback {display: none;}</style><div id=\"sk-container-id-2\" class=\"sk-top-container\"><div class=\"sk-text-repr-fallback\"><pre>LogisticRegression(C=10, class_weight=&#x27;balanced&#x27;, penalty=&#x27;l1&#x27;,\n",
              "                   solver=&#x27;liblinear&#x27;)</pre><b>In a Jupyter environment, please rerun this cell to show the HTML representation or trust the notebook. <br />On GitHub, the HTML representation is unable to render, please try loading this page with nbviewer.org.</b></div><div class=\"sk-container\" hidden><div class=\"sk-item\"><div class=\"sk-estimator sk-toggleable\"><input class=\"sk-toggleable__control sk-hidden--visually\" id=\"sk-estimator-id-4\" type=\"checkbox\" checked><label for=\"sk-estimator-id-4\" class=\"sk-toggleable__label sk-toggleable__label-arrow\">LogisticRegression</label><div class=\"sk-toggleable__content\"><pre>LogisticRegression(C=10, class_weight=&#x27;balanced&#x27;, penalty=&#x27;l1&#x27;,\n",
              "                   solver=&#x27;liblinear&#x27;)</pre></div></div></div></div></div>"
            ]
          },
          "metadata": {},
          "execution_count": 49
        }
      ]
    },
    {
      "cell_type": "code",
      "metadata": {
        "colab": {
          "base_uri": "https://localhost:8080/",
          "height": 118
        },
        "id": "rSrJrS5lU7lb",
        "outputId": "c4f8a427-42f3-4278-83cc-76205cda0c9e"
      },
      "source": [
        "#RF modeling\n",
        "#1 minite to train\n",
        "param_grid_RF = {'n_estimators': [ 50, 100, 200],'max_depth': [5, 6, 7], 'max_features': ['sqrt'],'class_weight': [None, 'balanced']}\n",
        "grid_search_RF = GridSearchCV(classifier_RF, param_grid_RF, cv=5, scoring='recall')\n",
        "grid_search_RF.fit(X_train, y_train)"
      ],
      "execution_count": 50,
      "outputs": [
        {
          "output_type": "execute_result",
          "data": {
            "text/plain": [
              "GridSearchCV(cv=5, estimator=RandomForestClassifier(),\n",
              "             param_grid={'class_weight': [None, 'balanced'],\n",
              "                         'max_depth': [5, 6, 7], 'max_features': ['sqrt'],\n",
              "                         'n_estimators': [50, 100, 200]},\n",
              "             scoring='recall')"
            ],
            "text/html": [
              "<style>#sk-container-id-3 {color: black;background-color: white;}#sk-container-id-3 pre{padding: 0;}#sk-container-id-3 div.sk-toggleable {background-color: white;}#sk-container-id-3 label.sk-toggleable__label {cursor: pointer;display: block;width: 100%;margin-bottom: 0;padding: 0.3em;box-sizing: border-box;text-align: center;}#sk-container-id-3 label.sk-toggleable__label-arrow:before {content: \"▸\";float: left;margin-right: 0.25em;color: #696969;}#sk-container-id-3 label.sk-toggleable__label-arrow:hover:before {color: black;}#sk-container-id-3 div.sk-estimator:hover label.sk-toggleable__label-arrow:before {color: black;}#sk-container-id-3 div.sk-toggleable__content {max-height: 0;max-width: 0;overflow: hidden;text-align: left;background-color: #f0f8ff;}#sk-container-id-3 div.sk-toggleable__content pre {margin: 0.2em;color: black;border-radius: 0.25em;background-color: #f0f8ff;}#sk-container-id-3 input.sk-toggleable__control:checked~div.sk-toggleable__content {max-height: 200px;max-width: 100%;overflow: auto;}#sk-container-id-3 input.sk-toggleable__control:checked~label.sk-toggleable__label-arrow:before {content: \"▾\";}#sk-container-id-3 div.sk-estimator input.sk-toggleable__control:checked~label.sk-toggleable__label {background-color: #d4ebff;}#sk-container-id-3 div.sk-label input.sk-toggleable__control:checked~label.sk-toggleable__label {background-color: #d4ebff;}#sk-container-id-3 input.sk-hidden--visually {border: 0;clip: rect(1px 1px 1px 1px);clip: rect(1px, 1px, 1px, 1px);height: 1px;margin: -1px;overflow: hidden;padding: 0;position: absolute;width: 1px;}#sk-container-id-3 div.sk-estimator {font-family: monospace;background-color: #f0f8ff;border: 1px dotted black;border-radius: 0.25em;box-sizing: border-box;margin-bottom: 0.5em;}#sk-container-id-3 div.sk-estimator:hover {background-color: #d4ebff;}#sk-container-id-3 div.sk-parallel-item::after {content: \"\";width: 100%;border-bottom: 1px solid gray;flex-grow: 1;}#sk-container-id-3 div.sk-label:hover label.sk-toggleable__label {background-color: #d4ebff;}#sk-container-id-3 div.sk-serial::before {content: \"\";position: absolute;border-left: 1px solid gray;box-sizing: border-box;top: 0;bottom: 0;left: 50%;z-index: 0;}#sk-container-id-3 div.sk-serial {display: flex;flex-direction: column;align-items: center;background-color: white;padding-right: 0.2em;padding-left: 0.2em;position: relative;}#sk-container-id-3 div.sk-item {position: relative;z-index: 1;}#sk-container-id-3 div.sk-parallel {display: flex;align-items: stretch;justify-content: center;background-color: white;position: relative;}#sk-container-id-3 div.sk-item::before, #sk-container-id-3 div.sk-parallel-item::before {content: \"\";position: absolute;border-left: 1px solid gray;box-sizing: border-box;top: 0;bottom: 0;left: 50%;z-index: -1;}#sk-container-id-3 div.sk-parallel-item {display: flex;flex-direction: column;z-index: 1;position: relative;background-color: white;}#sk-container-id-3 div.sk-parallel-item:first-child::after {align-self: flex-end;width: 50%;}#sk-container-id-3 div.sk-parallel-item:last-child::after {align-self: flex-start;width: 50%;}#sk-container-id-3 div.sk-parallel-item:only-child::after {width: 0;}#sk-container-id-3 div.sk-dashed-wrapped {border: 1px dashed gray;margin: 0 0.4em 0.5em 0.4em;box-sizing: border-box;padding-bottom: 0.4em;background-color: white;}#sk-container-id-3 div.sk-label label {font-family: monospace;font-weight: bold;display: inline-block;line-height: 1.2em;}#sk-container-id-3 div.sk-label-container {text-align: center;}#sk-container-id-3 div.sk-container {/* jupyter's `normalize.less` sets `[hidden] { display: none; }` but bootstrap.min.css set `[hidden] { display: none !important; }` so we also need the `!important` here to be able to override the default hidden behavior on the sphinx rendered scikit-learn.org. See: https://github.com/scikit-learn/scikit-learn/issues/21755 */display: inline-block !important;position: relative;}#sk-container-id-3 div.sk-text-repr-fallback {display: none;}</style><div id=\"sk-container-id-3\" class=\"sk-top-container\"><div class=\"sk-text-repr-fallback\"><pre>GridSearchCV(cv=5, estimator=RandomForestClassifier(),\n",
              "             param_grid={&#x27;class_weight&#x27;: [None, &#x27;balanced&#x27;],\n",
              "                         &#x27;max_depth&#x27;: [5, 6, 7], &#x27;max_features&#x27;: [&#x27;sqrt&#x27;],\n",
              "                         &#x27;n_estimators&#x27;: [50, 100, 200]},\n",
              "             scoring=&#x27;recall&#x27;)</pre><b>In a Jupyter environment, please rerun this cell to show the HTML representation or trust the notebook. <br />On GitHub, the HTML representation is unable to render, please try loading this page with nbviewer.org.</b></div><div class=\"sk-container\" hidden><div class=\"sk-item sk-dashed-wrapped\"><div class=\"sk-label-container\"><div class=\"sk-label sk-toggleable\"><input class=\"sk-toggleable__control sk-hidden--visually\" id=\"sk-estimator-id-5\" type=\"checkbox\" ><label for=\"sk-estimator-id-5\" class=\"sk-toggleable__label sk-toggleable__label-arrow\">GridSearchCV</label><div class=\"sk-toggleable__content\"><pre>GridSearchCV(cv=5, estimator=RandomForestClassifier(),\n",
              "             param_grid={&#x27;class_weight&#x27;: [None, &#x27;balanced&#x27;],\n",
              "                         &#x27;max_depth&#x27;: [5, 6, 7], &#x27;max_features&#x27;: [&#x27;sqrt&#x27;],\n",
              "                         &#x27;n_estimators&#x27;: [50, 100, 200]},\n",
              "             scoring=&#x27;recall&#x27;)</pre></div></div></div><div class=\"sk-parallel\"><div class=\"sk-parallel-item\"><div class=\"sk-item\"><div class=\"sk-label-container\"><div class=\"sk-label sk-toggleable\"><input class=\"sk-toggleable__control sk-hidden--visually\" id=\"sk-estimator-id-6\" type=\"checkbox\" ><label for=\"sk-estimator-id-6\" class=\"sk-toggleable__label sk-toggleable__label-arrow\">estimator: RandomForestClassifier</label><div class=\"sk-toggleable__content\"><pre>RandomForestClassifier()</pre></div></div></div><div class=\"sk-serial\"><div class=\"sk-item\"><div class=\"sk-estimator sk-toggleable\"><input class=\"sk-toggleable__control sk-hidden--visually\" id=\"sk-estimator-id-7\" type=\"checkbox\" ><label for=\"sk-estimator-id-7\" class=\"sk-toggleable__label sk-toggleable__label-arrow\">RandomForestClassifier</label><div class=\"sk-toggleable__content\"><pre>RandomForestClassifier()</pre></div></div></div></div></div></div></div></div></div></div>"
            ]
          },
          "metadata": {},
          "execution_count": 50
        }
      ]
    },
    {
      "cell_type": "code",
      "metadata": {
        "colab": {
          "base_uri": "https://localhost:8080/"
        },
        "id": "A1j1i-fjU7xj",
        "outputId": "b2e9b2e8-2e5f-4ca0-ccb3-99e57e828148"
      },
      "source": [
        "#RF performance\n",
        "prediction_RF = grid_search_RF.predict(X_test)\n",
        "print(classification_report(y_test,prediction_RF))"
      ],
      "execution_count": 51,
      "outputs": [
        {
          "output_type": "stream",
          "name": "stdout",
          "text": [
            "              precision    recall  f1-score   support\n",
            "\n",
            "           0       0.91      0.73      0.81      1872\n",
            "           1       0.32      0.64      0.43       379\n",
            "\n",
            "    accuracy                           0.71      2251\n",
            "   macro avg       0.62      0.68      0.62      2251\n",
            "weighted avg       0.81      0.71      0.74      2251\n",
            "\n"
          ]
        }
      ]
    },
    {
      "cell_type": "code",
      "source": [
        "grid_search_RF.best_estimator_"
      ],
      "metadata": {
        "colab": {
          "base_uri": "https://localhost:8080/",
          "height": 75
        },
        "id": "ThCKNcznu7_3",
        "outputId": "bdf78fae-cbbd-472c-db78-8be663057d08"
      },
      "execution_count": 52,
      "outputs": [
        {
          "output_type": "execute_result",
          "data": {
            "text/plain": [
              "RandomForestClassifier(class_weight='balanced', max_depth=5, n_estimators=200)"
            ],
            "text/html": [
              "<style>#sk-container-id-4 {color: black;background-color: white;}#sk-container-id-4 pre{padding: 0;}#sk-container-id-4 div.sk-toggleable {background-color: white;}#sk-container-id-4 label.sk-toggleable__label {cursor: pointer;display: block;width: 100%;margin-bottom: 0;padding: 0.3em;box-sizing: border-box;text-align: center;}#sk-container-id-4 label.sk-toggleable__label-arrow:before {content: \"▸\";float: left;margin-right: 0.25em;color: #696969;}#sk-container-id-4 label.sk-toggleable__label-arrow:hover:before {color: black;}#sk-container-id-4 div.sk-estimator:hover label.sk-toggleable__label-arrow:before {color: black;}#sk-container-id-4 div.sk-toggleable__content {max-height: 0;max-width: 0;overflow: hidden;text-align: left;background-color: #f0f8ff;}#sk-container-id-4 div.sk-toggleable__content pre {margin: 0.2em;color: black;border-radius: 0.25em;background-color: #f0f8ff;}#sk-container-id-4 input.sk-toggleable__control:checked~div.sk-toggleable__content {max-height: 200px;max-width: 100%;overflow: auto;}#sk-container-id-4 input.sk-toggleable__control:checked~label.sk-toggleable__label-arrow:before {content: \"▾\";}#sk-container-id-4 div.sk-estimator input.sk-toggleable__control:checked~label.sk-toggleable__label {background-color: #d4ebff;}#sk-container-id-4 div.sk-label input.sk-toggleable__control:checked~label.sk-toggleable__label {background-color: #d4ebff;}#sk-container-id-4 input.sk-hidden--visually {border: 0;clip: rect(1px 1px 1px 1px);clip: rect(1px, 1px, 1px, 1px);height: 1px;margin: -1px;overflow: hidden;padding: 0;position: absolute;width: 1px;}#sk-container-id-4 div.sk-estimator {font-family: monospace;background-color: #f0f8ff;border: 1px dotted black;border-radius: 0.25em;box-sizing: border-box;margin-bottom: 0.5em;}#sk-container-id-4 div.sk-estimator:hover {background-color: #d4ebff;}#sk-container-id-4 div.sk-parallel-item::after {content: \"\";width: 100%;border-bottom: 1px solid gray;flex-grow: 1;}#sk-container-id-4 div.sk-label:hover label.sk-toggleable__label {background-color: #d4ebff;}#sk-container-id-4 div.sk-serial::before {content: \"\";position: absolute;border-left: 1px solid gray;box-sizing: border-box;top: 0;bottom: 0;left: 50%;z-index: 0;}#sk-container-id-4 div.sk-serial {display: flex;flex-direction: column;align-items: center;background-color: white;padding-right: 0.2em;padding-left: 0.2em;position: relative;}#sk-container-id-4 div.sk-item {position: relative;z-index: 1;}#sk-container-id-4 div.sk-parallel {display: flex;align-items: stretch;justify-content: center;background-color: white;position: relative;}#sk-container-id-4 div.sk-item::before, #sk-container-id-4 div.sk-parallel-item::before {content: \"\";position: absolute;border-left: 1px solid gray;box-sizing: border-box;top: 0;bottom: 0;left: 50%;z-index: -1;}#sk-container-id-4 div.sk-parallel-item {display: flex;flex-direction: column;z-index: 1;position: relative;background-color: white;}#sk-container-id-4 div.sk-parallel-item:first-child::after {align-self: flex-end;width: 50%;}#sk-container-id-4 div.sk-parallel-item:last-child::after {align-self: flex-start;width: 50%;}#sk-container-id-4 div.sk-parallel-item:only-child::after {width: 0;}#sk-container-id-4 div.sk-dashed-wrapped {border: 1px dashed gray;margin: 0 0.4em 0.5em 0.4em;box-sizing: border-box;padding-bottom: 0.4em;background-color: white;}#sk-container-id-4 div.sk-label label {font-family: monospace;font-weight: bold;display: inline-block;line-height: 1.2em;}#sk-container-id-4 div.sk-label-container {text-align: center;}#sk-container-id-4 div.sk-container {/* jupyter's `normalize.less` sets `[hidden] { display: none; }` but bootstrap.min.css set `[hidden] { display: none !important; }` so we also need the `!important` here to be able to override the default hidden behavior on the sphinx rendered scikit-learn.org. See: https://github.com/scikit-learn/scikit-learn/issues/21755 */display: inline-block !important;position: relative;}#sk-container-id-4 div.sk-text-repr-fallback {display: none;}</style><div id=\"sk-container-id-4\" class=\"sk-top-container\"><div class=\"sk-text-repr-fallback\"><pre>RandomForestClassifier(class_weight=&#x27;balanced&#x27;, max_depth=5, n_estimators=200)</pre><b>In a Jupyter environment, please rerun this cell to show the HTML representation or trust the notebook. <br />On GitHub, the HTML representation is unable to render, please try loading this page with nbviewer.org.</b></div><div class=\"sk-container\" hidden><div class=\"sk-item\"><div class=\"sk-estimator sk-toggleable\"><input class=\"sk-toggleable__control sk-hidden--visually\" id=\"sk-estimator-id-8\" type=\"checkbox\" checked><label for=\"sk-estimator-id-8\" class=\"sk-toggleable__label sk-toggleable__label-arrow\">RandomForestClassifier</label><div class=\"sk-toggleable__content\"><pre>RandomForestClassifier(class_weight=&#x27;balanced&#x27;, max_depth=5, n_estimators=200)</pre></div></div></div></div></div>"
            ]
          },
          "metadata": {},
          "execution_count": 52
        }
      ]
    },
    {
      "cell_type": "code",
      "source": [
        "#9 minutes to train\n",
        "# Nerual Netwrok\n",
        "parameter_grid_mlp = {\n",
        "    'hidden_layer_sizes': [ (50,50), (100,100),(50,50,50),(100,100,100)],\n",
        "    'solver': ['sgd', 'adam'],\n",
        "    'alpha': [0.001, 0.01,0.1],\n",
        "    'learning_rate': ['adaptive'],\n",
        "}\n",
        "\n",
        "mlp = MLPClassifier(max_iter=100)  # You might want to add or adjust other fixed parameters\n",
        "\n",
        "# Create a GridSearchCV object\n",
        "grid_search_mlp = GridSearchCV(mlp, parameter_grid_mlp, n_jobs=-1, cv=5)\n",
        "grid_search_mlp.fit(X_train_sd, y_train)"
      ],
      "metadata": {
        "colab": {
          "base_uri": "https://localhost:8080/",
          "height": 187
        },
        "id": "mPbnL9lGQ3Ab",
        "outputId": "64dd7684-e959-48f8-95bf-3d3fbd52aeaa"
      },
      "execution_count": 53,
      "outputs": [
        {
          "output_type": "stream",
          "name": "stderr",
          "text": [
            "/usr/local/lib/python3.10/dist-packages/sklearn/neural_network/_multilayer_perceptron.py:686: ConvergenceWarning:\n",
            "\n",
            "Stochastic Optimizer: Maximum iterations (100) reached and the optimization hasn't converged yet.\n",
            "\n"
          ]
        },
        {
          "output_type": "execute_result",
          "data": {
            "text/plain": [
              "GridSearchCV(cv=5, estimator=MLPClassifier(max_iter=100), n_jobs=-1,\n",
              "             param_grid={'alpha': [0.001, 0.01, 0.1],\n",
              "                         'hidden_layer_sizes': [(50, 50), (100, 100),\n",
              "                                                (50, 50, 50), (100, 100, 100)],\n",
              "                         'learning_rate': ['adaptive'],\n",
              "                         'solver': ['sgd', 'adam']})"
            ],
            "text/html": [
              "<style>#sk-container-id-5 {color: black;background-color: white;}#sk-container-id-5 pre{padding: 0;}#sk-container-id-5 div.sk-toggleable {background-color: white;}#sk-container-id-5 label.sk-toggleable__label {cursor: pointer;display: block;width: 100%;margin-bottom: 0;padding: 0.3em;box-sizing: border-box;text-align: center;}#sk-container-id-5 label.sk-toggleable__label-arrow:before {content: \"▸\";float: left;margin-right: 0.25em;color: #696969;}#sk-container-id-5 label.sk-toggleable__label-arrow:hover:before {color: black;}#sk-container-id-5 div.sk-estimator:hover label.sk-toggleable__label-arrow:before {color: black;}#sk-container-id-5 div.sk-toggleable__content {max-height: 0;max-width: 0;overflow: hidden;text-align: left;background-color: #f0f8ff;}#sk-container-id-5 div.sk-toggleable__content pre {margin: 0.2em;color: black;border-radius: 0.25em;background-color: #f0f8ff;}#sk-container-id-5 input.sk-toggleable__control:checked~div.sk-toggleable__content {max-height: 200px;max-width: 100%;overflow: auto;}#sk-container-id-5 input.sk-toggleable__control:checked~label.sk-toggleable__label-arrow:before {content: \"▾\";}#sk-container-id-5 div.sk-estimator input.sk-toggleable__control:checked~label.sk-toggleable__label {background-color: #d4ebff;}#sk-container-id-5 div.sk-label input.sk-toggleable__control:checked~label.sk-toggleable__label {background-color: #d4ebff;}#sk-container-id-5 input.sk-hidden--visually {border: 0;clip: rect(1px 1px 1px 1px);clip: rect(1px, 1px, 1px, 1px);height: 1px;margin: -1px;overflow: hidden;padding: 0;position: absolute;width: 1px;}#sk-container-id-5 div.sk-estimator {font-family: monospace;background-color: #f0f8ff;border: 1px dotted black;border-radius: 0.25em;box-sizing: border-box;margin-bottom: 0.5em;}#sk-container-id-5 div.sk-estimator:hover {background-color: #d4ebff;}#sk-container-id-5 div.sk-parallel-item::after {content: \"\";width: 100%;border-bottom: 1px solid gray;flex-grow: 1;}#sk-container-id-5 div.sk-label:hover label.sk-toggleable__label {background-color: #d4ebff;}#sk-container-id-5 div.sk-serial::before {content: \"\";position: absolute;border-left: 1px solid gray;box-sizing: border-box;top: 0;bottom: 0;left: 50%;z-index: 0;}#sk-container-id-5 div.sk-serial {display: flex;flex-direction: column;align-items: center;background-color: white;padding-right: 0.2em;padding-left: 0.2em;position: relative;}#sk-container-id-5 div.sk-item {position: relative;z-index: 1;}#sk-container-id-5 div.sk-parallel {display: flex;align-items: stretch;justify-content: center;background-color: white;position: relative;}#sk-container-id-5 div.sk-item::before, #sk-container-id-5 div.sk-parallel-item::before {content: \"\";position: absolute;border-left: 1px solid gray;box-sizing: border-box;top: 0;bottom: 0;left: 50%;z-index: -1;}#sk-container-id-5 div.sk-parallel-item {display: flex;flex-direction: column;z-index: 1;position: relative;background-color: white;}#sk-container-id-5 div.sk-parallel-item:first-child::after {align-self: flex-end;width: 50%;}#sk-container-id-5 div.sk-parallel-item:last-child::after {align-self: flex-start;width: 50%;}#sk-container-id-5 div.sk-parallel-item:only-child::after {width: 0;}#sk-container-id-5 div.sk-dashed-wrapped {border: 1px dashed gray;margin: 0 0.4em 0.5em 0.4em;box-sizing: border-box;padding-bottom: 0.4em;background-color: white;}#sk-container-id-5 div.sk-label label {font-family: monospace;font-weight: bold;display: inline-block;line-height: 1.2em;}#sk-container-id-5 div.sk-label-container {text-align: center;}#sk-container-id-5 div.sk-container {/* jupyter's `normalize.less` sets `[hidden] { display: none; }` but bootstrap.min.css set `[hidden] { display: none !important; }` so we also need the `!important` here to be able to override the default hidden behavior on the sphinx rendered scikit-learn.org. See: https://github.com/scikit-learn/scikit-learn/issues/21755 */display: inline-block !important;position: relative;}#sk-container-id-5 div.sk-text-repr-fallback {display: none;}</style><div id=\"sk-container-id-5\" class=\"sk-top-container\"><div class=\"sk-text-repr-fallback\"><pre>GridSearchCV(cv=5, estimator=MLPClassifier(max_iter=100), n_jobs=-1,\n",
              "             param_grid={&#x27;alpha&#x27;: [0.001, 0.01, 0.1],\n",
              "                         &#x27;hidden_layer_sizes&#x27;: [(50, 50), (100, 100),\n",
              "                                                (50, 50, 50), (100, 100, 100)],\n",
              "                         &#x27;learning_rate&#x27;: [&#x27;adaptive&#x27;],\n",
              "                         &#x27;solver&#x27;: [&#x27;sgd&#x27;, &#x27;adam&#x27;]})</pre><b>In a Jupyter environment, please rerun this cell to show the HTML representation or trust the notebook. <br />On GitHub, the HTML representation is unable to render, please try loading this page with nbviewer.org.</b></div><div class=\"sk-container\" hidden><div class=\"sk-item sk-dashed-wrapped\"><div class=\"sk-label-container\"><div class=\"sk-label sk-toggleable\"><input class=\"sk-toggleable__control sk-hidden--visually\" id=\"sk-estimator-id-9\" type=\"checkbox\" ><label for=\"sk-estimator-id-9\" class=\"sk-toggleable__label sk-toggleable__label-arrow\">GridSearchCV</label><div class=\"sk-toggleable__content\"><pre>GridSearchCV(cv=5, estimator=MLPClassifier(max_iter=100), n_jobs=-1,\n",
              "             param_grid={&#x27;alpha&#x27;: [0.001, 0.01, 0.1],\n",
              "                         &#x27;hidden_layer_sizes&#x27;: [(50, 50), (100, 100),\n",
              "                                                (50, 50, 50), (100, 100, 100)],\n",
              "                         &#x27;learning_rate&#x27;: [&#x27;adaptive&#x27;],\n",
              "                         &#x27;solver&#x27;: [&#x27;sgd&#x27;, &#x27;adam&#x27;]})</pre></div></div></div><div class=\"sk-parallel\"><div class=\"sk-parallel-item\"><div class=\"sk-item\"><div class=\"sk-label-container\"><div class=\"sk-label sk-toggleable\"><input class=\"sk-toggleable__control sk-hidden--visually\" id=\"sk-estimator-id-10\" type=\"checkbox\" ><label for=\"sk-estimator-id-10\" class=\"sk-toggleable__label sk-toggleable__label-arrow\">estimator: MLPClassifier</label><div class=\"sk-toggleable__content\"><pre>MLPClassifier(max_iter=100)</pre></div></div></div><div class=\"sk-serial\"><div class=\"sk-item\"><div class=\"sk-estimator sk-toggleable\"><input class=\"sk-toggleable__control sk-hidden--visually\" id=\"sk-estimator-id-11\" type=\"checkbox\" ><label for=\"sk-estimator-id-11\" class=\"sk-toggleable__label sk-toggleable__label-arrow\">MLPClassifier</label><div class=\"sk-toggleable__content\"><pre>MLPClassifier(max_iter=100)</pre></div></div></div></div></div></div></div></div></div></div>"
            ]
          },
          "metadata": {},
          "execution_count": 53
        }
      ]
    },
    {
      "cell_type": "code",
      "source": [
        "#Nerual Netwrok performance\n",
        "prediction_mlp = grid_search_mlp.predict(X_test)\n",
        "print(classification_report(y_test,prediction_RF))"
      ],
      "metadata": {
        "colab": {
          "base_uri": "https://localhost:8080/"
        },
        "id": "Xu4aw0C8QXL0",
        "outputId": "bb9dd206-44d2-4d77-e6f0-5050cbb0dcef"
      },
      "execution_count": 54,
      "outputs": [
        {
          "output_type": "stream",
          "name": "stdout",
          "text": [
            "              precision    recall  f1-score   support\n",
            "\n",
            "           0       0.91      0.73      0.81      1872\n",
            "           1       0.32      0.64      0.43       379\n",
            "\n",
            "    accuracy                           0.71      2251\n",
            "   macro avg       0.62      0.68      0.62      2251\n",
            "weighted avg       0.81      0.71      0.74      2251\n",
            "\n"
          ]
        },
        {
          "output_type": "stream",
          "name": "stderr",
          "text": [
            "/usr/local/lib/python3.10/dist-packages/sklearn/base.py:432: UserWarning:\n",
            "\n",
            "X has feature names, but MLPClassifier was fitted without feature names\n",
            "\n"
          ]
        }
      ]
    },
    {
      "cell_type": "code",
      "source": [
        "grid_search_mlp.best_estimator_"
      ],
      "metadata": {
        "colab": {
          "base_uri": "https://localhost:8080/",
          "height": 92
        },
        "id": "WjoG9KxavgWW",
        "outputId": "f8771c94-c9fc-47c8-cd30-9cd3bb7daa67"
      },
      "execution_count": 55,
      "outputs": [
        {
          "output_type": "execute_result",
          "data": {
            "text/plain": [
              "MLPClassifier(alpha=0.1, hidden_layer_sizes=(50, 50, 50),\n",
              "              learning_rate='adaptive', max_iter=100, solver='sgd')"
            ],
            "text/html": [
              "<style>#sk-container-id-6 {color: black;background-color: white;}#sk-container-id-6 pre{padding: 0;}#sk-container-id-6 div.sk-toggleable {background-color: white;}#sk-container-id-6 label.sk-toggleable__label {cursor: pointer;display: block;width: 100%;margin-bottom: 0;padding: 0.3em;box-sizing: border-box;text-align: center;}#sk-container-id-6 label.sk-toggleable__label-arrow:before {content: \"▸\";float: left;margin-right: 0.25em;color: #696969;}#sk-container-id-6 label.sk-toggleable__label-arrow:hover:before {color: black;}#sk-container-id-6 div.sk-estimator:hover label.sk-toggleable__label-arrow:before {color: black;}#sk-container-id-6 div.sk-toggleable__content {max-height: 0;max-width: 0;overflow: hidden;text-align: left;background-color: #f0f8ff;}#sk-container-id-6 div.sk-toggleable__content pre {margin: 0.2em;color: black;border-radius: 0.25em;background-color: #f0f8ff;}#sk-container-id-6 input.sk-toggleable__control:checked~div.sk-toggleable__content {max-height: 200px;max-width: 100%;overflow: auto;}#sk-container-id-6 input.sk-toggleable__control:checked~label.sk-toggleable__label-arrow:before {content: \"▾\";}#sk-container-id-6 div.sk-estimator input.sk-toggleable__control:checked~label.sk-toggleable__label {background-color: #d4ebff;}#sk-container-id-6 div.sk-label input.sk-toggleable__control:checked~label.sk-toggleable__label {background-color: #d4ebff;}#sk-container-id-6 input.sk-hidden--visually {border: 0;clip: rect(1px 1px 1px 1px);clip: rect(1px, 1px, 1px, 1px);height: 1px;margin: -1px;overflow: hidden;padding: 0;position: absolute;width: 1px;}#sk-container-id-6 div.sk-estimator {font-family: monospace;background-color: #f0f8ff;border: 1px dotted black;border-radius: 0.25em;box-sizing: border-box;margin-bottom: 0.5em;}#sk-container-id-6 div.sk-estimator:hover {background-color: #d4ebff;}#sk-container-id-6 div.sk-parallel-item::after {content: \"\";width: 100%;border-bottom: 1px solid gray;flex-grow: 1;}#sk-container-id-6 div.sk-label:hover label.sk-toggleable__label {background-color: #d4ebff;}#sk-container-id-6 div.sk-serial::before {content: \"\";position: absolute;border-left: 1px solid gray;box-sizing: border-box;top: 0;bottom: 0;left: 50%;z-index: 0;}#sk-container-id-6 div.sk-serial {display: flex;flex-direction: column;align-items: center;background-color: white;padding-right: 0.2em;padding-left: 0.2em;position: relative;}#sk-container-id-6 div.sk-item {position: relative;z-index: 1;}#sk-container-id-6 div.sk-parallel {display: flex;align-items: stretch;justify-content: center;background-color: white;position: relative;}#sk-container-id-6 div.sk-item::before, #sk-container-id-6 div.sk-parallel-item::before {content: \"\";position: absolute;border-left: 1px solid gray;box-sizing: border-box;top: 0;bottom: 0;left: 50%;z-index: -1;}#sk-container-id-6 div.sk-parallel-item {display: flex;flex-direction: column;z-index: 1;position: relative;background-color: white;}#sk-container-id-6 div.sk-parallel-item:first-child::after {align-self: flex-end;width: 50%;}#sk-container-id-6 div.sk-parallel-item:last-child::after {align-self: flex-start;width: 50%;}#sk-container-id-6 div.sk-parallel-item:only-child::after {width: 0;}#sk-container-id-6 div.sk-dashed-wrapped {border: 1px dashed gray;margin: 0 0.4em 0.5em 0.4em;box-sizing: border-box;padding-bottom: 0.4em;background-color: white;}#sk-container-id-6 div.sk-label label {font-family: monospace;font-weight: bold;display: inline-block;line-height: 1.2em;}#sk-container-id-6 div.sk-label-container {text-align: center;}#sk-container-id-6 div.sk-container {/* jupyter's `normalize.less` sets `[hidden] { display: none; }` but bootstrap.min.css set `[hidden] { display: none !important; }` so we also need the `!important` here to be able to override the default hidden behavior on the sphinx rendered scikit-learn.org. See: https://github.com/scikit-learn/scikit-learn/issues/21755 */display: inline-block !important;position: relative;}#sk-container-id-6 div.sk-text-repr-fallback {display: none;}</style><div id=\"sk-container-id-6\" class=\"sk-top-container\"><div class=\"sk-text-repr-fallback\"><pre>MLPClassifier(alpha=0.1, hidden_layer_sizes=(50, 50, 50),\n",
              "              learning_rate=&#x27;adaptive&#x27;, max_iter=100, solver=&#x27;sgd&#x27;)</pre><b>In a Jupyter environment, please rerun this cell to show the HTML representation or trust the notebook. <br />On GitHub, the HTML representation is unable to render, please try loading this page with nbviewer.org.</b></div><div class=\"sk-container\" hidden><div class=\"sk-item\"><div class=\"sk-estimator sk-toggleable\"><input class=\"sk-toggleable__control sk-hidden--visually\" id=\"sk-estimator-id-12\" type=\"checkbox\" checked><label for=\"sk-estimator-id-12\" class=\"sk-toggleable__label sk-toggleable__label-arrow\">MLPClassifier</label><div class=\"sk-toggleable__content\"><pre>MLPClassifier(alpha=0.1, hidden_layer_sizes=(50, 50, 50),\n",
              "              learning_rate=&#x27;adaptive&#x27;, max_iter=100, solver=&#x27;sgd&#x27;)</pre></div></div></div></div></div>"
            ]
          },
          "metadata": {},
          "execution_count": 55
        }
      ]
    },
    {
      "cell_type": "markdown",
      "source": [
        "###3.1.2 Feature Importance"
      ],
      "metadata": {
        "id": "lKU03TY31AW-"
      }
    },
    {
      "cell_type": "markdown",
      "source": [
        "The most influential features for predicting borrower defaults were associated with the term and interest of the loan and if a borrower was grade A. Surprisingly, the borrower's credit grade had less impact than anticipated, primarily because it showed a strong correlation with the interest rate."
      ],
      "metadata": {
        "id": "vcYPV8c0eI-G"
      }
    },
    {
      "cell_type": "code",
      "metadata": {
        "id": "RvzBs61gXAoP",
        "colab": {
          "base_uri": "https://localhost:8080/"
        },
        "outputId": "1ae27791-87e8-4d1f-92dd-d2fe97148778"
      },
      "source": [
        "# check feature importance of logistics regression\n",
        "forest_best = RandomForestClassifier(class_weight='balanced', max_depth=5, n_estimators=50)\n",
        "forest_best.fit(X, y)\n",
        "\n",
        "importances = forest_best.feature_importances_\n",
        "\n",
        "indices = np.argsort(importances)[::-1]\n",
        "\n",
        "# Print the feature ranking\n",
        "print(\"Feature importance ranking by Random Forest Model:\")\n",
        "for ind in range(X.shape[1]):\n",
        "  print (\"{0} : {1}\".format(X.columns[indices[ind]],round(importances[indices[ind]], 2)))"
      ],
      "execution_count": 56,
      "outputs": [
        {
          "output_type": "stream",
          "name": "stdout",
          "text": [
            "Feature importance ranking by Random Forest Model:\n",
            "term_ 36 months : 0.23\n",
            "int_rate : 0.22\n",
            "grade_A : 0.11\n",
            "annual_inc : 0.08\n",
            "revol_util : 0.06\n",
            "dti : 0.03\n",
            "grade_E : 0.03\n",
            "loan_amnt : 0.03\n",
            "earliest_cr_line : 0.02\n",
            "revol_bal : 0.02\n",
            "grade_D : 0.02\n",
            "grade_F : 0.02\n",
            "total_acc : 0.02\n",
            "grade_B : 0.02\n",
            "purpose_credit_card : 0.01\n",
            "inq_last_6mths : 0.01\n",
            "open_acc : 0.01\n",
            "purpose_small_business : 0.01\n",
            "grade_C : 0.01\n",
            "home_ownership_MORTGAGE : 0.01\n",
            "home_ownership_RENT : 0.0\n",
            "purpose_house : 0.0\n",
            "addr_state_TX : 0.0\n",
            "addr_state_CA : 0.0\n",
            "purpose_major_purchase : 0.0\n",
            "verification_status_Verified : 0.0\n",
            "credit_history_length_very_recent : 0.0\n",
            "emp_length_>= 10 years : 0.0\n",
            "emp_length_6 - 9 years : 0.0\n",
            "addr_state_NY : 0.0\n",
            "verification_status_Source Verified : 0.0\n",
            "addr_state_FL : 0.0\n",
            "emp_length_3 - 5 years : 0.0\n",
            "purpose_debt_consolidation : 0.0\n",
            "pub_rec : 0.0\n",
            "emp_length_0 - 2 years : 0.0\n",
            "addr_state_NJ : 0.0\n",
            "purpose_medical : 0.0\n",
            "purpose_car : 0.0\n",
            "credit_history_length_long : 0.0\n",
            "credit_history_length_very_long : 0.0\n"
          ]
        }
      ]
    },
    {
      "cell_type": "markdown",
      "source": [
        "## 3.2 Modeling for interest int_rate"
      ],
      "metadata": {
        "id": "e33sxDnah-c3"
      }
    },
    {
      "cell_type": "markdown",
      "source": [
        "We developed Linear Regression, K-Neighbors Regressor, and RandomForest Regressor models to predict interest rates, focusing on minimizing MSE for more accurate predictions. We excluded records indicating defaults, as these problematic loans may not provide valuable insights for establishing rules for interest rate settings."
      ],
      "metadata": {
        "id": "IXL_S9GxiaPx"
      }
    },
    {
      "cell_type": "markdown",
      "source": [
        "### 3.2.1 Model Fitting and Performance Evaluation"
      ],
      "metadata": {
        "id": "VFC3JtzV2IRd"
      }
    },
    {
      "cell_type": "markdown",
      "source": [
        "Lasso was the best model. The error rate in interest rate prediciton was only 6%."
      ],
      "metadata": {
        "id": "lc2M7wW3x40z"
      }
    },
    {
      "cell_type": "code",
      "source": [
        "# remove defaults\n",
        "int_df = df_encoded[df_encoded.loan_status == 0]"
      ],
      "metadata": {
        "id": "2L4QlpOJnrC9"
      },
      "execution_count": 57,
      "outputs": []
    },
    {
      "cell_type": "code",
      "source": [
        "y_int = int_df.int_rate\n",
        "X_int = int_df.drop([\"loan_status\",\"int_rate\"], axis=1)\n",
        "\n",
        "# Reserve 25% for testing\n",
        "X_train_int, X_test_int, y_train_int, y_test_int = train_test_split(X_int, y_int, random_state=42, test_size=.25)\n",
        "\n",
        "#standardize\n",
        "scaler.fit(X_train_int)\n",
        "X_train_sd_int = scaler.transform(X_train_int)\n",
        "X_test_sd_int = scaler.transform(X_test_int)"
      ],
      "metadata": {
        "id": "v1d_wPONnx8G"
      },
      "execution_count": 58,
      "outputs": []
    },
    {
      "cell_type": "code",
      "source": [
        "from sklearn.ensemble import RandomForestRegressor\n",
        "from sklearn.neighbors import KNeighborsRegressor\n",
        "from sklearn.linear_model import Lasso\n",
        "\n",
        "# Linear Regression\n",
        "regressor_lasso = Lasso()\n",
        "\n",
        "# K Nearest Neighbors Regressor\n",
        "regressor_KNN = KNeighborsRegressor()\n",
        "\n",
        "# Random Forest Regressor\n",
        "regressor_RF = RandomForestRegressor()"
      ],
      "metadata": {
        "id": "7KHyoggcipBo"
      },
      "execution_count": 59,
      "outputs": []
    },
    {
      "cell_type": "code",
      "source": [
        "#logistic modeling\n",
        "param_grid_lasso = {'alpha': [0.001, 0.01, 0.1, 1, 10, 100]}\n",
        "grid_search_lasso = GridSearchCV(Lasso(), param_grid_lasso, cv=5, scoring='neg_mean_squared_error')\n",
        "grid_search_lasso.fit(X_train_sd_int, y_train_int)"
      ],
      "metadata": {
        "colab": {
          "base_uri": "https://localhost:8080/",
          "height": 118
        },
        "id": "OZU2MSO0kuQM",
        "outputId": "c9a794f8-3ed0-4bb7-b326-1d9fdfa119a1"
      },
      "execution_count": 60,
      "outputs": [
        {
          "output_type": "execute_result",
          "data": {
            "text/plain": [
              "GridSearchCV(cv=5, estimator=Lasso(),\n",
              "             param_grid={'alpha': [0.001, 0.01, 0.1, 1, 10, 100]},\n",
              "             scoring='neg_mean_squared_error')"
            ],
            "text/html": [
              "<style>#sk-container-id-7 {color: black;background-color: white;}#sk-container-id-7 pre{padding: 0;}#sk-container-id-7 div.sk-toggleable {background-color: white;}#sk-container-id-7 label.sk-toggleable__label {cursor: pointer;display: block;width: 100%;margin-bottom: 0;padding: 0.3em;box-sizing: border-box;text-align: center;}#sk-container-id-7 label.sk-toggleable__label-arrow:before {content: \"▸\";float: left;margin-right: 0.25em;color: #696969;}#sk-container-id-7 label.sk-toggleable__label-arrow:hover:before {color: black;}#sk-container-id-7 div.sk-estimator:hover label.sk-toggleable__label-arrow:before {color: black;}#sk-container-id-7 div.sk-toggleable__content {max-height: 0;max-width: 0;overflow: hidden;text-align: left;background-color: #f0f8ff;}#sk-container-id-7 div.sk-toggleable__content pre {margin: 0.2em;color: black;border-radius: 0.25em;background-color: #f0f8ff;}#sk-container-id-7 input.sk-toggleable__control:checked~div.sk-toggleable__content {max-height: 200px;max-width: 100%;overflow: auto;}#sk-container-id-7 input.sk-toggleable__control:checked~label.sk-toggleable__label-arrow:before {content: \"▾\";}#sk-container-id-7 div.sk-estimator input.sk-toggleable__control:checked~label.sk-toggleable__label {background-color: #d4ebff;}#sk-container-id-7 div.sk-label input.sk-toggleable__control:checked~label.sk-toggleable__label {background-color: #d4ebff;}#sk-container-id-7 input.sk-hidden--visually {border: 0;clip: rect(1px 1px 1px 1px);clip: rect(1px, 1px, 1px, 1px);height: 1px;margin: -1px;overflow: hidden;padding: 0;position: absolute;width: 1px;}#sk-container-id-7 div.sk-estimator {font-family: monospace;background-color: #f0f8ff;border: 1px dotted black;border-radius: 0.25em;box-sizing: border-box;margin-bottom: 0.5em;}#sk-container-id-7 div.sk-estimator:hover {background-color: #d4ebff;}#sk-container-id-7 div.sk-parallel-item::after {content: \"\";width: 100%;border-bottom: 1px solid gray;flex-grow: 1;}#sk-container-id-7 div.sk-label:hover label.sk-toggleable__label {background-color: #d4ebff;}#sk-container-id-7 div.sk-serial::before {content: \"\";position: absolute;border-left: 1px solid gray;box-sizing: border-box;top: 0;bottom: 0;left: 50%;z-index: 0;}#sk-container-id-7 div.sk-serial {display: flex;flex-direction: column;align-items: center;background-color: white;padding-right: 0.2em;padding-left: 0.2em;position: relative;}#sk-container-id-7 div.sk-item {position: relative;z-index: 1;}#sk-container-id-7 div.sk-parallel {display: flex;align-items: stretch;justify-content: center;background-color: white;position: relative;}#sk-container-id-7 div.sk-item::before, #sk-container-id-7 div.sk-parallel-item::before {content: \"\";position: absolute;border-left: 1px solid gray;box-sizing: border-box;top: 0;bottom: 0;left: 50%;z-index: -1;}#sk-container-id-7 div.sk-parallel-item {display: flex;flex-direction: column;z-index: 1;position: relative;background-color: white;}#sk-container-id-7 div.sk-parallel-item:first-child::after {align-self: flex-end;width: 50%;}#sk-container-id-7 div.sk-parallel-item:last-child::after {align-self: flex-start;width: 50%;}#sk-container-id-7 div.sk-parallel-item:only-child::after {width: 0;}#sk-container-id-7 div.sk-dashed-wrapped {border: 1px dashed gray;margin: 0 0.4em 0.5em 0.4em;box-sizing: border-box;padding-bottom: 0.4em;background-color: white;}#sk-container-id-7 div.sk-label label {font-family: monospace;font-weight: bold;display: inline-block;line-height: 1.2em;}#sk-container-id-7 div.sk-label-container {text-align: center;}#sk-container-id-7 div.sk-container {/* jupyter's `normalize.less` sets `[hidden] { display: none; }` but bootstrap.min.css set `[hidden] { display: none !important; }` so we also need the `!important` here to be able to override the default hidden behavior on the sphinx rendered scikit-learn.org. See: https://github.com/scikit-learn/scikit-learn/issues/21755 */display: inline-block !important;position: relative;}#sk-container-id-7 div.sk-text-repr-fallback {display: none;}</style><div id=\"sk-container-id-7\" class=\"sk-top-container\"><div class=\"sk-text-repr-fallback\"><pre>GridSearchCV(cv=5, estimator=Lasso(),\n",
              "             param_grid={&#x27;alpha&#x27;: [0.001, 0.01, 0.1, 1, 10, 100]},\n",
              "             scoring=&#x27;neg_mean_squared_error&#x27;)</pre><b>In a Jupyter environment, please rerun this cell to show the HTML representation or trust the notebook. <br />On GitHub, the HTML representation is unable to render, please try loading this page with nbviewer.org.</b></div><div class=\"sk-container\" hidden><div class=\"sk-item sk-dashed-wrapped\"><div class=\"sk-label-container\"><div class=\"sk-label sk-toggleable\"><input class=\"sk-toggleable__control sk-hidden--visually\" id=\"sk-estimator-id-13\" type=\"checkbox\" ><label for=\"sk-estimator-id-13\" class=\"sk-toggleable__label sk-toggleable__label-arrow\">GridSearchCV</label><div class=\"sk-toggleable__content\"><pre>GridSearchCV(cv=5, estimator=Lasso(),\n",
              "             param_grid={&#x27;alpha&#x27;: [0.001, 0.01, 0.1, 1, 10, 100]},\n",
              "             scoring=&#x27;neg_mean_squared_error&#x27;)</pre></div></div></div><div class=\"sk-parallel\"><div class=\"sk-parallel-item\"><div class=\"sk-item\"><div class=\"sk-label-container\"><div class=\"sk-label sk-toggleable\"><input class=\"sk-toggleable__control sk-hidden--visually\" id=\"sk-estimator-id-14\" type=\"checkbox\" ><label for=\"sk-estimator-id-14\" class=\"sk-toggleable__label sk-toggleable__label-arrow\">estimator: Lasso</label><div class=\"sk-toggleable__content\"><pre>Lasso()</pre></div></div></div><div class=\"sk-serial\"><div class=\"sk-item\"><div class=\"sk-estimator sk-toggleable\"><input class=\"sk-toggleable__control sk-hidden--visually\" id=\"sk-estimator-id-15\" type=\"checkbox\" ><label for=\"sk-estimator-id-15\" class=\"sk-toggleable__label sk-toggleable__label-arrow\">Lasso</label><div class=\"sk-toggleable__content\"><pre>Lasso()</pre></div></div></div></div></div></div></div></div></div></div>"
            ]
          },
          "metadata": {},
          "execution_count": 60
        }
      ]
    },
    {
      "cell_type": "code",
      "source": [
        "# get absolute interest error rate lasso\n",
        "round(sum(abs(y_test_int- grid_search_lasso.predict(X_test_sd_int) ))/sum(y_test_int),2)"
      ],
      "metadata": {
        "colab": {
          "base_uri": "https://localhost:8080/"
        },
        "id": "YruI-ykEmPhp",
        "outputId": "7890fca0-8c72-43eb-a7b6-c3fef5e54126"
      },
      "execution_count": 61,
      "outputs": [
        {
          "output_type": "execute_result",
          "data": {
            "text/plain": [
              "0.06"
            ]
          },
          "metadata": {},
          "execution_count": 61
        }
      ]
    },
    {
      "cell_type": "code",
      "source": [
        "#KNN\n",
        "param_grid_KNN = {'n_neighbors': [5,7,9,11],  # Test different neighbors\n",
        "    'weights': ['uniform', 'distance'],  # Test uniform and distance weights\n",
        "    'metric': ['euclidean', 'manhattan', 'minkowski']}  # Test different distance metrics}\n",
        "grid_search_KNN  = GridSearchCV(regressor_KNN,param_grid_KNN, cv=5, scoring='neg_mean_squared_error')\n",
        "grid_search_KNN.fit(X_train_sd_int, y_train_int)"
      ],
      "metadata": {
        "colab": {
          "base_uri": "https://localhost:8080/",
          "height": 118
        },
        "id": "OldxWCKipjDh",
        "outputId": "1f6e3d4d-ada5-4fbb-e7ee-84ef888c765b"
      },
      "execution_count": 62,
      "outputs": [
        {
          "output_type": "execute_result",
          "data": {
            "text/plain": [
              "GridSearchCV(cv=5, estimator=KNeighborsRegressor(),\n",
              "             param_grid={'metric': ['euclidean', 'manhattan', 'minkowski'],\n",
              "                         'n_neighbors': [5, 7, 9, 11],\n",
              "                         'weights': ['uniform', 'distance']},\n",
              "             scoring='neg_mean_squared_error')"
            ],
            "text/html": [
              "<style>#sk-container-id-8 {color: black;background-color: white;}#sk-container-id-8 pre{padding: 0;}#sk-container-id-8 div.sk-toggleable {background-color: white;}#sk-container-id-8 label.sk-toggleable__label {cursor: pointer;display: block;width: 100%;margin-bottom: 0;padding: 0.3em;box-sizing: border-box;text-align: center;}#sk-container-id-8 label.sk-toggleable__label-arrow:before {content: \"▸\";float: left;margin-right: 0.25em;color: #696969;}#sk-container-id-8 label.sk-toggleable__label-arrow:hover:before {color: black;}#sk-container-id-8 div.sk-estimator:hover label.sk-toggleable__label-arrow:before {color: black;}#sk-container-id-8 div.sk-toggleable__content {max-height: 0;max-width: 0;overflow: hidden;text-align: left;background-color: #f0f8ff;}#sk-container-id-8 div.sk-toggleable__content pre {margin: 0.2em;color: black;border-radius: 0.25em;background-color: #f0f8ff;}#sk-container-id-8 input.sk-toggleable__control:checked~div.sk-toggleable__content {max-height: 200px;max-width: 100%;overflow: auto;}#sk-container-id-8 input.sk-toggleable__control:checked~label.sk-toggleable__label-arrow:before {content: \"▾\";}#sk-container-id-8 div.sk-estimator input.sk-toggleable__control:checked~label.sk-toggleable__label {background-color: #d4ebff;}#sk-container-id-8 div.sk-label input.sk-toggleable__control:checked~label.sk-toggleable__label {background-color: #d4ebff;}#sk-container-id-8 input.sk-hidden--visually {border: 0;clip: rect(1px 1px 1px 1px);clip: rect(1px, 1px, 1px, 1px);height: 1px;margin: -1px;overflow: hidden;padding: 0;position: absolute;width: 1px;}#sk-container-id-8 div.sk-estimator {font-family: monospace;background-color: #f0f8ff;border: 1px dotted black;border-radius: 0.25em;box-sizing: border-box;margin-bottom: 0.5em;}#sk-container-id-8 div.sk-estimator:hover {background-color: #d4ebff;}#sk-container-id-8 div.sk-parallel-item::after {content: \"\";width: 100%;border-bottom: 1px solid gray;flex-grow: 1;}#sk-container-id-8 div.sk-label:hover label.sk-toggleable__label {background-color: #d4ebff;}#sk-container-id-8 div.sk-serial::before {content: \"\";position: absolute;border-left: 1px solid gray;box-sizing: border-box;top: 0;bottom: 0;left: 50%;z-index: 0;}#sk-container-id-8 div.sk-serial {display: flex;flex-direction: column;align-items: center;background-color: white;padding-right: 0.2em;padding-left: 0.2em;position: relative;}#sk-container-id-8 div.sk-item {position: relative;z-index: 1;}#sk-container-id-8 div.sk-parallel {display: flex;align-items: stretch;justify-content: center;background-color: white;position: relative;}#sk-container-id-8 div.sk-item::before, #sk-container-id-8 div.sk-parallel-item::before {content: \"\";position: absolute;border-left: 1px solid gray;box-sizing: border-box;top: 0;bottom: 0;left: 50%;z-index: -1;}#sk-container-id-8 div.sk-parallel-item {display: flex;flex-direction: column;z-index: 1;position: relative;background-color: white;}#sk-container-id-8 div.sk-parallel-item:first-child::after {align-self: flex-end;width: 50%;}#sk-container-id-8 div.sk-parallel-item:last-child::after {align-self: flex-start;width: 50%;}#sk-container-id-8 div.sk-parallel-item:only-child::after {width: 0;}#sk-container-id-8 div.sk-dashed-wrapped {border: 1px dashed gray;margin: 0 0.4em 0.5em 0.4em;box-sizing: border-box;padding-bottom: 0.4em;background-color: white;}#sk-container-id-8 div.sk-label label {font-family: monospace;font-weight: bold;display: inline-block;line-height: 1.2em;}#sk-container-id-8 div.sk-label-container {text-align: center;}#sk-container-id-8 div.sk-container {/* jupyter's `normalize.less` sets `[hidden] { display: none; }` but bootstrap.min.css set `[hidden] { display: none !important; }` so we also need the `!important` here to be able to override the default hidden behavior on the sphinx rendered scikit-learn.org. See: https://github.com/scikit-learn/scikit-learn/issues/21755 */display: inline-block !important;position: relative;}#sk-container-id-8 div.sk-text-repr-fallback {display: none;}</style><div id=\"sk-container-id-8\" class=\"sk-top-container\"><div class=\"sk-text-repr-fallback\"><pre>GridSearchCV(cv=5, estimator=KNeighborsRegressor(),\n",
              "             param_grid={&#x27;metric&#x27;: [&#x27;euclidean&#x27;, &#x27;manhattan&#x27;, &#x27;minkowski&#x27;],\n",
              "                         &#x27;n_neighbors&#x27;: [5, 7, 9, 11],\n",
              "                         &#x27;weights&#x27;: [&#x27;uniform&#x27;, &#x27;distance&#x27;]},\n",
              "             scoring=&#x27;neg_mean_squared_error&#x27;)</pre><b>In a Jupyter environment, please rerun this cell to show the HTML representation or trust the notebook. <br />On GitHub, the HTML representation is unable to render, please try loading this page with nbviewer.org.</b></div><div class=\"sk-container\" hidden><div class=\"sk-item sk-dashed-wrapped\"><div class=\"sk-label-container\"><div class=\"sk-label sk-toggleable\"><input class=\"sk-toggleable__control sk-hidden--visually\" id=\"sk-estimator-id-16\" type=\"checkbox\" ><label for=\"sk-estimator-id-16\" class=\"sk-toggleable__label sk-toggleable__label-arrow\">GridSearchCV</label><div class=\"sk-toggleable__content\"><pre>GridSearchCV(cv=5, estimator=KNeighborsRegressor(),\n",
              "             param_grid={&#x27;metric&#x27;: [&#x27;euclidean&#x27;, &#x27;manhattan&#x27;, &#x27;minkowski&#x27;],\n",
              "                         &#x27;n_neighbors&#x27;: [5, 7, 9, 11],\n",
              "                         &#x27;weights&#x27;: [&#x27;uniform&#x27;, &#x27;distance&#x27;]},\n",
              "             scoring=&#x27;neg_mean_squared_error&#x27;)</pre></div></div></div><div class=\"sk-parallel\"><div class=\"sk-parallel-item\"><div class=\"sk-item\"><div class=\"sk-label-container\"><div class=\"sk-label sk-toggleable\"><input class=\"sk-toggleable__control sk-hidden--visually\" id=\"sk-estimator-id-17\" type=\"checkbox\" ><label for=\"sk-estimator-id-17\" class=\"sk-toggleable__label sk-toggleable__label-arrow\">estimator: KNeighborsRegressor</label><div class=\"sk-toggleable__content\"><pre>KNeighborsRegressor()</pre></div></div></div><div class=\"sk-serial\"><div class=\"sk-item\"><div class=\"sk-estimator sk-toggleable\"><input class=\"sk-toggleable__control sk-hidden--visually\" id=\"sk-estimator-id-18\" type=\"checkbox\" ><label for=\"sk-estimator-id-18\" class=\"sk-toggleable__label sk-toggleable__label-arrow\">KNeighborsRegressor</label><div class=\"sk-toggleable__content\"><pre>KNeighborsRegressor()</pre></div></div></div></div></div></div></div></div></div></div>"
            ]
          },
          "metadata": {},
          "execution_count": 62
        }
      ]
    },
    {
      "cell_type": "code",
      "source": [
        "# get absolute interest error rate KNN\n",
        "round(sum(abs(y_test_int - grid_search_KNN.predict(X_test_sd_int) ))/sum(y_test_int),2)"
      ],
      "metadata": {
        "colab": {
          "base_uri": "https://localhost:8080/"
        },
        "id": "tSGFMX2gp3ot",
        "outputId": "4d4e3ffc-f2c5-4ccc-9c18-037107cf3a83"
      },
      "execution_count": 63,
      "outputs": [
        {
          "output_type": "execute_result",
          "data": {
            "text/plain": [
              "0.08"
            ]
          },
          "metadata": {},
          "execution_count": 63
        }
      ]
    },
    {
      "cell_type": "code",
      "source": [
        "param_grid_RF = {'n_estimators': [ 50, 100, 200],'max_depth': [5, 6, 7], 'max_features': ['sqrt']}\n",
        "grid_search_RF = GridSearchCV(regressor_RF, param_grid_RF, cv=5, scoring='neg_mean_squared_error')\n",
        "grid_search_RF.fit(X_train_int, y_train_int)"
      ],
      "metadata": {
        "colab": {
          "base_uri": "https://localhost:8080/",
          "height": 118
        },
        "id": "PByM2F5Bp_Zc",
        "outputId": "c131fb4e-2450-454f-d36a-de6b07cc42af"
      },
      "execution_count": 64,
      "outputs": [
        {
          "output_type": "execute_result",
          "data": {
            "text/plain": [
              "GridSearchCV(cv=5, estimator=RandomForestRegressor(),\n",
              "             param_grid={'max_depth': [5, 6, 7], 'max_features': ['sqrt'],\n",
              "                         'n_estimators': [50, 100, 200]},\n",
              "             scoring='neg_mean_squared_error')"
            ],
            "text/html": [
              "<style>#sk-container-id-9 {color: black;background-color: white;}#sk-container-id-9 pre{padding: 0;}#sk-container-id-9 div.sk-toggleable {background-color: white;}#sk-container-id-9 label.sk-toggleable__label {cursor: pointer;display: block;width: 100%;margin-bottom: 0;padding: 0.3em;box-sizing: border-box;text-align: center;}#sk-container-id-9 label.sk-toggleable__label-arrow:before {content: \"▸\";float: left;margin-right: 0.25em;color: #696969;}#sk-container-id-9 label.sk-toggleable__label-arrow:hover:before {color: black;}#sk-container-id-9 div.sk-estimator:hover label.sk-toggleable__label-arrow:before {color: black;}#sk-container-id-9 div.sk-toggleable__content {max-height: 0;max-width: 0;overflow: hidden;text-align: left;background-color: #f0f8ff;}#sk-container-id-9 div.sk-toggleable__content pre {margin: 0.2em;color: black;border-radius: 0.25em;background-color: #f0f8ff;}#sk-container-id-9 input.sk-toggleable__control:checked~div.sk-toggleable__content {max-height: 200px;max-width: 100%;overflow: auto;}#sk-container-id-9 input.sk-toggleable__control:checked~label.sk-toggleable__label-arrow:before {content: \"▾\";}#sk-container-id-9 div.sk-estimator input.sk-toggleable__control:checked~label.sk-toggleable__label {background-color: #d4ebff;}#sk-container-id-9 div.sk-label input.sk-toggleable__control:checked~label.sk-toggleable__label {background-color: #d4ebff;}#sk-container-id-9 input.sk-hidden--visually {border: 0;clip: rect(1px 1px 1px 1px);clip: rect(1px, 1px, 1px, 1px);height: 1px;margin: -1px;overflow: hidden;padding: 0;position: absolute;width: 1px;}#sk-container-id-9 div.sk-estimator {font-family: monospace;background-color: #f0f8ff;border: 1px dotted black;border-radius: 0.25em;box-sizing: border-box;margin-bottom: 0.5em;}#sk-container-id-9 div.sk-estimator:hover {background-color: #d4ebff;}#sk-container-id-9 div.sk-parallel-item::after {content: \"\";width: 100%;border-bottom: 1px solid gray;flex-grow: 1;}#sk-container-id-9 div.sk-label:hover label.sk-toggleable__label {background-color: #d4ebff;}#sk-container-id-9 div.sk-serial::before {content: \"\";position: absolute;border-left: 1px solid gray;box-sizing: border-box;top: 0;bottom: 0;left: 50%;z-index: 0;}#sk-container-id-9 div.sk-serial {display: flex;flex-direction: column;align-items: center;background-color: white;padding-right: 0.2em;padding-left: 0.2em;position: relative;}#sk-container-id-9 div.sk-item {position: relative;z-index: 1;}#sk-container-id-9 div.sk-parallel {display: flex;align-items: stretch;justify-content: center;background-color: white;position: relative;}#sk-container-id-9 div.sk-item::before, #sk-container-id-9 div.sk-parallel-item::before {content: \"\";position: absolute;border-left: 1px solid gray;box-sizing: border-box;top: 0;bottom: 0;left: 50%;z-index: -1;}#sk-container-id-9 div.sk-parallel-item {display: flex;flex-direction: column;z-index: 1;position: relative;background-color: white;}#sk-container-id-9 div.sk-parallel-item:first-child::after {align-self: flex-end;width: 50%;}#sk-container-id-9 div.sk-parallel-item:last-child::after {align-self: flex-start;width: 50%;}#sk-container-id-9 div.sk-parallel-item:only-child::after {width: 0;}#sk-container-id-9 div.sk-dashed-wrapped {border: 1px dashed gray;margin: 0 0.4em 0.5em 0.4em;box-sizing: border-box;padding-bottom: 0.4em;background-color: white;}#sk-container-id-9 div.sk-label label {font-family: monospace;font-weight: bold;display: inline-block;line-height: 1.2em;}#sk-container-id-9 div.sk-label-container {text-align: center;}#sk-container-id-9 div.sk-container {/* jupyter's `normalize.less` sets `[hidden] { display: none; }` but bootstrap.min.css set `[hidden] { display: none !important; }` so we also need the `!important` here to be able to override the default hidden behavior on the sphinx rendered scikit-learn.org. See: https://github.com/scikit-learn/scikit-learn/issues/21755 */display: inline-block !important;position: relative;}#sk-container-id-9 div.sk-text-repr-fallback {display: none;}</style><div id=\"sk-container-id-9\" class=\"sk-top-container\"><div class=\"sk-text-repr-fallback\"><pre>GridSearchCV(cv=5, estimator=RandomForestRegressor(),\n",
              "             param_grid={&#x27;max_depth&#x27;: [5, 6, 7], &#x27;max_features&#x27;: [&#x27;sqrt&#x27;],\n",
              "                         &#x27;n_estimators&#x27;: [50, 100, 200]},\n",
              "             scoring=&#x27;neg_mean_squared_error&#x27;)</pre><b>In a Jupyter environment, please rerun this cell to show the HTML representation or trust the notebook. <br />On GitHub, the HTML representation is unable to render, please try loading this page with nbviewer.org.</b></div><div class=\"sk-container\" hidden><div class=\"sk-item sk-dashed-wrapped\"><div class=\"sk-label-container\"><div class=\"sk-label sk-toggleable\"><input class=\"sk-toggleable__control sk-hidden--visually\" id=\"sk-estimator-id-19\" type=\"checkbox\" ><label for=\"sk-estimator-id-19\" class=\"sk-toggleable__label sk-toggleable__label-arrow\">GridSearchCV</label><div class=\"sk-toggleable__content\"><pre>GridSearchCV(cv=5, estimator=RandomForestRegressor(),\n",
              "             param_grid={&#x27;max_depth&#x27;: [5, 6, 7], &#x27;max_features&#x27;: [&#x27;sqrt&#x27;],\n",
              "                         &#x27;n_estimators&#x27;: [50, 100, 200]},\n",
              "             scoring=&#x27;neg_mean_squared_error&#x27;)</pre></div></div></div><div class=\"sk-parallel\"><div class=\"sk-parallel-item\"><div class=\"sk-item\"><div class=\"sk-label-container\"><div class=\"sk-label sk-toggleable\"><input class=\"sk-toggleable__control sk-hidden--visually\" id=\"sk-estimator-id-20\" type=\"checkbox\" ><label for=\"sk-estimator-id-20\" class=\"sk-toggleable__label sk-toggleable__label-arrow\">estimator: RandomForestRegressor</label><div class=\"sk-toggleable__content\"><pre>RandomForestRegressor()</pre></div></div></div><div class=\"sk-serial\"><div class=\"sk-item\"><div class=\"sk-estimator sk-toggleable\"><input class=\"sk-toggleable__control sk-hidden--visually\" id=\"sk-estimator-id-21\" type=\"checkbox\" ><label for=\"sk-estimator-id-21\" class=\"sk-toggleable__label sk-toggleable__label-arrow\">RandomForestRegressor</label><div class=\"sk-toggleable__content\"><pre>RandomForestRegressor()</pre></div></div></div></div></div></div></div></div></div></div>"
            ]
          },
          "metadata": {},
          "execution_count": 64
        }
      ]
    },
    {
      "cell_type": "code",
      "source": [
        "# get absolute interest error rate KNN\n",
        "round(sum(abs(y_test_int - grid_search_RF.predict(X_test_sd_int) ))/sum(y_test_int),2)"
      ],
      "metadata": {
        "colab": {
          "base_uri": "https://localhost:8080/"
        },
        "id": "hgz4_c55vryz",
        "outputId": "fe3e832e-5f8b-470a-b957-e9bbee0f329f"
      },
      "execution_count": 65,
      "outputs": [
        {
          "output_type": "stream",
          "name": "stderr",
          "text": [
            "/usr/local/lib/python3.10/dist-packages/sklearn/base.py:439: UserWarning:\n",
            "\n",
            "X does not have valid feature names, but RandomForestRegressor was fitted with feature names\n",
            "\n"
          ]
        },
        {
          "output_type": "execute_result",
          "data": {
            "text/plain": [
              "0.1"
            ]
          },
          "metadata": {},
          "execution_count": 65
        }
      ]
    },
    {
      "cell_type": "markdown",
      "source": [
        "### 3.2.2 Feature Importance"
      ],
      "metadata": {
        "id": "Gcoue9cU2GdV"
      }
    },
    {
      "cell_type": "markdown",
      "source": [
        "Borrower's grade largely determine the interest rate for the loan. The higher the grade, the lower the interest rate."
      ],
      "metadata": {
        "id": "2jE12MAFzccq"
      }
    },
    {
      "cell_type": "code",
      "source": [
        "best_lasso = grid_search_lasso.best_estimator_\n",
        "lasso_coefficients = best_lasso.coef_\n",
        "feature_coefficients = pd.DataFrame({\n",
        "    'Feature': X_train_int.columns,\n",
        "    'Coefficient': lasso_coefficients\n",
        "})\n",
        "\n",
        "# Display the DataFrame sorted by the absolute value of coefficients in descending order\n",
        "print(feature_coefficients.sort_values(by='Coefficient', key=abs, ascending=False))"
      ],
      "metadata": {
        "colab": {
          "base_uri": "https://localhost:8080/"
        },
        "id": "eQQCvIcnzaVx",
        "outputId": "cf1c74af-676c-4f96-e0d2-49f7f3b2c152"
      },
      "execution_count": 66,
      "outputs": [
        {
          "output_type": "stream",
          "name": "stdout",
          "text": [
            "                                Feature  Coefficient\n",
            "11                              grade_A      -6.5473\n",
            "12                              grade_B      -4.7361\n",
            "13                              grade_C      -2.7813\n",
            "14                              grade_D      -1.4473\n",
            "15                              grade_E      -0.6230\n",
            "8                            revol_util       0.3056\n",
            "10                      term_ 36 months      -0.2015\n",
            "4                        inq_last_6mths       0.1233\n",
            "16                              grade_F      -0.1141\n",
            "5                              open_acc       0.0768\n",
            "0                             loan_amnt       0.0738\n",
            "6                               pub_rec       0.0614\n",
            "9                             total_acc      -0.0588\n",
            "39    credit_history_length_very_recent       0.0535\n",
            "24         verification_status_Verified       0.0523\n",
            "17               emp_length_0 - 2 years       0.0407\n",
            "7                             revol_bal      -0.0401\n",
            "38           credit_history_length_long      -0.0359\n",
            "21              home_ownership_MORTGAGE      -0.0342\n",
            "19               emp_length_6 - 9 years       0.0316\n",
            "18               emp_length_3 - 5 years       0.0288\n",
            "3                      earliest_cr_line       0.0261\n",
            "23  verification_status_Source Verified       0.0259\n",
            "29               purpose_major_purchase      -0.0213\n",
            "2                                   dti      -0.0200\n",
            "1                            annual_inc       0.0187\n",
            "22                  home_ownership_RENT       0.0179\n",
            "30                      purpose_medical       0.0112\n",
            "25                          purpose_car      -0.0108\n",
            "20               emp_length_>= 10 years       0.0074\n",
            "36                        addr_state_TX      -0.0047\n",
            "28                        purpose_house       0.0043\n",
            "26                  purpose_credit_card       0.0037\n",
            "37      credit_history_length_very_long      -0.0033\n",
            "35                        addr_state_NY       0.0018\n",
            "31               purpose_small_business      -0.0018\n",
            "27           purpose_debt_consolidation       0.0008\n",
            "32                        addr_state_CA       0.0000\n",
            "33                        addr_state_FL       0.0000\n",
            "34                        addr_state_NJ      -0.0000\n"
          ]
        }
      ]
    },
    {
      "cell_type": "markdown",
      "metadata": {
        "id": "Ym6unm2XhVzK"
      },
      "source": [
        "# Part 5 : Summary"
      ]
    },
    {
      "cell_type": "markdown",
      "source": [
        "This project focused on predicting loan defaults and interest rates for LendingClub's small loans to enhance its risk management and profitability. LendingClub has been grappling with a high default rate of 17% and a significant loss of 43% on defaulted loans for the small loan business, likely due to its aggressive loan issuance strategy. Notably, 40% of its loans are issued to borrowers <= grade C for nearly the full amount requested, and over 50% of small loan borrowers have issues with overspending.\n",
        "\n",
        "The raw data was relatively clean. Only 4 variables exhibited 1-2% outliers, which could be validated as genuine through cross-validation with other variables. Additionally, 3% of the records had missing values, primarily in the *revol_util* and *emp_length* fields.\n",
        "\n",
        "To optimize model performance, we implemented several strategies: imputing missing values with the average or a new class, capping outliers at the 99th percentile, encoding categorical variables, removing variables that could cause data leakage or were highly correlated with other variables, and standardizing data when necessary.\n",
        "\n",
        "In terms of default predictions, the Random Forest model had the best performance, correctly identifying 72% of fully-paid loans and 63% of defaults. The most critical features influencing borrower defaults were loan term and interest rate, alongside the borrower's grade.\n",
        "\n",
        "For predicting interest rates, Lasso regression was most effective, demonstrating a low error rate of 6%. This strong model performance was likely due to the significant influence of borrowers' credit characteristics on interest rates."
      ],
      "metadata": {
        "id": "R6xvdelbNfTC"
      }
    },
    {
      "cell_type": "markdown",
      "metadata": {
        "id": "6i4_pK0N3ETd"
      },
      "source": [
        "# Part 6 : Future improvement"
      ]
    },
    {
      "cell_type": "markdown",
      "source": [
        "1. To enhance the performance of default prediction models, we could weight the sample defaulted based on the potential profit loss from incorrect predictions of defaults vs fully-paid, rather than merely weighting by the its sample size vs that of fully-paid.\n",
        "\n",
        "2. Instead of merely modeling whether a loan defaults, we could focus on predicting the total payment LendingClub will receive. This approach would provide insights into whether to issue the full or partial loan amount to minimize risk.\n",
        "\n",
        "3. For interest rate predictions, considering only non-defaulting records might yield more conservative results. To optimize interest rates, we could employ the *optimization* module in *scipy*, applying reasonable constraints on the risk premium to maximize loan payments."
      ],
      "metadata": {
        "id": "rigf_m3kTtBe"
      }
    }
  ]
}